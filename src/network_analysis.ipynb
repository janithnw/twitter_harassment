{
 "cells": [
  {
   "cell_type": "code",
   "execution_count": 1,
   "metadata": {
    "collapsed": true
   },
   "outputs": [],
   "source": [
    "%load_ext autoreload\n",
    "%autoreload 2"
   ]
  },
  {
   "cell_type": "code",
   "execution_count": 67,
   "metadata": {
    "scrolled": true
   },
   "outputs": [
    {
     "data": {
      "text/html": [
       "        <script type=\"text/javascript\">\n",
       "        window.PlotlyConfig = {MathJaxConfig: 'local'};\n",
       "        if (window.MathJax) {MathJax.Hub.Config({SVG: {font: \"STIX-Web\"}});}\n",
       "        if (typeof require !== 'undefined') {\n",
       "        require.undef(\"plotly\");\n",
       "        requirejs.config({\n",
       "            paths: {\n",
       "                'plotly': ['https://cdn.plot.ly/plotly-latest.min']\n",
       "            }\n",
       "        });\n",
       "        require(['plotly'], function(Plotly) {\n",
       "            window._Plotly = Plotly;\n",
       "        });\n",
       "        }\n",
       "        </script>\n",
       "        "
      ]
     },
     "metadata": {},
     "output_type": "display_data"
    }
   ],
   "source": [
    "import pandas as pd\n",
    "import numpy as np\n",
    "import pickle\n",
    "import sys\n",
    "import time\n",
    "import glob\n",
    "import re\n",
    "from tqdm.notebook import trange, tqdm\n",
    "import classifier_utils as cu\n",
    "import utils\n",
    "import plotly.figure_factory as ff\n",
    "from collections import defaultdict\n",
    "import networkx as nx\n",
    "from plotly.offline import init_notebook_mode\n",
    "import plotly.offline as py\n",
    "import plotly.graph_objs as go\n",
    "init_notebook_mode(connected=True)"
   ]
  },
  {
   "cell_type": "code",
   "execution_count": 3,
   "metadata": {
    "collapsed": true
   },
   "outputs": [],
   "source": [
    "with open('user_scores_blobkbot_control_model_hate_abuse.p', 'rb') as f:\n",
    "    (control_user_scores, blockbot_user_scores) = pickle.load(f)b\n",
    "    "
   ]
  },
  {
   "cell_type": "code",
   "execution_count": 22,
   "metadata": {
    "collapsed": true
   },
   "outputs": [],
   "source": [
    "with open('model_hate_abuse_dataset.p', 'rb') as f:\n",
    "    model, classes = pickle.load(f)"
   ]
  },
  {
   "cell_type": "code",
   "execution_count": 11,
   "metadata": {
    "collapsed": true
   },
   "outputs": [],
   "source": [
    "harassing_users = [str(u) for u, v in blockbot_user_scores.items() if v[0] > 0.5]"
   ]
  },
  {
   "cell_type": "code",
   "execution_count": 70,
   "metadata": {
    "collapsed": true
   },
   "outputs": [],
   "source": [
    "with open('../data/senete_harrassing_users.p', 'rb') as f:\n",
    "    (senete_harrassing_users, senete_harrassing_users_list) = pickle.load(f)"
   ]
  },
  {
   "cell_type": "code",
   "execution_count": 72,
   "metadata": {},
   "outputs": [],
   "source": [
    "user_tweets = utils.load_user_tweets_by_name('../data/harassers_from_targetted', senete_harrassing_users_list, text_only=False)"
   ]
  },
  {
   "cell_type": "code",
   "execution_count": 18,
   "metadata": {
    "collapsed": true
   },
   "outputs": [],
   "source": [
    "user_tweets = utils.load_user_tweets_by_name('../data/BBlevel1_user_tweets', harassing_users, text_only=False)"
   ]
  },
  {
   "cell_type": "code",
   "execution_count": 73,
   "metadata": {},
   "outputs": [
    {
     "name": "stderr",
     "output_type": "stream",
     "text": [
      "/usr/lib/python3.6/re.py:212: FutureWarning:\n",
      "\n",
      "split() requires a non-empty pattern match.\n",
      "\n"
     ]
    }
   ],
   "source": [
    "G = nx.DiGraph()\n",
    "for _, tweets in user_tweets.items():\n",
    "    tweets = [t for t in tweets if t.in_reply_to_status_id]\n",
    "    texts = [t.text for t in tweets]\n",
    "    p = model.predict_proba(texts)[0][:, 1]\n",
    "    tweets = np.array(tweets)\n",
    "    tweets = tweets[p > 0.7]\n",
    "    \n",
    "    for t in tweets:\n",
    "        if G.has_edge(t.user.screen_name, t.in_reply_to_screen_name):\n",
    "            G[t.user.screen_name][t.in_reply_to_screen_name]['weight'] += 1\n",
    "            G[t.user.screen_name][t.in_reply_to_screen_name]['tweets'].append(t.text)\n",
    "        else:\n",
    "            G.add_edge(t.user.screen_name, t.in_reply_to_screen_name, weight=1)\n",
    "            G[t.user.screen_name][t.in_reply_to_screen_name]['tweets'] = [t.text]"
   ]
  },
  {
   "cell_type": "code",
   "execution_count": 77,
   "metadata": {
    "collapsed": true
   },
   "outputs": [],
   "source": [
    "senate_target_users = [\n",
    "    'SenHydeSmith',\n",
    "    'SenTinaSmith',\n",
    "    'gillibrandny',\n",
    "    'SenJackyRosen',\n",
    "    'SenCortezMasto',\n",
    "    'SenKamalaHarris',\n",
    "    'SenMcSallyAZ',\n",
    "    'SenJoniErnst',\n",
    "    'SenatorSinema',\n",
    "    'SenatorBaldwin',\n",
    "    'SenatorFischer',\n",
    "    'SenDuckworth',\n",
    "    'SenWarren',\n",
    "    'SenatorHassan',\n",
    "    'SenFeinstein',\n",
    "    'PattyMurray',\n",
    "    'MarshaBlackburn',\n",
    "    'SenCapito',\n",
    "    'SenatorCantwell',\n",
    "    'SenatorShaheen',\n",
    "    'maziehirono',\n",
    "    'SenStabenow',\n",
    "    'SenAmyKlobuchar',\n",
    "    'SenatorCollins',\n",
    "    'lisamurkowski'\n",
    "]"
   ]
  },
  {
   "cell_type": "code",
   "execution_count": 87,
   "metadata": {},
   "outputs": [],
   "source": [
    "for n in G.nodes:\n",
    "    if n in senete_harrassing_users_list:\n",
    "        G.nodes[n]['type'] = 'harasser'\n",
    "    if n in senate_target_users:\n",
    "        G.nodes[n]['type'] = 'victim'"
   ]
  },
  {
   "cell_type": "code",
   "execution_count": 89,
   "metadata": {},
   "outputs": [],
   "source": [
    "nx.write_gml(G, \"senete.gml\")"
   ]
  },
  {
   "cell_type": "code",
   "execution_count": 62,
   "metadata": {
    "scrolled": true
   },
   "outputs": [],
   "source": [
    "\n",
    "\n"
   ]
  }
 ],
 "metadata": {
  "kernelspec": {
   "display_name": "Python 3",
   "language": "python",
   "name": "python3"
  },
  "language_info": {
   "codemirror_mode": {
    "name": "ipython",
    "version": 3
   },
   "file_extension": ".py",
   "mimetype": "text/x-python",
   "name": "python",
   "nbconvert_exporter": "python",
   "pygments_lexer": "ipython3",
   "version": "3.6.8"
  }
 },
 "nbformat": 4,
 "nbformat_minor": 2
}
