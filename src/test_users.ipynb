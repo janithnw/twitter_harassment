{
 "cells": [
  {
   "cell_type": "code",
   "execution_count": 27,
   "metadata": {},
   "outputs": [
    {
     "name": "stdout",
     "output_type": "stream",
     "text": [
      "The autoreload extension is already loaded. To reload it, use:\n",
      "  %reload_ext autoreload\n"
     ]
    }
   ],
   "source": [
    "%load_ext autoreload\n",
    "%autoreload 2"
   ]
  },
  {
   "cell_type": "code",
   "execution_count": 47,
   "metadata": {},
   "outputs": [
    {
     "data": {
      "text/html": [
       "        <script type=\"text/javascript\">\n",
       "        window.PlotlyConfig = {MathJaxConfig: 'local'};\n",
       "        if (window.MathJax) {MathJax.Hub.Config({SVG: {font: \"STIX-Web\"}});}\n",
       "        if (typeof require !== 'undefined') {\n",
       "        require.undef(\"plotly\");\n",
       "        requirejs.config({\n",
       "            paths: {\n",
       "                'plotly': ['https://cdn.plot.ly/plotly-latest.min']\n",
       "            }\n",
       "        });\n",
       "        require(['plotly'], function(Plotly) {\n",
       "            window._Plotly = Plotly;\n",
       "        });\n",
       "        }\n",
       "        </script>\n",
       "        "
      ]
     },
     "metadata": {},
     "output_type": "display_data"
    }
   ],
   "source": [
    "import warnings\n",
    "import pandas as pd\n",
    "import numpy as np\n",
    "import pickle\n",
    "import sys\n",
    "import time\n",
    "import glob\n",
    "import re\n",
    "import os.path\n",
    " \n",
    "from tqdm.notebook import trange, tqdm\n",
    "import tweepy\n",
    "# from sklearn.model_selection import cross_validate\n",
    "from sklearn.metrics import classification_report\n",
    "from sklearn.model_selection import train_test_split\n",
    "import classifier_utils as cu\n",
    "\n",
    "from plotly.offline import init_notebook_mode\n",
    "import plotly.offline as py\n",
    "import plotly.graph_objs as go\n",
    "init_notebook_mode(connected=True)\n",
    "warnings.filterwarnings(action='once')"
   ]
  },
  {
   "cell_type": "code",
   "execution_count": 48,
   "metadata": {
    "collapsed": true
   },
   "outputs": [],
   "source": [
    "def load_user_tweets(directory, limit=None):\n",
    "    user_tweets = {}\n",
    "    i = 0\n",
    "    for f in glob.glob(directory + '/*.p'):\n",
    "        uid = int(re.findall(r'\\d+', f.replace(directory, ''))[0])\n",
    "        with open(f, 'rb') as file:\n",
    "            tweets = pickle.load(file)\n",
    "        texts = [t.text for t in tweets if not hasattr(t, 'retweeted_status')]\n",
    "        user_tweets[uid] = texts\n",
    "        i += 1\n",
    "        if limit is not None and i > limit:\n",
    "            break\n",
    "    return user_tweets\n",
    "\n",
    "def load_user_tweets_by_name(directory, usernames):\n",
    "    user_tweets = {}\n",
    "    for u in usernames:\n",
    "        path = directory + '/' + u + '.p'\n",
    "        if not os.path.isfile(path):\n",
    "            continue\n",
    "        with open(path, 'rb') as file:\n",
    "            tweets = pickle.load(file)\n",
    "        texts = [t.text for t in tweets if not hasattr(t, 'retweeted_status')]\n",
    "        user_tweets[u] = texts\n",
    "    return user_tweets"
   ]
  },
  {
   "cell_type": "code",
   "execution_count": 28,
   "metadata": {},
   "outputs": [
    {
     "data": {
      "text/plain": [
       "1"
      ]
     },
     "execution_count": 28,
     "metadata": {},
     "output_type": "execute_result"
    }
   ],
   "source": [
    "1"
   ]
  },
  {
   "cell_type": "code",
   "execution_count": null,
   "metadata": {
    "collapsed": true
   },
   "outputs": [],
   "source": [
    "user_tweets = load_user_tweets('../data/BBlevel1_user_tweets', limit=5000)"
   ]
  },
  {
   "cell_type": "code",
   "execution_count": null,
   "metadata": {
    "collapsed": true
   },
   "outputs": [],
   "source": [
    "naziblkr_user_tweets = load_user_tweets('../data/NaziBlocker_user_tweets/', limit=5000)"
   ]
  },
  {
   "cell_type": "code",
   "execution_count": 53,
   "metadata": {
    "collapsed": true
   },
   "outputs": [],
   "source": [
    "control_user_tweets = load_user_tweets('../data/control_user_tweets2', limit=5000)"
   ]
  },
  {
   "cell_type": "code",
   "execution_count": 78,
   "metadata": {
    "scrolled": true
   },
   "outputs": [
    {
     "name": "stderr",
     "output_type": "stream",
     "text": [
      "/usr/local/lib/python3.6/dist-packages/ipykernel_launcher.py:22: ResourceWarning:\n",
      "\n",
      "unclosed <ssl.SSLSocket fd=71, family=AddressFamily.AF_INET, type=2049, proto=6, laddr=('128.238.147.119', 34534), raddr=('104.244.42.130', 443)>\n",
      "\n",
      "/usr/local/lib/python3.6/dist-packages/ipykernel_launcher.py:22: ResourceWarning:\n",
      "\n",
      "unclosed <ssl.SSLSocket fd=39, family=AddressFamily.AF_INET, type=2049, proto=6, laddr=('128.238.147.119', 34536), raddr=('104.244.42.130', 443)>\n",
      "\n",
      "/usr/local/lib/python3.6/dist-packages/ipykernel_launcher.py:22: ResourceWarning:\n",
      "\n",
      "unclosed <ssl.SSLSocket fd=41, family=AddressFamily.AF_INET, type=2049, proto=6, laddr=('128.238.147.119', 34538), raddr=('104.244.42.130', 443)>\n",
      "\n",
      "/usr/local/lib/python3.6/dist-packages/ipykernel_launcher.py:22: ResourceWarning:\n",
      "\n",
      "unclosed <ssl.SSLSocket fd=47, family=AddressFamily.AF_INET, type=2049, proto=6, laddr=('128.238.147.119', 34544), raddr=('104.244.42.130', 443)>\n",
      "\n",
      "/usr/local/lib/python3.6/dist-packages/ipykernel_launcher.py:22: ResourceWarning:\n",
      "\n",
      "unclosed <ssl.SSLSocket fd=45, family=AddressFamily.AF_INET, type=2049, proto=6, laddr=('128.238.147.119', 34546), raddr=('104.244.42.130', 443)>\n",
      "\n",
      "/usr/local/lib/python3.6/dist-packages/ipykernel_launcher.py:22: ResourceWarning:\n",
      "\n",
      "unclosed <ssl.SSLSocket fd=46, family=AddressFamily.AF_INET, type=2049, proto=6, laddr=('128.238.147.119', 34548), raddr=('104.244.42.130', 443)>\n",
      "\n",
      "/usr/local/lib/python3.6/dist-packages/ipykernel_launcher.py:22: ResourceWarning:\n",
      "\n",
      "unclosed <ssl.SSLSocket fd=48, family=AddressFamily.AF_INET, type=2049, proto=6, laddr=('128.238.147.119', 34550), raddr=('104.244.42.130', 443)>\n",
      "\n",
      "/usr/local/lib/python3.6/dist-packages/ipykernel_launcher.py:22: ResourceWarning:\n",
      "\n",
      "unclosed <ssl.SSLSocket fd=49, family=AddressFamily.AF_INET, type=2049, proto=6, laddr=('128.238.147.119', 34552), raddr=('104.244.42.130', 443)>\n",
      "\n",
      "/usr/local/lib/python3.6/dist-packages/ipykernel_launcher.py:22: ResourceWarning:\n",
      "\n",
      "unclosed <ssl.SSLSocket fd=50, family=AddressFamily.AF_INET, type=2049, proto=6, laddr=('128.238.147.119', 34554), raddr=('104.244.42.130', 443)>\n",
      "\n",
      "/usr/local/lib/python3.6/dist-packages/ipykernel_launcher.py:22: ResourceWarning:\n",
      "\n",
      "unclosed <ssl.SSLSocket fd=51, family=AddressFamily.AF_INET, type=2049, proto=6, laddr=('128.238.147.119', 34556), raddr=('104.244.42.130', 443)>\n",
      "\n",
      "/usr/local/lib/python3.6/dist-packages/ipykernel_launcher.py:22: ResourceWarning:\n",
      "\n",
      "unclosed <ssl.SSLSocket fd=52, family=AddressFamily.AF_INET, type=2049, proto=6, laddr=('128.238.147.119', 34558), raddr=('104.244.42.130', 443)>\n",
      "\n",
      "/usr/local/lib/python3.6/dist-packages/ipykernel_launcher.py:22: ResourceWarning:\n",
      "\n",
      "unclosed <ssl.SSLSocket fd=53, family=AddressFamily.AF_INET, type=2049, proto=6, laddr=('128.238.147.119', 34560), raddr=('104.244.42.130', 443)>\n",
      "\n",
      "/usr/local/lib/python3.6/dist-packages/ipykernel_launcher.py:22: ResourceWarning:\n",
      "\n",
      "unclosed <ssl.SSLSocket fd=54, family=AddressFamily.AF_INET, type=2049, proto=6, laddr=('128.238.147.119', 34562), raddr=('104.244.42.130', 443)>\n",
      "\n",
      "/usr/local/lib/python3.6/dist-packages/ipykernel_launcher.py:22: ResourceWarning:\n",
      "\n",
      "unclosed <ssl.SSLSocket fd=55, family=AddressFamily.AF_INET, type=2049, proto=6, laddr=('128.238.147.119', 34564), raddr=('104.244.42.130', 443)>\n",
      "\n",
      "/usr/local/lib/python3.6/dist-packages/ipykernel_launcher.py:22: ResourceWarning:\n",
      "\n",
      "unclosed <ssl.SSLSocket fd=56, family=AddressFamily.AF_INET, type=2049, proto=6, laddr=('128.238.147.119', 34566), raddr=('104.244.42.130', 443)>\n",
      "\n",
      "/usr/local/lib/python3.6/dist-packages/ipykernel_launcher.py:22: ResourceWarning:\n",
      "\n",
      "unclosed <ssl.SSLSocket fd=57, family=AddressFamily.AF_INET, type=2049, proto=6, laddr=('128.238.147.119', 34568), raddr=('104.244.42.130', 443)>\n",
      "\n",
      "/usr/local/lib/python3.6/dist-packages/ipykernel_launcher.py:22: ResourceWarning:\n",
      "\n",
      "unclosed <ssl.SSLSocket fd=58, family=AddressFamily.AF_INET, type=2049, proto=6, laddr=('128.238.147.119', 34570), raddr=('104.244.42.130', 443)>\n",
      "\n",
      "/usr/local/lib/python3.6/dist-packages/ipykernel_launcher.py:22: ResourceWarning:\n",
      "\n",
      "unclosed <ssl.SSLSocket fd=59, family=AddressFamily.AF_INET, type=2049, proto=6, laddr=('128.238.147.119', 34572), raddr=('104.244.42.130', 443)>\n",
      "\n",
      "/usr/local/lib/python3.6/dist-packages/ipykernel_launcher.py:22: ResourceWarning:\n",
      "\n",
      "unclosed <ssl.SSLSocket fd=60, family=AddressFamily.AF_INET, type=2049, proto=6, laddr=('128.238.147.119', 34574), raddr=('104.244.42.130', 443)>\n",
      "\n",
      "/usr/local/lib/python3.6/dist-packages/ipykernel_launcher.py:22: ResourceWarning:\n",
      "\n",
      "unclosed <ssl.SSLSocket fd=61, family=AddressFamily.AF_INET, type=2049, proto=6, laddr=('128.238.147.119', 34576), raddr=('104.244.42.130', 443)>\n",
      "\n"
     ]
    }
   ],
   "source": [
    "senete_harrasing_user_tweets = load_user_tweets_by_name('../data/harassers_from_targetted', usernames=harrassing_users_list)"
   ]
  },
  {
   "cell_type": "code",
   "execution_count": 6,
   "metadata": {},
   "outputs": [
    {
     "name": "stderr",
     "output_type": "stream",
     "text": [
      "/usr/local/lib/python3.6/dist-packages/ipykernel_launcher.py:1: ResourceWarning:\n",
      "\n",
      "unclosed file <_io.BufferedReader name='../models/model_toxic_comments_dataset_severe_toxic.p'>\n",
      "\n"
     ]
    }
   ],
   "source": [
    "p = pickle.load(open('../models/model_toxic_comments_dataset_severe_toxic.p', 'rb'))"
   ]
  },
  {
   "cell_type": "code",
   "execution_count": null,
   "metadata": {
    "collapsed": true
   },
   "outputs": [],
   "source": [
    "naziblkr_user_scores = {}\n",
    "for uid, tweets in naziblkr_user_tweets.items():\n",
    "    if len(tweets) < 500 or uid in user_scores:\n",
    "        continue\n",
    "    preds = p.predict_proba(tweets)[:, 1]\n",
    "    \n",
    "    frac = (preds > 0.8).sum() / len(preds)\n",
    "    if frac > 0.01:\n",
    "        print(np.array(tweets)[preds > 0.8])\n",
    "    naziblkr_user_scores[uid] = frac"
   ]
  },
  {
   "cell_type": "code",
   "execution_count": null,
   "metadata": {
    "collapsed": true
   },
   "outputs": [],
   "source": [
    "# user_scores = {}\n",
    "for uid, tweets in tqdm(user_tweets.items()):\n",
    "    if len(tweets) < 500 or uid in user_scores:\n",
    "        continue\n",
    "    preds = p.predict_proba(tweets)[:, 1]\n",
    "    \n",
    "    frac = (preds > 0.8).sum() / len(preds)\n",
    "    if frac > 0.01:\n",
    "        print(np.array(tweets)[preds > 0.8])\n",
    "    user_scores[uid] = frac"
   ]
  },
  {
   "cell_type": "code",
   "execution_count": 54,
   "metadata": {
    "scrolled": true
   },
   "outputs": [
    {
     "name": "stderr",
     "output_type": "stream",
     "text": [
      "/usr/lib/python3.6/re.py:212: FutureWarning:\n",
      "\n",
      "split() requires a non-empty pattern match.\n",
      "\n"
     ]
    },
    {
     "name": "stdout",
     "output_type": "stream",
     "text": [
      "1084592826917310469 0.013811123553564763 ['@pjmsexyy fucking i' '@yvesaintseokjin FUCKING HES'\n",
      " 'WHAT THE FUCK IS IT DOING CMON'\n",
      " 'HERE WE FUCKING GO https://t.co/o0YV8jgnn1'\n",
      " 'BOYZ WITH FUN IS ON EVERYONE SHUT THE FUCK UP'\n",
      " 'fuck you park jimin. you know i never really thought i’d have to tweet this but i cant believe this bitch has the r… https://t.co/svJtIUBep5'\n",
      " '@rainjinsol RIGHT* YOU SUCK AT SPELLING'\n",
      " 'ATEEZ IS PLAYING AT MAMA HOLY FUCK FUCK FUCK'\n",
      " 'the PRETTIEST fucking human shut up https://t.co/sXA2BE6iIJ'\n",
      " 'why did i laugh so fucking hard omg https://t.co/HoRMyuL6Yg'\n",
      " 'IVE BECOME SL FUCKINF SOFT WHAT THE FUCK DO I DK NOW'\n",
      " 'don’t mind me while i lose my shit ab how fucking adorable my baby is https://t.co/hyE6N4i0Js'\n",
      " 'i cant watch bv until THIS WEEKEND WHAT THE FUCK'\n",
      " 'can jimin pls post i MISS HIM WHAT THE FUCK NAJFNS'\n",
      " 'yea ok fuck this i’m going to bed.'\n",
      " '@CHlMSJJK YES WHAT THE FUCKING FUCK'\n",
      " '@CHlMSJJK fuck u, crackers r mines'\n",
      " '@CHlMSJJK NO WHAT THE FUCK U WAS WXCJRED'\n",
      " '@CHlMSJJK bc you fucking are sexy ass bitch oh my god'\n",
      " 'why the fuck am i so stupid' '@lickmybts serena shut the FUCK UP'\n",
      " '@OH_mes2 fuck off im sad bye'\n",
      " 'ok fuck you too jungkook it’s fine https://t.co/Pwpp62nqZc'\n",
      " '@singularvtae @thebestpeoplew @saturxa @R0SEOUL shut the fuck up i love you'\n",
      " 'get so fucking' '@BigHitEnt fuck you'\n",
      " 'J-JIMIN?????? ARMS????????? WHAT THE FUCKING FUCK?????????? https://t.co/b1aotlKwnR'\n",
      " '@ATEEZofficial HONGJOONG WHAT THE FUCK'\n",
      " '@makeupsmyron @EuphxriaAriana @saturxa i love you guys so fucking much wow'\n",
      " 'i’m fucking crying, i’m too sensitive for online shit.'\n",
      " 'WHAT THE FUCK THEYRE SK CUTE???? https://t.co/s9TWTxQITQ'\n",
      " 'fuck off we know NDNSND https://t.co/vJIn9rtVlI'\n",
      " 'fuck fuck fuck no my eyes are already watering https://t.co/yTaH3EAIp9'\n",
      " '@ggukmal WAIT WHERES THIS FROM THE FUCK'\n",
      " '@lickmybts dude i’ll fucking rip ur eyebrows off and make you lick them, SHUT UP'\n",
      " 'HES???? SO???  FUCKING????? BEAUTIFUL?????? literally fuck u park jimin ur the reason i’m gonna be single forever https://t.co/FR5YIGPyfB'\n",
      " '@maknaechanel FUCKING I']\n",
      "3071584632 0.014512785072563926 [\"Don't fucking start!! https://t.co/a7dUZbV5Y7\"\n",
      " \"Concept cars are fucking dope y'all https://t.co/7ulMr0NKcv\"\n",
      " '@Sensei_Hyppie Okay.. so. Big fucking mood.'\n",
      " '@TebogoIII @NdlovuNf @BathandwaMooi Yes cause y’all are a fucking joke 💀😂'\n",
      " '@jenifferblopez I could fucking never 😭😭😭'\n",
      " 'I literally had a fucking stroke https://t.co/4DmErIey5u'\n",
      " 'This is shit is soooo cringy.. drop the act n fuck each other already. https://t.co/LtE5Mpzdlj'\n",
      " '@ThatNiggaNate_ This is soo good I’m fucking DEAD https://t.co/g8o1bU8utS'\n",
      " 'What a fucking NIGHT BRO.'\n",
      " '@JesusInLingerie Uhm HELLO!! What a fucking babe!!'\n",
      " 'Whose trying to treat my bitch ass like this tho!? https://t.co/ArIlQ8MtEM'\n",
      " '@vampiracee What a fucking cutie'\n",
      " 'Yo!!! Peep the fucking skills bro!! https://t.co/Ae0Y23cRXH'\n",
      " 'Another trifling ass reminder my ex wasn’t shit https://t.co/IGU1omFnNU'\n",
      " '@Thrash_Minded This shit is fucking hilarious 😂'\n",
      " 'I think I might make my life into a fucking book cause damn.. shit has been FUCKED up since I was born.'\n",
      " 'Fuck em. Fuck all of em’'\n",
      " '@ThunkSupreme First of all... you right. I’ll fuck you up.'\n",
      " '@Expersth Yo. This made me fucking CHORTLE!! Lmfaooo 💀💀💀'\n",
      " 'I’m so fucked up bro.. it’s only 2pm. What a piece of shit I am'\n",
      " 'Oh wow. I just seen a whole ass pack of fucking RACCOONS nibbling in front of my neighbors house bro. What is life!!!? 💀😂😂']\n",
      "3074250784 0.031746031746031744 ['shit b weird.'\n",
      " 'i might as well say fuck my shit in storage it’s been two months'\n",
      " 'they fucking drugged me' 'this bitch just gave me 3 fucking needles😔'\n",
      " 'weird shit.' 'i ain’t w that gay shit' 'i don’t even eat want that shit'\n",
      " 'don’t ever try to belittle me, now I don’t fuck you.'\n",
      " '@bombassZee rs fuck that shit😂😂😂'\n",
      " 'he fucked up saying he 39, bitch you should’ve lied💀💀'\n",
      " 'bitches be dumb as shit &amp; i can’t fuck with dumb bitches'\n",
      " 'shit is sad atp😂😂😂'\n",
      " '@takeMIA_way bitch i’ll go without you fuck you how about that'\n",
      " '@takeMIA_way you a huff ass bitch'\n",
      " 'i will smack the shit out that bitch'\n",
      " 'Back to being a mean ass bitch who don’t care about shit 🖕🏽']\n",
      "357524220 0.018820577164366373 ['The thought of a crowd of people doing jazz hands instead of clapping is absolutely fucking brilliant 😂😂😂😂😂'\n",
      " 'Do the roar kid backs out a fucking sieve😂😂😭😭 https://t.co/VpNQkJDDpR'\n",
      " '@DevonPerkins9 Fuck off' '@leonsomething Was a shit day'\n",
      " 'Semi fucking final mate 😍😍😍'\n",
      " \"He fucking couldn't https://t.co/aNs7K5Qdno\"\n",
      " 'Sterling goal, 4-1, And its fucking coming home!!!!!'\n",
      " \"Arsenal letting Wilshere go is complete bullshit, Hands down the best English midfielder in years. If you don't agree go fuck yourself\"\n",
      " \"@leonsomething they can all go fuck themselves mate I'm done with them...\"\n",
      " 'Fuck me man the paper in this villa is of the fucking chain'\n",
      " '@ellie_lyme @racheldyerson I am the mo fucking vibe bruh'\n",
      " 'Nah fuck you Wenger' 'Nah bruv. This is a joke. This fucking defence'\n",
      " 'Fuck sake' 'Why is Kane taking free kicks? Fuck sake'\n",
      " 'Nah fuck off 😂😂😂😂😂😂😂😂😂 https://t.co/yG9i0QZXBX'\n",
      " 'Fuck Fabregas, fuck Costa, fuck Mike Dean, and fuck any Chelsea supporter'\n",
      " '@RyanFostr fuck off 😂😂😂😂😂'\n",
      " \"How many times I gotta tell that ass to come over, I'll fuck you right, have you walking from side to side 🎵👀💥😶\"\n",
      " '@mollywinn98 Go fucking get one then'\n",
      " 'HOW WAS THAT A FUCKING DIVE!!! Ref you cunt'\n",
      " '@ConnorNewman5 Fuck off 😂😂😂' '@DJANGO_PD Shut the fuck up'\n",
      " '@DJANGO_PD Sort your fucking phone out im tryna reach you'\n",
      " \"Ain't nobody fucking with my Clique💪💨 The Webster's stand strong❤️🔒 http://t.co/pRWZ5SXL3T\"\n",
      " \"@ConnorNewman5 Fuck football I'm following lacrosse from now on\"\n",
      " '@ConnorNewman5 stick to selling phones you fuck boy leave the football to us ✊'\n",
      " \"Chamberlain ain't fucking about today😂🔥💨👀\"\n",
      " '@abbiecrossx @geocollison fuck off both of you 😂😂'\n",
      " \"@DJANGO_PD Yeah was fucking offside the Lino is Jose's brother\"]\n",
      "866469044609798147 0.01405152224824356 ['@brenayx fuck allat . bitch try my mama &amp; ima lash out'\n",
      " 'i gotta start checking my fucking email ..' 'oh my fucking goodnessssss'\n",
      " '@taanaiya @133Taylorr shut the fuck 😑'\n",
      " 'i keep a lot of shit bottled up :/' '@taanaiya that’s my shit 😭'\n",
      " 'ion fw that loud shit'\n",
      " '@brenayx bastard 😂. my shit poking now , you can’t even lie'\n",
      " '@jaesteezo uh , duh . unless you fucking with me :('\n",
      " 'you don’t even keep your fucking nails clean' 'fuck you'\n",
      " 'fuck me in the mirror cause he know his bitch conceited'\n",
      " '@taanaiya fuck you' 'fuck'\n",
      " '@Taavyonne @133Taylorr @OGGASBAG15 shit gone smack w some ice cream 😭'\n",
      " 'if you say you with it, why the fuck you ain’t pull up?? 🤣'\n",
      " 'i’m such a fucking screw up . wtffff'\n",
      " 'bum ass mfs . always preach about being real but ain’t shit! https://t.co/5fuAy6ZP51'\n",
      " \"why the fuck I chase a bitch when I don't even chase the liquor?\"\n",
      " '@brenayx @Taavyonne fuck you' 'might fuck around &amp; shoot 👀'\n",
      " 'i feel like shit :/' 'ion kiss ass , fuck you'\n",
      " 'i need a fucking vacation!']\n",
      "716794112440139780 0.022963367960634227 ['Bro I gagged so fucking hard on the tequila shot so fucking hard I spit that shit back out'\n",
      " 'I need someone to do that fucking coin shit on my back'\n",
      " 'Shut the fuck up' 'I use to get tight over the dumbest shit'\n",
      " 'But y’all still on that crack head ass shit https://t.co/PRBoYGyXfS'\n",
      " 'Don’t give a fuck bout shit anymore'\n",
      " 'Fuck.. def misplaced my air pods smh 😭' 'I fucking hate misplacing shit'\n",
      " 'And fuck you if you talk bad on my name / allow someone too. https://t.co/pmMNPhbxq3'\n",
      " 'Fuck EVEYONE and that’s on baby'\n",
      " '@mscicivee I said what kind of puppy you want you fucking crackhead'\n",
      " '&amp; in return they fuck you over 🤣 https://t.co/VheZArQ2zN'\n",
      " '@queen_danielann All yall bout old as fuck, still 19 😭😭'\n",
      " 'Everyone’s fucking cut.'\n",
      " 'Fuck trying to go to college no one should have to go thru this shit'\n",
      " '14 FUCKING DAYSSS'\n",
      " 'If I fuck a bitch I would be cheating because I’m in a relationship w this money'\n",
      " '@xoxo_lindato Not coming back till all the snow is gone 😇 it’s fucking April'\n",
      " 'Fuck you and anybody you rocking with'\n",
      " 'On a whole lot of me type of shit'\n",
      " 'Being in love makes you do some stupid ass shit you’d never do single'\n",
      " 'All the fucking time 😩😩 https://t.co/pWjBZXxr2P'\n",
      " 'I hate seeing females trip over anit shit guys'\n",
      " 'If you ever done anything to break my trust just know I’m saying fuck you too'\n",
      " \"That's my fucking dawg https://t.co/dR9dCKwcOt\"\n",
      " 'Niggas will think they hot shit w they patchy ass beards'\n",
      " 'You\\'re fucking your cousin so what. \"So\"......' '@timmy_trann Fuck u'\n",
      " 'Lemme find the bitch ass nigga that popped at my lil cousin smh.'\n",
      " '@ConqueredNike When they tuck that shit in 😭'\n",
      " \"Fuck a relationship I'm just tryna chill😭\"\n",
      " \"@xoxo_lindato @jenniforprez fuck you!! Tfuck!! That's mad fake\"\n",
      " 'I DONT AND WOBT CHANGE FOR NO ONE, FUCK YOU AND ALL YOUR STANDARDS GO FUCK YOURSELF'\n",
      " '@timmy_trann stay loosing your shit' 'Maaaan FUCK being sick'\n",
      " \"Maaan I just don't fucking careeeeeeeeee\"\n",
      " \"Y'all the same bitch ass niggas that complain mcdicks don't pay your uneducated ass 15 an hour to take an order\"\n",
      " 'Fuck I hate being sick'\n",
      " \"Piece of shit marines that don't deserve the fucking title\"\n",
      " 'Sick as shit' 'Idk half you lames claiming you fuck w me'\n",
      " 'Fuck the GTR Ima build the Miata']\n"
     ]
    },
    {
     "name": "stdout",
     "output_type": "stream",
     "text": [
      "179012067 0.018948365703458078 ['This my shit 🤣🤣 https://t.co/SuH4Ewq4Lf' 'Watch my shit for whet ?'\n",
      " 'Y’all be retweet some funny as shit ... keep it the fuck 🤣💪🏾'\n",
      " 'K camp new shit 🔥'\n",
      " 'My girl out hiking \\U0001f97e n shit ...... jealous af 🙄'\n",
      " 'It’s hot ass hell in Pleasanton 😓 sheeesh bitch .'\n",
      " '🤣🤣🤣 fuck , this my bitch 4L https://t.co/hqsesyKgrM'\n",
      " 'Kevin gates new shit 🔥🔥🔥'\n",
      " 'I really dislike @alliirose_  bitch ass rn 🙏🏾... on mamas 🤣🤣'\n",
      " '@alliirose_ Biiiiiitttchhh 🤣🤣 fuck you'\n",
      " '😂 he’s really fucking sucking on the screen https://t.co/QxUUjo5Jxt'\n",
      " 'This my fucking shit https://t.co/noHjLWl7s1'\n",
      " 'I’m fuck starving bitch , I left my funds at the house 🤦🏾\\u200d♀️'\n",
      " \"2 more hours then I'm off ... I can't wait bruh , a bitch is fucking starving 🙃\"\n",
      " \"@hennybuxaplenty somebody need put on a stamp on it &amp; send this bitch off cause we're fucking mastering minds 💡💡\"\n",
      " 'Who trynna fuck around tonight?? 🍻'\n",
      " '🤣🤣 Got yo ass , mike/Gary u lil dirty man bitch  https://t.co/9lQHL5XN2S'\n",
      " 'Cause nigga I smoke like a fucking choo choo train bitch ... eerday  bitch &amp; never Snapchat'\n",
      " \"Yea I'm bout to Wreck shit 🚜\"\n",
      " \"Bruh Fr , that's shit weird . Lonely ass 😂 https://t.co/S342hsIlMd\"\n",
      " \"That's fucking sick  https://t.co/WrhNnmPl1B\"\n",
      " 'If you gone sit next to me on Bart and my bag in the seat , say fucking EXCUSE ME ‼️ and not sit on my shit .. Fucking bitch 😒'\n",
      " '@Ktaylor_m lol man , straight said fuck that bitch'\n",
      " 'Fuck yasss 👏👏 they went brazy  https://t.co/7uSLsq3THt'\n",
      " 'I did this shit when I was sober😩 😂😂       “@GanjaIez: Mom: are you fucking high?\\nMe: http://t.co/6nCu8KVmV8”'\n",
      " \"“@Honeycassh: nosy bitches 👭 nosy niggas 👬” don't fuck w/ em 🙅 let em hit the tea ☕️🐸\"\n",
      " 'Imma always be eatin ah🍝💸  , fuck you thought ❓😈'\n",
      " 'Mf had levels , hills , woods , n shit ..'\n",
      " '“@Derrelly: Fuck E&amp;J” straight up ❗️🙅'\n",
      " 'The heat is so fucking funny bruh 😂'\n",
      " \"@Mobn_Attles16 @kjack_16  😦😦 Fuck y'all 😂😂😂😂🌵🌵\"\n",
      " \"@ThatSaucyKidd 😂😂 , she was fucking up tues. , if I'm packing for you why are you packing the same ass order I said I was finna do 😒\"\n",
      " 'My new bucket hat is so fucking fetch  💁😩😩😍' 'A Fuck It mentality'\n",
      " 'Kaylonii is the fucking best dude 😊 I swear' 'Fuck w/ u , stuck w/ u 👫😌'\n",
      " \"“@jjerome_: ''🍁'' is not a weed emoji. It's a fucking maple leaf you idiot.” No fuckin shit 🙆😒 😒\"\n",
      " \"That foreign teacher bitch for law is borin ass fuck  &amp; she a buzz buzz , if it ain't foreign it's borin my ass 😒\"\n",
      " \"Ion fuck w. losers , cause losers ain't never won shit 😌😤\"\n",
      " 'My best friend is fucking hilarious 😂😂✊']\n",
      "30611346 0.013784461152882205 ['@alpinitodemora Fuck it’s a trend!'\n",
      " 'OMFG!!!!! I dented the fucking hood of my car. I’m so HOT \\U0001f92c\\U0001f92c\\U0001f92c\\U0001f92c\\U0001f92c'\n",
      " 'Omg this fucking Uber driver won’t shit uppppppppppp https://t.co/DcGRnT7ffX'\n",
      " '@lilhelios I hate that you make me google shit you tweet'\n",
      " '@lilhelios Fuck. That’s 7 extra ones \\U0001f974'\n",
      " 'MILEY FUCKING CYRUS #vmas' 'This is Super Bowl levels adwork. Fuck yeah'\n",
      " 'Por me my fucking drink https://t.co/9C2VQHxulz'\n",
      " 'Next thing I know I bought another pair of fucking shoes'\n",
      " 'Fuck me, huh? https://t.co/XvL5HsmiqU'\n",
      " '“Suck my dick? A plethora” https://t.co/8rXgPOVUeQ']\n",
      "354938495 0.018591772151898733 ['@IGN GO FUCK YOURSELVES @EA'\n",
      " '@verge Go fuck yourselves. A charity pledge and you try to drag him for it?'\n",
      " \"Fuck yeah, she's leaving.\\nOh fuck, she's leaving.\"\n",
      " '@MayorofLondon Nah fuck off' '@Shell Go fuck yourselves'\n",
      " '@SeanWSS This writing, man. Fuck. https://t.co/q2lt3JqyCL' 'shit'\n",
      " 'Baby Driver is fucking amazing'\n",
      " '@KRNEmusic this fucking remix though, man. Holy shit. Bravo. https://t.co/zjMvhpszLe'\n",
      " 'The States are the fucking number 2 polluter'\n",
      " '@PlayStationEU a nice fuck you to those that preordered Horizon'\n",
      " 'fucking astralis again are you kidding me #DHLasVegas'\n",
      " 'PRINCESS LEIA IS DEAD FUCK 2016' '@PVPLive fucking hell'\n",
      " 'Dude, Westworld is so fucking good'\n",
      " \"It's fucking happening ain't it, ffs man\" 'HOLY FUCK NEW BRAND NEW SONG'\n",
      " 'seriously, the aussie music scene rn is so fucking good'\n",
      " 'Leonard Nimoy passing is still fucking me up' 'room acoustics suck ass'\n",
      " 'Holy fucking shit Mitch Murder top lines are fucking amazing'\n",
      " 'HOLY FUCKING SHIT GIVE IT UP' 'Fuck gender roles.'\n",
      " 'Jesus fucking christ'\n",
      " \"IT'S ONLY £600 FOR FLIGHTS+HOTEL IN TOKYO FOR A WEEK HOLY SHIT THIS IS HAPPENING FUCK\"\n",
      " 'His cover of Carrion is fucking incredible aswell https://t.co/CZbluIZh2i'\n",
      " 'FUCK YOU YOU FUCKING 8-BIT PIECE OF SHIT'\n",
      " '15 FUCKING YUSSSSSS FUCK YOU FLAPPY BIRD' 'FUCKING 7'\n",
      " 'This new Bury Tomorrow song is fucking tops, eh?' 'Fuck baths'\n",
      " 'All UK indie clothing companies look the fucking same'\n",
      " 'People are so fucking cliché' 'Fuck presents http://t.co/ppSIctulCD'\n",
      " 'When Dave England eats horse shit though'\n",
      " 'Ben Gordon of Parkway Drive is the sickest fucking drummer'\n",
      " '\"Twerk it: The album\" Yep, this generation is fucking shit'\n",
      " 'Boner achieved, what a fucking goal' \"I'm so fucking done hahahahaha\"\n",
      " 'What the fuck did Miley Cyrus do? She was fucking perfect http://t.co/mxtTnwXxnq'\n",
      " 'FUCKING LOAD' 'I FOUND THE FUCKING BUGATTI'\n",
      " 'FRANKLIN DID NOT BLOW HIS FUCKING COVER FRANKLIN POPPED THAT MOTHER FUCKER AKJSDGDSJKFGASF'\n",
      " 'Syd can fucking sing, wowww http://t.co/qlwFJ6X3lO'\n",
      " \"I tried my hardest, but I couldn't make you feel a fucking thing\"\n",
      " \"Fuck yo' dentist http://t.co/YwBAACiHLK\" 'The fuck?']\n",
      "550797995 0.021634615384615384 ['Holy fucking shot! De Bruyne is crazy!\\n#NEWMCI' 'Fuck yeah Pulisic!'\n",
      " 'This is, truly, the worst fucking people on the planet. Fuck these guys. Makes my blood boil https://t.co/BLG1hhBWOD'\n",
      " 'This thing is fucking beautiful. Away with the samey edge-phobic design language. This some retrofuturistic shit. https://t.co/Lz7kzLMkL6'\n",
      " 'Oh shit. He gives no fucks https://t.co/Z44lGArJxA'\n",
      " 'Man City fucking around 😂'\n",
      " 'I mean this shit is...fucking ridikulesss! \\n#CHEAJA'\n",
      " 'Willian was tryna fuck shit up for us there. WTF man'\n",
      " \"@WisemenZW @OzymandiasA Well, fuck you guys, you didn't lose\"\n",
      " '#RWCFinal2019 VAR bouta fuck shit up. That was a dope try though'\n",
      " \"Leaning by a pole outside Bata looking like drug dealer it's fucking Halloween baby!\"\n",
      " 'Puli-fucking-sic!' 'Fuck yeah! Sasha Zverev!!!'\n",
      " 'How much fucking bandwidth does the search function on Apple Music require goddamnit'\n",
      " 'Holy fucking comeback, Serena! #USOpen' 'Holy fuck Andreescu!!! #USOpen'\n",
      " '@KK_Simbarashe Get the fuck out 😂'\n",
      " \"I can't believe Joker is getting all this praise. What the actual fuck. Todd Phillips, you did it, you son of a bitch!\"\n",
      " \"Hold up mofos it's fucking happening ahhhh https://t.co/reTA0nsYwP\"\n",
      " 'Oh fuck you hear ME crying! \\n#icommai \\n#NowPlaying https://t.co/nUnPiMq6JF'\n",
      " 'That scene with Dave Franco in the warehouse was some cute shit I fucking swear. I should go to bed. If Beale Stree… https://t.co/AO0LU2Gg1O'\n",
      " 'Ha-fucking-lep!' \"Fuck. I'm yawning.\" '@KK_Simbarashe They fucking'\n",
      " 'Jürgen Klopp:\"It\\'s 10 past 10, the children are in bed. THESE MOTHERFUCKING BOIS ARE THE FUCKING SHIT MY NIGGA! Sue me!\"'\n",
      " 'Fuck yeah Luiz! Fuck yeah! #CFC #COYB'\n",
      " \"I'm not superstitious, but I'm fucking superstitious! https://t.co/MuSfCt88KZ\"]\n",
      "1020743988121427972 0.012671059300557527 ['@theJeremyVine @stormzy Fuck stormzy you Cnut.'\n",
      " '@NickBoles Shut the fuck up you duplicitous bastard!'\n",
      " '@snowleopardess And your remainer chums are fucking immortal are they? you gobshite.!'\n",
      " '@alandoh90773863 @faisalislam Go fuck yourself arsehole, what a pretentious Pratt you are. Artist my fucking arse.'\n",
      " '@campbellclaret You and your anti democratic murderous ilk are you duplicitous bastard. Now fuck off'\n",
      " '@NickBoles But MPs have proved themselves duplicitous and untrustworthy so you are asking us to trust you bastards. Go fuck yourself.'\n",
      " '@guyverhofstadt Fuck off shit stain! Do not ever comment again on our affairs.'\n",
      " '@HackedOffHugh Fuck off you brass necked bastard, the gloves are off bring it on!'\n",
      " '@CarolineLucas Don’t worry we wont forgive you either you undemocratic fuckwit. Go fuck yourself!'\n",
      " '@AsheMoor Why not France or Germany where it is so fabulous you twat. Is it the weather. Fuck off you fraud. Go fuck yourself.'\n",
      " '@guyverhofstadt Fuck off you gap toothed bastard!'\n",
      " 'Fuck off! https://t.co/l2rBxAq8Cf'\n",
      " '@ChrisLeslieMP You fucking what you knob!'\n",
      " '@SkyNews So fucking what, get on with it.'\n",
      " '@alexforeurope Shut the fuck up you absolute cunt. Fascist my arse! Counter the argument if you have got one.'\n",
      " '@domjoly @Soutiam21 @bbradleymp @AlanDuncanMP What about an overweight fucking irrelevant  fat fucking so called co… https://t.co/XofOIN5srQ'\n",
      " '@CCriadoPerez @bankofengland And you get to choose Do you you arrogant piece of shit.'\n",
      " 'Fuck knows! https://t.co/XJ2O8oxV0J'\n",
      " '@RolandRudd We cut through the confusion in June 16 you duplicitous bastard, everything else is remainer shite. Go fuck yourself.'\n",
      " '@NickBoles Let it fucking go will ya? FFS!'\n",
      " '@NazShahBfd Protection of children is Paramount you disgusting piece of shit.'\n",
      " '@NickBoles Fuck me have you stooped so low Boles to attack this woman. You are apiece of shit.'\n",
      " '@OK_Magazine @marnie @CaseyCodyJ Never fucking heard of em!'\n",
      " '@RoryStewartUK Yur off yur fucking head mate.'\n",
      " '@BBCPolitics Fuck off cyclops!']\n"
     ]
    },
    {
     "name": "stdout",
     "output_type": "stream",
     "text": [
      "286406209 0.01365328920148945 ['@savemadebyjarry god i am so LUCKYYYY you are a fucking queen 😭💕'\n",
      " '@savemadebyjarry we are so fucking cute. you are so fucking cute. i miss you so MUCH oh my GOD THIS IS SO SAD'\n",
      " 'BRO WHAT THE FUCK \\n\\nI LOOOOOOOVE SCRUBS https://t.co/oUcvwidsMi'\n",
      " '@iwillbutcheryou i fucking hate you'\n",
      " 'FIRE JOHN HYNES INTO ORBIT HOLY FUCKING SHIT I AM SO S I C K AND T I R E D OF THIS TALENTED TEAM LOOKING DAZED AND… https://t.co/8vCNBdt8p8'\n",
      " '@savemadebyjarry ❗️thats my girl holy shit ❗️'\n",
      " 'holy fucking shit. \\n\\nthe bald man did it. https://t.co/ChM3wWNlc4'\n",
      " '@NJDevils LETS FUCKING GO BOYSSSSSSSSDDD'\n",
      " 'my god.... they fucking did. THEY DID IT. GOOD LINES. https://t.co/iHnXG5hzjO'\n",
      " 'goodbye you fucking cheeto https://t.co/0b0QAkgEbV'\n",
      " 'LETS FUCKING GO BABY!!!! https://t.co/gurGOPQ77I'\n",
      " '@nhlvictoria you fucking suck you sucker'\n",
      " 'LETS FUCKING GO BOYS OH MY GODDDDDD https://t.co/qKNyW52Z8O'\n",
      " '@QuiteAligned shit the fuck up Chrysler trash'\n",
      " '@QuiteAligned really fucking sucks doesn’t it'\n",
      " 'pre work jams while I wish my final days at shoprite could go much fucking faster https://t.co/feO3OcaH1D'\n",
      " '@nhlvictoria @optimiststeez lets fucking GO BABY'\n",
      " '@GianniNJD @PKSubban1 Okay what the fuck I NEVER SAW THIS'\n",
      " '@optimiststeez @nhlvictoria this is some WHOLESOME ASS SHIT'\n",
      " 'gonna go FUCK work UP https://t.co/NZOpsruegI' 'BLAKE FUCKING COLEMAN'\n",
      " 'jesus fucking CHRIST https://t.co/NhVlAmid3V'\n",
      " 'NOOOOOO WHAT THE FUCK https://t.co/59AZxP1L8N'\n",
      " 'EMBELLISHMENT FOR FUCKING WHAT' '@optimiststeez FUCK YOUR WATER'\n",
      " 'I FUCKING LOVE THIS SONG BRO SHIT SLAPS https://t.co/56wNfJina8'\n",
      " 'Alright pumpkin pie is GARBAGE i fucking said it https://t.co/NLCSgxDo6J'\n",
      " 'oh my fucking god not this shit https://t.co/hNmmZ6p0Op'\n",
      " '@optimiststeez me fucking tooo'\n",
      " '@optimiststeez yeah &amp; he’s fucking precious what about it'\n",
      " '@anthonyczarnik aight bet fucking do it PUSSY'\n",
      " 'let’s fucking GO https://t.co/8x5Hqf8Kmz'\n",
      " '@anthonyczarnik this shit SUCKS']\n",
      "985589863 0.019251336898395723 ['a skinny fucking legend https://t.co/AYYF7UxuMA'\n",
      " 'this guy just fucking dropped his baby under the seat https://t.co/moKZVQ9QIY'\n",
      " 'my mood fucking sucks'\n",
      " 'i can’t wait to be a freaky ass bitch all scorpio season'\n",
      " '@sl3azoid_ i’m fucking wet' '@zadddyzac WISH I COULD RETWEET FUCK'\n",
      " \"you're fucking b u g g i n g \\n\\nthese were the best https://t.co/jbCJ5h5PtX\"\n",
      " 'if i lose one more fucking septum ring.........'\n",
      " 'men are fucking delusional creatures' 'i’m so fucking annoyed'\n",
      " 'and it’s a heavy fuck you.' 'fuck i love working in a kitchen'\n",
      " 'i’m gonna lose my fucking shit https://t.co/qoBcSQTX88'\n",
      " 'what the fuck is this i fucking need it https://t.co/w7J6Cyq4in'\n",
      " 'i’m so fucking glad pisces season is over.'\n",
      " '@treslechee it’s really not tho - my cats like team up to fuck shit up.'\n",
      " 'she did fucking N O T https://t.co/42iB52FJcT'\n",
      " 'fuck i love pisces risings'\n",
      " 'i should have quit my job when i had the fucking chance'\n",
      " '@THEtrlppyIoner this is fucking fantastic'\n",
      " 'the tea is piping fucking hot https://t.co/2mvyxb1r1c'\n",
      " 'i hate my fucking job'\n",
      " 'game of thrones got me fucked up already - this is some shit'\n",
      " 'like you do your fucking dad thing &amp; m u r d e r m e'\n",
      " 'i fucking love rainbow kitten surprise so goddamn much fuck'\n",
      " 'i dead ass just moved into a new house with 48 hour notice - resilience is fucking key'\n",
      " '@thatgirl_ninaa wow they can all fucking fight me'\n",
      " 'wow im fucking awkward today'\n",
      " 'okay but how the FUCK did you get so fucking cute https://t.co/h7kd9MwxKd'\n",
      " 'holy fucking shit, this is dumb true https://t.co/UHVXZ0WwAF'\n",
      " 'uhhhhh what the fuck'\n",
      " 'how scorpions love / why are aquarius so fucking cheesy https://t.co/YTDSz5HMn3'\n",
      " 'every character, as well as the development of characters, is spot fucking on https://t.co/mk1ND4ZK9a'\n",
      " 'the mountain people in ahs roanoke are fucking scary'\n",
      " 'what a fucking goddess https://t.co/O1HJbonn2C'\n",
      " 'okay bitch fuck me up https://t.co/cQ4wPQ5tGi']\n",
      "453670520 0.02586713697824809 ['What the fuck is wrong with the United States'\n",
      " '@exxtracelestial Fuck I’m going to go through a Mars return? \\U0001f92f'\n",
      " 'My fucking stripper name is chicken. Just chicken https://t.co/MRNW1dXJ77'\n",
      " '@KingDill23 @JeremyKass98 I turn into fucking Elastigirl when getting laundry from the dryer'\n",
      " '@hankgreen Fuck Pluto'\n",
      " 'All you hear is negative bullshit about becoming a mom nah bitch I’m the shit I really made a whole human'\n",
      " '@Wes_Gezy Fuck u' 'I’m fucking over my reality'\n",
      " '@Coseph_ @monks_ash Kill people, burn shit, fuck school phase ...'\n",
      " '@legallyines What’s ur Mars cause my 6th house Scorpio Mars can’t fuck w that air mars shit'\n",
      " 'I’m in denial . No fucking way'\n",
      " 'I know I’m a hot ass bitch thanks though'\n",
      " '@destinylavette @FucLinda Stupid ass bitch done fucked up. I hope the only job he can ever, ever get is some manual… https://t.co/9o7PUw3qdT'\n",
      " '@astro_puppy Bruh. Kanye isn’t even Kayne anymore. He’s a fucking propaganda tactic with 26 personalities. Don’t li… https://t.co/7CBMxRfXUY'\n",
      " '@Almighty_elias_ @ohtaytay99 Are you fucking kidding me ???? We have this thing called uhhhh THE FIRST FUCKING AMENDMENT ....'\n",
      " '@KaitMarieox It’s NYC... fuck you expect?'\n",
      " '@glossoIogy Wow... That’s a fucking loaded 1st' 'Fuck Beaker Bongs'\n",
      " 'Are you a tough bitch or a weak bitch?'\n",
      " 'I am so fucking fed up with white people. https://t.co/HLuHKVn6fx'\n",
      " 'why did i let a merc rx ruin my shit'\n",
      " 'Uranus entering Taurus being conjunct my Natal Sun right now is fucking my whole shit up...'\n",
      " 'me muting the fucking word “gorl” stfu https://t.co/IS4HrVZ34n'\n",
      " 'i love when you’re around but i fucking hate when you leave'\n",
      " 'i am fucking sick of life'\n",
      " 'This bitch a fucking STUPID ASS BITCH. Anyone ever push one of my lil brothers like that my ass going to jail for m… https://t.co/PMCqpil2zk'\n",
      " 'Seeing pictures of lil peep hurts my heart so fucking much' 'Fuck Pluto'\n",
      " 'yo own sister tryna sabotage yo relationship how that happen? some scorpio moon ass shit'\n",
      " 'why i so fucking complicated'\n",
      " 'Low key more excited for the chaos Merc is bout to bring. My Venus-Pluto needs some fuck shit'\n",
      " 'Fuck you Mercury' 'I fucking miss the desert damn'\n",
      " 'Shut the fuck up, I don’t want your conversation'\n",
      " 'Fuck the Sun/Merc/Venus in Pisces ...\\nbut really FUCK the Moon in Cancer right now'\n",
      " 'God my Venus-Pluto opposition fucking sucks.'\n",
      " 'tell ya new bitch she can suck a dick'\n",
      " 'Fuck a Venus/Pluto opposition shit gmfu'\n",
      " 'So what the fuck is up with this 1° shit?'\n",
      " 'Fuck Trump https://t.co/uUofOPOmxG'\n",
      " \"holy fuck.... i can't believe this shit about Lil Peep\"\n",
      " 'lil boys picking the wrong bitch to fuck with'\n",
      " '@jacqueelynn you run shit girl fucking power girl .'\n",
      " \"y'all don't even know who the fuck you are fucking with so test me .\"]\n",
      "304762095 0.012411347517730497 ['Fuck lol😬' '@lyynnwuu That shit way too accurate😂😂😂😂'\n",
      " 'USWNT always killin shit'\n",
      " 'That shit is irritating https://t.co/2jaIaFxYkY' 'Fuck'\n",
      " 'Lookin like shit'\n",
      " 'Uber/Lyft drives cancel my trip they should have to venmo me 3 dollars to fuck you mean'\n",
      " 'Fuck man😭 https://t.co/KEiG937k7y'\n",
      " 'Fuck them kids https://t.co/F4Bv4ZgJoU' 'Fuck🤦🏾\\u200d♂️'\n",
      " 'Feel like shit' 'Fuck England' 'Fuck Love'\n",
      " '@yaadadaa They damn near a top 5 fruit.. I just hate that shit on pizza']\n",
      "817719860 0.02462330025725836 ['What a fucking implosion by an entire football team'\n",
      " '@stoolpresidente Get YouTube TV you fuck'\n",
      " 'Fuck state https://t.co/CHsrJqt1AV'\n",
      " 'It’s fucking bags https://t.co/sLN9bFQj8r'\n",
      " '@moniiibtw The fuck you can’t?'\n",
      " '@the__snowflake_ @CJJones_00 @chancejones8 Can you fucking imagine'\n",
      " '@roughnrowdy Who the fuck is Rachel Bush?'\n",
      " 'Fuck https://t.co/DNGe2gEhqB' 'Taco Bell is fucking trash don’t @ me'\n",
      " '@cejohnson18 @MikaylaR_Watson ACCUSED. What the fuck don’t you dumbfucks understand. HE IS NOT GUILTY OF ANY CRIME. You are an ass clown.'\n",
      " 'BRO HOW THE FUCK DID THIS GET 16,000 RETWEET’S ¿¿¿ https://t.co/Mztm5KMBbb'\n",
      " 'Hide your boner it’s fucking game day in Iowa City🏈🐤'\n",
      " '@ryanhealy @Barnacules Can’t you just fucking laugh? No one was hurt except for the dipshit that stole the fucker.… https://t.co/14P4dHZBvt'\n",
      " 'Fuck a fake friend where ya real friends at'\n",
      " '@realDonaldTrump Just shut the fuck up'\n",
      " '@ColinCowherd Yeah well you can eat shit'\n",
      " 'Jay Cutlers cleats just don’t fucking match'\n",
      " '@PickledGiraffe pretty fucking funny you think you can fuck my prom date'\n",
      " '@CaitlinCShelton you fucking talked the whole time anyway'\n",
      " '@PickledGiraffe Guess the fucking time ran out than!' 'Fuck Denmark'\n",
      " 'I took a shit in Ibiza 🎶' 'Go fuck yourself'\n",
      " '@AllisonLauren18 @ me fucking pussy' 'Prom is a fucking joke'\n",
      " 'Fucking pile of shit' 'Fuck that' 'Fuck' 'fuck you'\n",
      " 'Hey Woodbury how about you make a fucking LAYUP.'\n",
      " 'Tristen fucking Kautman! #hesafreshman' '@carlie_hyde bull fucking shit'\n",
      " 'Holy shit Fuck' 'Oh now Michigan State fucked up? Fuck off espn'\n",
      " 'Michigan State can go fuck itself. Good game hawks.'\n",
      " 'These refs are fucking trash.'\n",
      " '@SprtsShtNo1Says you are a fucking douschebag'\n",
      " 'Jake Rudock fucking sucks. Put in Beatherd.' 'God fucking damnit.'\n",
      " '@SethHeying you fuck' 'This is fucking pathetic.' 'FUCKING REBOUND'\n",
      " 'Fuck Nebraska. #GoHawks' \"Oregon: What's this losing shit?\"\n",
      " 'To #oomf : fuck you' 'Fuck heat. Fuck humidity. Fuck.' 'Dis shit crayyy'\n",
      " 'Gary Neal is a lucky piece of shit.' 'Holy shit Dwayne Wade!'\n",
      " 'Holy fucking shit. THE MIAMI HEAT!!!!!' 'now im fucking pissed.'\n",
      " 'Cee-Lo Green looks like a fucking mentally retarded gangster.'\n",
      " \"@BestProAdvice He's the fucking president.\"\n",
      " '@masadayy Shut the fuck up u dumb fucking ass. #gay'\n",
      " '@CarlaMaye27 shut the fuck up dont ever talk to me again'\n",
      " \"Anyone else's internet taking a shit at their house?\"\n",
      " 'Josey Jewell is fucking fast. #ohshit'\n",
      " '420 is over so SHUT THE FUCK UP.' 'dude fuck the weather'\n",
      " 'Seriously fuck off rain.'\n",
      " 'When your computer goes into \"Fuck Off\\' mode &lt;&lt;&lt;&lt;'\n",
      " 'whats up with this nasty twitter name shit' 'HAIL FUCK,'\n",
      " 'Fuck yeah here we go!!' '@autmiene fucking snapped in half'\n",
      " 'Holy-Fucking-Shit. TREY BURKE!!!!'\n",
      " '\"Lil Bosh\" These announcers are seriously fucking retarded.']\n"
     ]
    },
    {
     "name": "stdout",
     "output_type": "stream",
     "text": [
      "45354512 0.018223234624145785 ['What a sad fucking bitch and a waste of good air.\\U0001f92c\\U0001f92c https://t.co/MVMtSVDWWc'\n",
      " 'Fucking cruel bastards https://t.co/IoXXrdSpLz'\n",
      " 'Lowlife piece of shit. https://t.co/dYakrhs6nB'\n",
      " 'This is fucking disgusting. Breaks your heart. 💔💔😭 https://t.co/T5MFYY2qTb'\n",
      " 'Lowlife piece of shit! https://t.co/TMndqG9rbV'\n",
      " 'What a fucking lowlife piece of shit! https://t.co/dQGL91Zpkl'\n",
      " 'Has this moronic piece of shit been charged? https://t.co/0qBhK19fo1'\n",
      " 'Moronic, lowlife piece of shit. \\U0001f92c\\U0001f92c\\U0001f92c\\U0001f92c https://t.co/CbM7JhEdU5'\n",
      " 'Still a cruel fucking bitch though. https://t.co/8axkXm9eKD'\n",
      " 'Sick doesn’t describe the evil piece of shit. https://t.co/9kHd9zRNQB'\n",
      " 'Fucking lowlife piece of shit.  \\U0001f92c\\U0001f92c\\U0001f92c https://t.co/EaqQruvR6i'\n",
      " 'Oh he fucking will, will he? What a twat. \\U0001f92c https://t.co/YzryRF9VmP'\n",
      " 'Disgusting piece of lowlife shit. \\U0001f92c\\U0001f92c\\U0001f92c https://t.co/6NHoTnsNlg'\n",
      " 'Fucking sub human bitch https://t.co/3LQrr00LtS'\n",
      " 'What a fucking bitch. The woman not the dog. \\U0001f92c\\U0001f92c\\U0001f92c https://t.co/9WhKtRa1Mj'\n",
      " 'Moronic fucking bastards!!\\U0001f92c https://t.co/Dc2fulyLtX'\n",
      " 'WTF do these moronic pieces of shit get out of this?\\U0001f92c\\U0001f92c https://t.co/FzRRc1cXzj'\n",
      " 'WTF. Why can’t we expose low life pieces of shit like this? https://t.co/S0TNYoaPmA'\n",
      " 'What an absolute pathetic piece of lowlife shit \\U0001f92c\\U0001f92c\\U0001f92c https://t.co/01hAcE8DeZ'\n",
      " 'Lowlife piece of shit and a damn waste of good oxygen\\U0001f92c\\U0001f92c\\U0001f92c https://t.co/7fxdBBUKWv'\n",
      " 'We’ve got to find this lowlife piece of shit. \\U0001f92c https://t.co/p9wzHoDXWj'\n",
      " 'Once again, far too kind. They are just lowlife pieces of fucking shit. https://t.co/6QmbfE5Yit'\n",
      " 'Bastards, bastards, bastards. What is wrong with these fucking morons? https://t.co/5UCobw3flr'\n",
      " 'I’d love to meet that fucking bastard punching that animal. Come you gutless piece of shit get in touch with me har… https://t.co/ylOy97eQmH']\n",
      "124247857 0.013555787278415016 ['Once it’s fuck you its fuck you forever I ain’t gone lie'\n",
      " 'Small face ass bitch now I’m overly pissed'\n",
      " 'I fucking hate my 9am class but glad I came today ... the man gave a quiz to 7 out of 27 students'\n",
      " 'I am overly fucking sleepy 😤' 'I’m done buying unnecessary shit. 😭'\n",
      " 'I told him he a bitch he ain’t on shit he nothing special'\n",
      " 'But ima thug that shit out' 'Gone fuck that bitch and get it over it'\n",
      " 'Karma is very fucking real'\n",
      " 'Whoever is calling me privately can you fucking stop !!'\n",
      " 'If I told you fuck you I meant that'\n",
      " '@xo_kitaa Yo fat ass messy asl ! Why would you post some shit like this without her permission?!'\n",
      " '@princesssciaa The fucking caption .... MAJOR FACTS']\n",
      "2211095132 0.033182503770739065 ['here comes the fucking thunders \\U0001f97a\\U0001f97a\\U0001f97a\\U0001f97a\\U0001f97a\\U0001f97a\\U0001f97a\\U0001f97a\\U0001f97a\\U0001f97a'\n",
      " 'fucking hungry' 'everyone is so annoying with their fucking opinions'\n",
      " 'shut the fuck up already 😂'\n",
      " 'this shit made me so mad https://t.co/GJTYyO4Ynf' 'here we fucking go'\n",
      " 'i didn’t realize how much i hated thunder till now LOL fucking scary ass mf'\n",
      " 'sum people posts the stupidest shit ever 💀' 'shut the fuck up'\n",
      " 'me all the fucking time 😭 https://t.co/RAEhYCRWVj'\n",
      " '@rlizzle_ me fucking too' 'you’re so fucking fake i swear'\n",
      " 'fucking over it' 'what a fucking day'\n",
      " 'men ain’t shit LOL esp the trashy ass mf that cheated on u \\U0001f92e👎🏼 https://t.co/0kdagWs1Zd'\n",
      " 'bitch 27? the fuck https://t.co/TepbqFIJsI' 'sooooooooo u tryna fuck?'\n",
      " 'u full of shit' 'fuck trump i love obama'\n",
      " 'so fucking stoooopid 😂 https://t.co/p5JUOMHo8R'\n",
      " 'LOL bitch the FUCK https://t.co/6SSR0M1A6m'\n",
      " '@chelsxanne dead fucking ass BESTFRIENDS LOOOL']\n",
      "85961444 0.011017838405036727 ['Fuck yeaaa https://t.co/7nVXTtEj6V https://t.co/a2nBVoTkiB'\n",
      " 'These shits cute as fuck https://t.co/GHeSiTPsDj'\n",
      " 'I BE ON SUM SHIT BITCH ... N FREE MY DAWG AYY'\n",
      " '@CallHer_TROPIC Mane fuck you grammar police lmao' 'So fucking blown'\n",
      " 'Lmao girls dead ass do weird dumb shit'\n",
      " 'Hell naw .. shit just lust https://t.co/283XjlaisA'\n",
      " 'That illegal ass shit lmao https://t.co/eeZWXI95vE'\n",
      " '@__callmejaee__ My shit old tho 😔😂'\n",
      " 'Shoulda stayed at the crib this semester, fuck this dorm shit.'\n",
      " 'Fuck yea https://t.co/qeZyKlSVlf' 'Panther grill fucking up'\n",
      " 'Always fucking a phone up \\U0001f974' 'Need to stop doing dumb shit'\n",
      " '@iPrefer_Kenny His bitch ass playing'\n",
      " '@ari_eiram Fuck em friend. Do you'\n",
      " 'Ima fuck around n retire out the whole game no bs 😂'\n",
      " 'I just wanna hear “AINT NOBODY FUCKING WITH TAU BITCH” 😂😂'\n",
      " 'I hate that sneaky shit' 'Up like shit' 'Fuck that pride shit']\n",
      "870937380 0.011508951406649617 ['STOP FUCKING DROPPING SHIT' '@JeffreeStar crashed the internet fuck'\n",
      " 'Fuck the ravens'\n",
      " 'I wish the announcers would shut the fuck up about New England.'\n",
      " 'More like “SHUT THE FUCK UP AND WE CAN LEAVE QUICKER” https://t.co/321qfVg0z7'\n",
      " 'Erin and I are fucking shit up 2 weekends in October. Watch out coastal and jersey \\U0001f92a'\n",
      " 'Whoever put the patriots as the first game, fuck you https://t.co/IR27o7oB7I'\n",
      " '30 fucking days \\U0001f929😭' 'Fuck'\n",
      " 'I just really need to know why the dumb ass fucking NFL keeps changing the damn overtime rules'\n",
      " 'Bitch what the FUCK 😂 https://t.co/m6cZNK4X8C'\n",
      " '@lilnucci_ @TeamJuJu LAUREN IM NOT KIDDING LETs fucking go'\n",
      " 'That fucking sucks'\n",
      " 'What!!!! The!!!!! Fuck!!!!!! https://t.co/dx0lzSZ27a'\n",
      " 'Is it appropriate to say go fuck yourself to an ONLINE FITNESS WALKING TEACHER.'\n",
      " 'I’m so happy everyone moved out of coastal club except my FUCKING LOUD ASS STOMPING ASS UPSTAIRS NEIGHBORS'\n",
      " 'MF FUCKING FIT @bretteldredge FOR A shoe TODAY AND HE GAVE HER FREE CCMF TICKETS HOLY SHIT'\n",
      " '@gilronayne The fucking latex I can’t \\U0001f92e🤦🏻\\u200d♀️'\n",
      " 'Chants up👌 and Fuck Todd haley https://t.co/MXjF5dMi7j'\n",
      " 'Who THE FUCK connected to my speaker and is playing weird ass music 🙄'\n",
      " 'Excuse me it is 9am I have been awake since 4am please shut the fuck up.'\n",
      " 'TO WHOEVERS DRUNK ASS HIT MY CAR I WILL FUCKING FIND YOU. FUCK YOU. THANKS FOR RUINING MY NIGHT.'\n",
      " 'FUCK SCHOOL' 'FUCK DAN SCOTT PART 17' 'Fuck cancer'\n",
      " 'FUCK MY MATH LAB I AM GOING TO GO TO THE FUCKING CREATORS AND FREAK OUT FUCK THIS IS THE WORK OF SATAN.'\n",
      " 'Fuck my math lab.']\n",
      "2781839722 0.0115990057995029 ['Real boss bitch give a fuck about a nigga ☺️'\n",
      " 'When someone I know pop up pregnant. I don’t say “congrats” but “oh, so u was fucking fucking huh? “ https://t.co/1gJzGdzJyf'\n",
      " 'Say what u mean and mean what the fuck u say! Simple 💁🏾\\u200d♀️'\n",
      " 'No seriously fuck these kids'\n",
      " 'Yes the fuck we do https://t.co/56lI4wVtlu' 'Fuck CBD W/ out THC'\n",
      " 'Seee @Chilis I’m finna fuck all this shit up https://t.co/0bqQsPzpKs'\n",
      " 'Fuck yea!!! Homage like a mofo @Omg_iitz_Ari https://t.co/bOaVU5Q6Db'\n",
      " 'Don’t touch my shit 💅🏾'\n",
      " 'Get your money sis, drink that water sis, don’t let a fuck boy or a wack bitch stress ya sis'\n",
      " 'I want a guy who gonna choke me like a roach blunt while we fucking 🤷🏾\\u200d♀️'\n",
      " 'I fucking hate humans'\n",
      " 'Jayda so fucking cute.. whole pregnancy been a casual slay https://t.co/6GhWIA6DDL'\n",
      " 'On my timeline literally all the bad kids got fucking iPhones'\n",
      " 'Why Jacques’s say that dumb shit 🙄' 'Fuck \\nThis \\nHeartburn'\n",
      " 'I hate a sneak ass bitch..'\n",
      " '“While you were away” \\n\\n1 big booty bitch taking 2 dicks up the ass\\n\\n2 Trump \\n\\n3 Black panther\\n\\n4 Cum shot and back shots'\n",
      " \"Fuck Father's Day on so many levels\"\n",
      " 'This time change  is really fucking with me .. Daylight savings 😒'\n",
      " '\"Fuck y\\'all votes \"\\nSaid the higher 1%'\n",
      " \"Bitches being Passive aggressive.. 👎👎👎👎 \\n\\nSpeak up or shit won't get done\"\n",
      " '@Omg_iitz_Ari stay out of my shit 😡😡😡👊👊'\n",
      " 'Fuck my bladder right now... Hyperactive AF'\n",
      " \"For real though.. Especially fucking with me I'll upgrade your whole mindset. https://t.co/ifO8dSNpqd\"\n",
      " 'Fuck 12'\n",
      " 'Bitches get bundles then think they are sweet. \\n\\nBitches gonna get a bundle beatdown fucking with me'\n",
      " 'Ari full of shit 😑']\n",
      "526620316 0.026802218114602587 ['@LindseyGrahamSC Ivanka, Jared, Guliani’s kid.\\n\\nWhat the fuck, you Russian loving partisan hack.'\n",
      " \"@norwegian76 @TheAngryBlackWo @kevinfla3 @mullymt @JasonOverstreet I didn't vote for him so go fuck yourself.\"\n",
      " '@WhiteHouse Shifty Schiff... Really White House? How about you show some fucking professionalism?'\n",
      " '@GetwithFabrican @NBCNews Trump can go fuck himself.'\n",
      " '@JooJooEyeBall7 @Freeyourmindkid Ok boomer. \\n\\nRespect is earned. If that elder is being an asshole fuck em. They deserve to get shit on.'\n",
      " '@Kulinditito @thehill Trump is a piece of shit.'\n",
      " \"@SteveSnow29 @jokork9 @YorkUGma @HoarseWisperer @BobLonsberry They didn't forget. They just don't care because they're fucking hypocrites.\"\n",
      " '@realDonaldTrump I fucking hate you.'\n",
      " '@RedTRaccoon Republicans support vets and the military MY FUCKING ASS.'\n",
      " '@Paulina_Likos @ABC Trump can go fuck himself. That’s where.'\n",
      " '@OctoberGenius @AllisonRFloyd Bull-fucking-shit.'\n",
      " '@Insoo18049360 @Momof3gngrs @StefanMolyneux @_yikesberg_ @emrazz You’re a fucking idiot. The reason why you guys lo… https://t.co/ridBO16egF'\n",
      " 'Fuck your Raptors..\\n\\nFuck you Pelicans...\\n\\n😆😆😆\\n\\n#LakersTNT'\n",
      " '@realDonaldTrump Bull-fucking-shit.'\n",
      " 'Because street heroin dealers are already being incarcerated. Holy shit why are conservative pundits so fucking stu… https://t.co/vestvOwoSZ'\n",
      " '@lwenner @sallygrables @NotAllBren @BetoORourke That just makes you even fucking dumber.'\n",
      " '@ChasingJoy83 @Jacob_Frey 😂😂😂😂😂\\n\\nTrump can go fuck himself. You can too.'\n",
      " '@realDonaldTrump Go fuck yourself Individual no. 1.\\n\\n#ImpeachTrumpNow'\n",
      " '@formambuh @SpeakerPelosi @realDonaldTrump 😂😂😂😂\\n\\nTrump is a fucking piece of shit.'\n",
      " '@seanhannity Holy shit people cursed on TV! God you Trump fucks are such pussies.'\n",
      " '@shannonrwatts Holy shit what the fuck is wrong with these gun assholes?!'\n",
      " '@ABC Fuck this bitch. Lock her ass up in prison. For the rest of her fucking life.'\n",
      " '@itsSandraDee These guys fucking are...'\n",
      " 'God @RudyGiuliani is a fucking moron. \\n\\n#TrumpImpeachment \\n#impeachment \\n#WhistleblowerComplaint \\n#RudyGiuliani https://t.co/WUyxVly4pl'\n",
      " \"@Kalogrym @NBCNews You're a fucking mind reader Kalogrym? \\n\\n🙄🙄🙄\"\n",
      " \"@schwartzbCNBC These assholes can go fuck themselves. We'll get Senator Warren to the Oval office without their help.\"\n",
      " '@SassyKadiK @SenatorCollins can go fuck herself.'\n",
      " '@illuoisn @davidmweissman @realDonaldTrump LMAO...neutral my fucking ass.'\n",
      " '@Its_The_Moonman @confusatron @KLH128 LOL go fuck yourself.'\n",
      " '@DanielinPDXOR @ProudResister @SpeakerPelosi Until she proves otherwise--\\n\\nBull-fucking-shit.'\n",
      " '@RashidaTlaib @senatemajldr @MomsDemand Fuck you @NRA. Fuck you @GOP.  Fuck you McConnell. This shit is on YOU.… https://t.co/7PHA9jyBXK'\n",
      " '@thehill Good. He can go fuck himself right up his own asshole.'\n",
      " '@mirandayaver @davidmweissman @benshapiro Ben Shapiro can go fuck himself, right up his own asshole.'\n",
      " '@DiogenesLamp0 @AllisonRFloyd @JasonSCampbell I bet you if a dude fucked you in the ass without your consent you wo… https://t.co/wfZ8slW9vR'\n",
      " '@washingtonpost Perspective: It’s none of our fucking business. Leave her the fuck alone.'\n",
      " '@PattiD05 @thehill Whatever. Rand Paul can go fuck himself.'\n",
      " '@CathoConser @nytimes With all due respect, go fuck yourself.'\n",
      " \"@Yabazee1 @chrissyteigen Don't be a pussy ass bitch, bruh.\"\n",
      " \"@realDonaldTrump Oh SHUT UP you big fucking baby... they aren't fake or corrupt because they don't kiss your ass an… https://t.co/AcWppibbOp\"\n",
      " '@purplestate4now @MalcolmNance @DebraMessing Unfairly? Trump is a fucking idiot. He deserves all the belittling he gets.'\n",
      " '@FederalSpyGuy But he never did. Because Obama is an upstanding guy and not a Russian loving, greedy piece of shit fuck face like Trump is.'\n",
      " '@CNNPolitics \"Probably?\" LMAO what the fuck @CNNPolitics?!'\n",
      " \"@Jack_Burkman No it's not. Go fuck yourself.\"\n",
      " \"@RepPeteKing Choking the shit out of someone until you fucking murder them isn't a split second decision, you fucking idiot.\"\n",
      " '@SteveKingIA @CoryBooker 😂😂😂 go fuck yourself you racist fuck.'\n",
      " '@BrasierDalton @ginnybeesly @ScottGreenfield @jduffyrice LMAO Braiser... dude are you fucking stupid?!'\n",
      " '@Scattered211 @CBSPolitics “Support the vets” they say.\\n\\nMy fucking ass they support the vets.'\n",
      " '@Mbj88mbj88 @BrianFaulkner74 @4everNeverTrump @marcorubio My advice is you go fuck yourself. Good luck with that.'\n",
      " '@BGGDMHERO @stinkydog195 @parscale @Twitter No one said you had to stand for OUR freedom of speech. \\n\\nEat shit and go fuck yourself.'\n",
      " '@Ironic_Name @Sweatpants671 @nytimes You do not care that 22 people died. Go fuck yourself.'\n",
      " '@SeeHumanity007 @AP Stop the fucking mass shootings. https://t.co/yWMdGrvLSu'\n",
      " '@brosiahpog @Ironic_Name @nytimes You can ask me when that happens in the US. Meanwhile go fuck yourself.'\n",
      " '@gina_goldberg The problem is with young, Republican/right wing white men, What the fuck is the matter with them?!… https://t.co/zyRClpq5FF'\n",
      " '@dcf4dbfceaa8405 @AP @CNN A fucking sticker expert.... LMAO. \\n\\nNot really proof anyway. Just your opinion.'\n",
      " \"All this hate rhetoric coming from these right wing politicians and their followers. I'm tired of them. They can eat shit and go fuck off.\"\n",
      " '@PatrickHennie @thehill God why are you right wingers so fucking dumb?!'\n",
      " '@GaetaSusan @PeteButtigieg All thse shooters are your fucking people blondie.'\n",
      " \"@KellyannePolls This shit is your side's fault. Fuck you and your unity.\"\n",
      " '@viktorscrwrites @psomi @ezraklein You’re Russian-American so you’re a fucking expert, eh? 🙄🙄🙄'\n",
      " '@calebebling Fuck your religion is boring. Hard pass.'\n",
      " '@TerilynnS @kylegriffin1 Because he’s a fucking perv pedophile.'\n",
      " '@realDonaldTrump @FoxNews @CNN Stop watching TV then! \\n\\nDumb fuck.'\n",
      " '@RealWayneRoot Vet here.  I say she can stay. With all due respect, you can go fuck yourself.'\n",
      " 'This is fucking nuts. \\n\\nFuck!\\n\\n#RidgecrestEarthquake \\n#californiaearthquake \\n#Ridgecrest'\n",
      " '@pastortombrown With all due respect, go fuck yourself.'\n",
      " '@woo_ahhh What a fucking spoiled little brat.'\n",
      " '@IngrahamAngle Two words: fuck off.'\n",
      " '@stingrayzl1 @SteveNash LMAO. Fuck off with this horse shit Chris.'\n",
      " '@thehill Susan Collins can go fuck herself.'\n",
      " 'HOLY SHIT.... like, READ A FUCKING HISTORY BOOK. \\n\\nWhat the fuck!!!!???? https://t.co/FTuh941lYR'\n",
      " '@jamiefootball_ @washingtonpost LOL here goes conservative white dude crying about it like a fucking bitch.'\n",
      " '@fastbreakbreak @LakerFilmRoom What the fuck?'\n",
      " \"@confusatron PSA #2: people calling out bigots and racists, telling them to shut the fuck up with their filth aren'… https://t.co/fjy2K1TEY7\"\n",
      " '@jbgarrison72 Who the fuck made you the twitter Bio-police? GTFOH you pretentious ball-sack.'\n",
      " 'Anyone still think Joey is a good option?! \\n\\nWork with the Republicans? Fuck off with that shit! \\n\\n#BidenIsStupid… https://t.co/WI9X6g3q0g'\n",
      " '@ddaughter1 @RichSementa @realDonaldTrump A recession BUSH AND THE REPUBLICANS CAUSED.\\n\\nGo fuck yourself.'\n",
      " '@GOP @GOPChairwoman Jesus Fucking Christ go fuck yourselves.'\n",
      " \"@bkrudy @AllisonRFloyd No. I want dudes like you to stop bitching and shut the fuck up. That's what I want.\"\n",
      " '@MCITLFrAphorism Of course you’re not backing down from this. You’re a fucking piece of shit. \\n\\nI pray God smites y… https://t.co/rdiBA6rUZ9'\n",
      " '@realAndrewLong @NBCNews How did he insult Piece of shit Trump?'\n",
      " '@Wade_Turnbull Profanity.... Whatever you fucking pussy. 😂😂😂😂'\n",
      " '@Orvieto2016 These people are fucking tiring.'\n",
      " \"@dmartosko She's right, though. \\n\\nAnd you're a shitty person who needs to go fuck yourself.\"\n",
      " 'Holy fucking shit this is disturbing... https://t.co/sQQOgMC6Uf'\n",
      " '@MarkDice @washingtonpost Oh yeah.... poor fucking white people. Boo the fuck hoo....'\n",
      " '@hunttrain @agwon79 @TheLFCScrolls @DarlingDoug @MichaelSkolnik @ChangeTheRef You’re a fucking idiot Hunt Training.… https://t.co/rEAjfDZkYF'\n",
      " '@thehill @DonaldJTrumpJr can go fuck himself.']\n"
     ]
    },
    {
     "name": "stdout",
     "output_type": "stream",
     "text": [
      "274797320 0.011514933429291111 ['LETS FUCKING GO HOKIES!!!!!' 'LETS FUCKING GO' 'MIKEY FUCKING YOUNG'\n",
      " 'Fuck these refs' 'Oh shit fam!'\n",
      " 'What a piece of shit. https://t.co/ioekLDV3Z0'\n",
      " '@YahooForde You realize the team just sucks you fucking clown'\n",
      " '@DanWolken You’re a fucking idiot' 'Lol fuck you miami'\n",
      " 'Put Hooker in the fucking game Fuente.'\n",
      " '@neiltyson What about the giant fucking eagle Neil'\n",
      " 'Brits are the biggest fucking wankers about the British Open.'\n",
      " 'When will people stop fucking with John Rambo? https://t.co/0AydUBTJru'\n",
      " 'Torrey Krug heat seeking fucking missile'\n",
      " 'Holy shit there’s a Sonic movie?!' 'LETS FUCKING GO BABY 🐅'\n",
      " '@KeithOlbermann Fuck yourself'\n",
      " 'What a fucking clown https://t.co/LQgROKG92p'\n",
      " '“CHAAAA-oh shit wait nvm it’s Duke-BLOCK!”'\n",
      " 'I’d fuck Gyllenhaal up https://t.co/fHr59hj8CX'\n",
      " 'When you fuck up your grammar tweet https://t.co/xRcqkDkiH5'\n",
      " 'Fuck off with that shit Bilas'\n",
      " '@khamenei_ir @realDonaldTrump @AmbJohnBolton @SecPompeo Go fuck yourself'\n",
      " '@Jilchrest Not your fucking business'\n",
      " '@waaaallace @blockboi_4eva @marchmadness @LouisvilleMBB Buddy I ain’t mad, fucking with people like you is sport fo… https://t.co/dqU3NlxID4'\n",
      " '@waaaallace @blockboi_4eva @marchmadness @LouisvilleMBB No fucking shit. I said “hollow win”, meaning VT is not wha… https://t.co/APVcBYZzts'\n",
      " 'Beautiful story. Too bad it would never happen in a fuck ass country like Iceland https://t.co/Rh1Hit72Nx'\n",
      " 'Folks putting wild ass shit in bloody Mary’s always confuses me.'\n",
      " '@OX_VT @TechSideline Fuck you Jobu, I do it myself' 'Holy shit NC State'\n",
      " 'Everyone shut the fuck up. Fuente’s “Memphis buddy” just got poached by fucking ALABAMA.'\n",
      " '@TheAndyKatz Nah. Fuck em.']\n",
      "2437407907 0.01559792027729636 ['FUCK BRUH FUCK BRUH FUCK BRUH' 'PH FUCK NO' 'OH FUCK' 'Fuck dis'\n",
      " 'Fuck this' 'FUCK'\n",
      " '@b0juee Looool at least the brotha cares most teachers don’t give a fuck'\n",
      " 'My teacher increased my mark LETS FUCKING GO'\n",
      " '@MarvNezzii @Spoonjamin_ @FaZe_Rain @Mr__Pooba @1Brezzi He’s genuinely lost the fucking plot. Like I’m kinda scared… https://t.co/uoEgKBJQcg'\n",
      " 'Fuck Armenians https://t.co/QTNzEP8vwH'\n",
      " '@BleacherReport @1Freedrugs What the fuck'\n",
      " 'Fuck I’m already hungry as shit'\n",
      " '@thejitterbug759 This movie was fucking whack , stop sucking up to it'\n",
      " 'FUCK MAN' '@PeakJokic Fuck this I’m going full Bruce Wayne now'\n",
      " '@OchocincoMicah @SIotted @Game2Lowry @PeakJokic I don’t fucking know'\n",
      " '@ThePeakEmbiid @PeakJokic Fuck wrong with my profile'\n",
      " 'Fuck school fam https://t.co/LWXgJfqmpi']\n",
      "321853456 0.010622154779969651 ['This shit made my dick soft. https://t.co/JieY161TnU'\n",
      " '@realesss_ \\U0001f97a shut the fuck up'\n",
      " 'I told my bitch lets get a bitch' 'Fuck u https://t.co/hjYtjWbuF9'\n",
      " 'Just lemme light my own shit tho https://t.co/gSnAf28RY7'\n",
      " 'Fuck u niggas https://t.co/defc6S3FcM'\n",
      " 'Fuck this nigga https://t.co/ubxB9xd1Uq' 'I need my dick sucked hard'\n",
      " 'Ion een know my shit https://t.co/gS5iByy5ax'\n",
      " 'No offense but fuck yall https://t.co/b2Zl5SjyuM'\n",
      " 'Fuck the bitch broke her heart she think we still datin'\n",
      " 'Yesterday i seen a amazon delivery man drop the FUCK out of somebody shit'\n",
      " 'Lil gotit new shit hard'\n",
      " '@ThatGuyJacen Fuck allat shit tbh, still smokin backwoods tho']\n",
      "1403898572 0.013412816691505217 ['eat that shit up then🔥🖤 https://t.co/dxCjB2fPpZ'\n",
      " '@JSLAi_ if I see someone doing fuck shit like this at nocturnal we might fight 🤣'\n",
      " '@Brittskeebo im fucking weak 💀💀'\n",
      " 'fucking snapped https://t.co/VFGzGE81Mc'\n",
      " 'yall dont be sayin shit to these mfs thats the problem press they ass about what the fuck they doin instead of just… https://t.co/3LZk5hf8zZ'\n",
      " 'fuck meat'\n",
      " 'how you fuck the assassination up🤦🏾\\u200d♂️ https://t.co/zRGcggidLT'\n",
      " '@alexxahopee Dupstep&gt;&gt;&gt;&gt;&gt;&gt;Riddim\\n\\nfuck the black hole eyed bitch ✌🏾'\n",
      " 'holy shit the new toyota supra go goes crazy'\n",
      " '🤦🏾\\u200d♂️fucking speechless man https://t.co/9eKx5c4rsI'\n",
      " 'i love the bay so fucking much 😭'\n",
      " 'my nigga tried to wind guardian leviosa that bitch a got his shit blown back'\n",
      " 'led zeppelin got some new shit' '@dhali408 @shrtcvt Fuck 12'\n",
      " 'ion give a fuck bout none of that shit bitch'\n",
      " '“none of that bitch. ass. shit.”😂 https://t.co/1UDl6A8Sro'\n",
      " '@__mbali @dihks_ Fax weak ass shit'\n",
      " 'doin bad shit https://t.co/pRdWhr45bL']\n",
      "3010174224 0.011320754716981131 ['in case u had any doubts my mother fucking sucks'\n",
      " 'whoever called me and woke me up from my nap is dead to me. fuck you'\n",
      " 'if u smoke cigs i refuse to date u, nasty ass bitch'\n",
      " \"if this tuna bitch doesn't leave i'm throwing hands let me fucking BREATHE\"\n",
      " '@manabitamami_ FUCK U THIS IS MY WORDS'\n",
      " 'fuck u stank ass bitches that smoke cigs on campus, get a job'\n",
      " \"the whole norman fucking rockwell album exists but i'm still playing somebody else by the 1975 when i'm sad...\"\n",
      " 'penis-owners fucking wash ur dicks u nasty ass bitches'\n",
      " '@manabitamami_ u got any more dumb bitch juice?'\n",
      " 'why is surviving so fucking expensive'\n",
      " \"i'm literally crying over my own tweet rn the fucking ACCURACY i'm screaming,,, i gave myself flashbacks writing it… https://t.co/mcj4n2Ja5C\"\n",
      " '@manabitamami GIRL U LOOK GOOD AS FUCK'\n",
      " 'me before cmbyn: who is armie hammer\\nme after cmbyn: armie hammer can fucking WRECK me thanks'\n",
      " '@xennasmith go to fucking sleep'\n",
      " \"ugh if white boys on my tl don't stop fucking tweeting about the office I'll SCREAM\"]\n",
      "1270558850 0.023076923076923078 ['SHUT UP CHEATER!!! I BET YOU EAT PUMPKINS TOO YOU UNFAITHFUL FUCK.'\n",
      " 'What the fuck'\n",
      " 'Ugh finally some fucking ART. @deafheavenband https://t.co/2uTKHqzioG'\n",
      " 'Nightmares are fucking awful. Why do they even happen? Shit makes me so hesitant to actually sleep.'\n",
      " '“And to think I fucking cried over you like a stupid bitch.”'\n",
      " 'Ugh I missed Chiodos so fucking much.'\n",
      " 'Okay first off. You’re eating at a fast food chain that mass produces slaughtered meat. Shut the fuck up. https://t.co/S0YiqrSEmY'\n",
      " 'FUCK ME UP \\U0001f974 ILYSM https://t.co/NRwHrXKXYR'\n",
      " 'Like sexually. Fuck him. Lol'\n",
      " 'I sincerely don’t give a fuck how anyone feels about the shit I post. Let’s get that straight.'\n",
      " 'When Christian told me “GET OUT OF FUCKING BED.” I felt that shit. https://t.co/KqxhvaLxw5'\n",
      " 'Get your shit together before you fuck somebody else’s head up. https://t.co/SQyn1Ur6nj'\n",
      " 'EMO TWITTER WHAT THE FUCK IS UP. https://t.co/BhDCyejJ3C'\n",
      " 'Trans rights! Fuck yeah!! https://t.co/zUp8UQ2yY1'\n",
      " 'Marilyn fucking Manson holy fuck.' 'I’m fucking sad let’s drink.'\n",
      " 'I’m so sick of this shit.'\n",
      " 'Can someone fucking snap my neck so I can’t feel shit. Thank you.'\n",
      " 'Ahhh jk BITCH only fine ass sad people are awake right now.'\n",
      " '@_ashleyer I’d hype you up so fucking hard omg. 😂' 'FUCK YES'\n",
      " '@markischarles Fuck the brave turkey’s am i right?'\n",
      " 'YO THAT JACKET IS TIGHT, NOW RUN THAT SHIT BITCH, YAAAA MEAN??? https://t.co/4Yl4qIzfDk'\n",
      " 'WHO THE FUCK ARE YOU? WHO THE FUCK DO YOU THINK YOU ARE? YOU BETRAYED ME THIS WHOLE FUCKING TIME. I’M THE BADDEST M… https://t.co/TjRPfnslMo'\n",
      " 'I can’t even go into a fucking kitchen with strangers without having a minor anxiety attack i literally want to fucking ***'\n",
      " '@Hunter_Locks98 @woesly_ That’s 👏🏻 what 👏🏻 I’m 👏🏻fucking 👏🏻 talking 👏🏻 about.'\n",
      " 'It’s so unfair the shit we have to deal with JUST to fucking SEE. Lmfao https://t.co/Sxhs4cMSvk'\n",
      " 'Burn those fucking bastards. https://t.co/HW9adNmUL1'\n",
      " 'Why I actually stopped fucking with Logo too.'\n",
      " 'I exactly now remember why I stopped fucking with Drag Race. https://t.co/SQzEoBUlc0'\n",
      " 'Like you stupid bitch your loss.'\n",
      " 'A giant fucking cobwebZ https://t.co/porUP9SDZE'\n",
      " 'Yeah bitch I said I’m on my way the fuck?? BITCH IM COMING THE FUCK??? WHOA KENNYYYYYYYYYY'\n",
      " 'Lmaoooooo fuck 12. 😂 Ole dummy bitch'\n",
      " 'I’m so tired why is everybody so fucking stupid. https://t.co/bVXz5v85y3'\n",
      " 'This ole Chuck E. Cheese ass mosh pit what the fuck https://t.co/jgHO2Is5p5'\n",
      " 'Fuck outta here https://t.co/yVRXyAmfJG'\n",
      " 'He said “WHO IS THIS” 😂😂😂 I’m fucking dumb lol'\n",
      " 'Paramore is going so fucking hard right now wow'\n",
      " 'Bro fuck that guy fuck you fuck you fuck you FUCK YOU. I’m glad this shit is done you were the shittiest partner I ever fucking had.'\n",
      " 'You’re a grown ass man, start using fucking vowels in your text messages.'\n",
      " 'I can give a shit less if you talk shit about me you booboo ass bitch. Just remember how sharp my tongue is.'\n",
      " 'Wake that man up with spooky suck the FUCK.' 'Fuck'\n",
      " 'Yikes....that’s so fucking lame 😂 Drake is a clown. https://t.co/w2Ibj1xe7Q']\n"
     ]
    },
    {
     "name": "stdout",
     "output_type": "stream",
     "text": [
      "726566276 0.017941952506596307 ['@extralargepeas Fuck'\n",
      " 'I’m bored as fuck and I feel like shit. Entertain me'\n",
      " 'I feel fucking grim today' 'I’m fucking dead https://t.co/PK8rwNRjBs'\n",
      " '@alexanderianx No fucking way' 'I’m a fucking dumb bitch'\n",
      " 'Fuck https://t.co/AgGbUKq0qa'\n",
      " 'Just fucking done my tan amd I’m crying it all away https://t.co/rcGWg54UMU'\n",
      " 'UP \\n\\nTHE FUCKING\\n\\nREDS ❤️❤️❤️' 'I’m so fucking knackered'\n",
      " '@caragreen__x @mayapologies Fuck offfff 😂😂😂😂😂😂😂😂😂😂'\n",
      " 'That’s the fucking cutest thing I’ve ever seen https://t.co/sYAbwnyINc'\n",
      " '‘That’s a fucking forward roll you fucking spastic’'\n",
      " 'Take that back I’m a fucking idiot https://t.co/y5ayFrFuXD'\n",
      " 'I’m so fucking funny' '@b14kepriv Go fuck yourself' 'Fuck my life'\n",
      " 'Too fucking right https://t.co/TM2hrOYrej'\n",
      " 'Dis bitch has royally fucked her back up'\n",
      " '@sofaritsian Fuck off \\n\\nSEVEN YEARS?!'\n",
      " 'Marks and Spencer go fuck yourselves https://t.co/R7dsZMSV2v'\n",
      " 'I fucking hate today it’s been such a shit day I’m going to bed'\n",
      " '@_JoeCurran FUCKING TRY IT AGAIN'\n",
      " 'here we fucking go https://t.co/2VAh6gbVqj'\n",
      " 'fuck off what https://t.co/MiZzAdnGl5' '@extralargepeas ah fuck you'\n",
      " '@extralargepeas fuck off what date'\n",
      " '@extralargepeas it’s fucking dream lover hello ????'\n",
      " 'shut the fucking fuck up https://t.co/VX4fguwApz'\n",
      " '@extralargepeas fuck off you’re lying'\n",
      " 'so fucking much https://t.co/O1ZnFQacNe'\n",
      " 'i thought they were strangling the fucking children https://t.co/lKoJ0XEtdY'\n",
      " 'heavy shit man' '@princesshxrriet @skeletoe too fucking right']\n",
      "558682577 0.015037593984962405 ['@ruizmrtn BRO WHAT THE FUCK MAN, THE DISRESPECT'\n",
      " \"it's 10 in the FUCKING MORNING, why did sad hours hit this fucking early. Need me some coffee or some shit.\"\n",
      " '@laurenlovesyeww REPORT THEM, FUCK THAT BITCH'\n",
      " 'what teh fuck, i just got an 800 paycheck'\n",
      " 'fuck i should have gone to gym today to clear my shit but espresso got the better of me today.'\n",
      " 'yo deadass, ppl who say \"we got late game\" are annoying as fuck. like yeah i get it, we fucking scale. most of us a… https://t.co/rD64fxEcUw'\n",
      " 'this game is ass , everyone fucking blows'\n",
      " '@dannymoraaa LMAAOOOOOOOO IM FUCKING DEAAAD' 'my neck fucking hurtsss'\n",
      " '@ryanngxyen @itsnellemusic @jstn_chng @LilyBambi bruuh i am messed up LOL tequila is a fucking drink bro gadamn']\n",
      "793069649516650496 0.010884831460674158 ['@The_OriginalXo “This shit bussin” 😭'\n",
      " '@mikemike410 Stop fucking with That shit bro lol'\n",
      " '@FcknLuigi That shit terrible yo 😂😂'\n",
      " 'Hey, you look dumb as shit https://t.co/eT0a5pCinC'\n",
      " 'We going to the fucking BOWL' 'You can’t fucking TOUCH EM'\n",
      " 'My phone is now a cracked piece of shit smh'\n",
      " '@_Jiare @BayyDrea Y’all ain’t fuck nothing up 😒'\n",
      " '@TheeIndiraAli Don’t fuck with this shit 👎🏿'\n",
      " '@AriTheDon That shit go straight to that ass 😨'\n",
      " 'Dentist: you can’t smoke for 3-5 days..\\n\\nMe: nigga fuck you! 😭😭'\n",
      " '@BayyDrea That’s my point, I ain’t deleting shit! 😭'\n",
      " 'Where’s the fucking blow 😂 https://t.co/5OmWqjnCZL'\n",
      " '@jazzmina__ You fucking with the booga sugar? 😂😂😂'\n",
      " '@_GoodSAMARAtan @Montanaa__ Stop playing with my fucking cousin.'\n",
      " 'My mouth numb as shit rn 😨' 'Game fucking over yo'\n",
      " 'Where’s the fucking weed when you need it'\n",
      " '@sliiickE That shit pathetic' '@Montanaa__ This shit ending soon 🤔'\n",
      " '@MarvelStudios @shotsbywordplay That shit far af nigga'\n",
      " '@Moneysmoove I know yo.. I’m sick of this shit'\n",
      " '@ChickenColeman This shit gave me a headache 😂😂'\n",
      " 'Damn ain’t nobody ask me did I want some fucking wings 😒'\n",
      " 'I’m with the fucking gang, nigga...'\n",
      " 'Drake old shit harder then Durk new shit 😂.. swore he said that before..'\n",
      " 'You not Rey pull my tooth while I’m woke, fuck you \\U0001f974😂'\n",
      " '@SiX__6ix @RunwayRussell That shit weak, I would bust his ass &amp; I don’t even hoop lmao'\n",
      " '@ChiefLeek_ Man roll a fucking blunt' '@ChiefLeek_ FUCK YOU'\n",
      " 'Fuck You https://t.co/B0F2xxktEF']\n",
      "551285798 0.024917724494593323 ['Fuck the turkey 😂😂' 'Fuck penn state 🤣🖕🏽🖕🏽 https://t.co/b9mlJule2F'\n",
      " 'Made that ooh’s &amp; ahh’s trip just to get a plate shit bussin but fuck 95 traffic that shit for the birds'\n",
      " 'Everyone on that new year new them shit if y’all don’t shut the fuck up we haven’t even passed thanksgiving and Christmas yet 😂😂'\n",
      " 'Hold tf up do y’all see this bitch armpit why the fuck she dye that shit 😂😂😂 https://t.co/9gRB5GzQWm'\n",
      " 'How the fuck you get stuck 😂😂 https://t.co/LaC7bfeESC'\n",
      " 'Yea dummy fuck you thought this was a fiesta nah this a civic take that L'\n",
      " '@_Pica__ @NissanUSA Suck a dog dick ya whore'\n",
      " 'I’m fuckin tired of being skinny like this shit is getting old eating everything and not gaining weight from it sucks fuck you metabolism'\n",
      " 'Fuckin juul really fucked my lungs up this shit is no joke nigga wheezing bad fr 🤦🏽\\u200d♂️'\n",
      " '@Loserleft_2020 @steph93065 Fuck you'\n",
      " '@Loserleft_2020 @steph93065 Fuck outta here wit that trump shit'\n",
      " 'Fuck it is dummy 😂' 'I ain’t shit fr I blame myself'\n",
      " 'This new guy is weird and annoying like shut the fuck up'\n",
      " '@_Pica__ What the fuck my Koon ass look like wit a mullet 😂😂😂'\n",
      " 'How the fuck you go from that death metal to country music 😂😂'\n",
      " 'Crazy how you can get blamed for something you didn’t do but fuck it I’m out that car crew now I’m on my own shit now'\n",
      " 'Niggas blaming me for their problems fuck you real shit'\n",
      " 'Suck dick wit a condom on you know she hoein'\n",
      " 'I’ve been eating all fuckin day now I’m tired as shit 😩'\n",
      " 'I just wanna go the fuck home already' 'Fuck all this rain'\n",
      " '@Popdust Fuck outta here'\n",
      " 'All this cold weather shit can go the fuck a away got my nose all runny and shit 🤧'\n",
      " 'Finally got the new X max the camera quality it’s fire fuck buying a camera lol'\n",
      " 'Ok the call of duty server are fucking trash this shit is pissing me off I didn’t pay $60 to get fucking kicked from every game'\n",
      " 'Mfs stay lookin at you like what the fuck you lookin at bruh look somewhere else'\n",
      " 'I need a fucking nap' 'I need my fucking charger ASAP' 'What the fuck'\n",
      " 'Hurry the fuck 4:30'\n",
      " 'I told him to open the door for his lady and he looked at me and said fuck you..shit I open doors and help women when they need help'\n",
      " 'How the fuck 🤔 https://t.co/fmoqK13YEK' 'Fuck yo nigga he a bum'\n",
      " '3 whole fucking days without power now \\U0001f92c🙄' 'Fuck Cincinnati 🖕🏽'\n",
      " 'I hate when customers try and have a full conversation with you and your looking at them like shut the fuck up im n… https://t.co/PJDkFhGVuq'\n",
      " 'Fuck it up get it again' 'Work is fucking stressful'\n",
      " '@SendYouToGod Fuck that I can go buy a car wit that'\n",
      " 'This day is fucking dragging by so slow gah damn'\n",
      " 'Tired of Niggas talkin shit it’s either fight me or shut the fuck up‼️'\n",
      " 'This is fucking crazy I just want to go the fuck to sleep'\n",
      " 'Getting very annoyed I’m trying to go the fuck home 😡😤'\n",
      " '@Enragethecrea What the fuck do you want'\n",
      " \"I'm a worthless piece of shit 😞 all I ever do is fuck things up\"\n",
      " 'I only want my snuckums fuck the rest 💯'\n",
      " \"@Kieez_Min Don't nobody wanna see your fake tits and blow up ass bitch fuck outta here with that shit 🖕🏽🚪👈🏽\"\n",
      " \"Good fucking morning I hope everyone is having a fantastic fucking day cause I ain't\"\n",
      " 'What the fuck 🐷 https://t.co/xvBCjyuI66'\n",
      " 'Fuck salad 🤢🖕🏽 https://t.co/bPZ9Ceivd5'\n",
      " \"Oh nah kiss my black ass I ain't doin shit today https://t.co/ZgKa6H8cZq\"]\n",
      "70309818 0.01131687242798354 ['ol bitch ass nigga 😒'\n",
      " 'i’m not one to hold grudges. it’s so much easier for me to just say fuck you nd leave it at that. ion forgive nothing let God do that shit'\n",
      " 'you “drop a 💯 if you fuck with me” people are pathetic'\n",
      " 'thas some sick shit https://t.co/VOfzbikBdb'\n",
      " 'fuck the police thas how i treat ‘em'\n",
      " 'the fuck is a camp flog gnaw? lmaooo https://t.co/aFfC3KbKSv'\n",
      " '@Juju_Magik that whole shit sound just the crazy 😂😂😂'\n",
      " '@Juju_Magik that shit sick'\n",
      " '@ChicagoBears ayo we don’t give a fuck bout none of the shit y’all notifying us about. GET TRUBISKY OUTTA HERE!!! he is trash!'\n",
      " '😂😂😂😂😂 preciate that fam 🙏🏾 shit do look like some sad ass shit https://t.co/DNpvVqm72O'\n",
      " 'if i tell you a duck can pull a truck shut the fuck up nd hook the sucka up'\n",
      " '@Juju_Magik that shit sick'\n",
      " 'fuck going out plans. let’s make plans on starting some shit nd getting some bread'\n",
      " '@_Geeeechi lmaoo nah this shit just ass'\n",
      " 'fuck it up then lol https://t.co/2gMyyq5BKE'\n",
      " 'i speak of positivity and spreading love but in this case bitch fuck you. eat a dick you unseasoned chicken making… https://t.co/cl93Fxv9Gq'\n",
      " 'ion fuck with the raw shit https://t.co/VIhVo8zo6d'\n",
      " 'fanny pack yess purses fuck no. thas that zesty shit lol https://t.co/o92fXYVVDz'\n",
      " 'chris darden been a clown nd still a clown. fuck that nigga'\n",
      " '@Rod_Griffland on some dumb shit 😂😂😂😂'\n",
      " 'how the fuck do we have all these sports bars out here and none of em are showing the fight? this shit so trash'\n",
      " 'the funniest auto correct is “duck that shot” when tryna say fuck that shit 😂😂😂😂😂😂']\n",
      "464282652 0.030120481927710843 ['If you ain’t making paper why the fuck you in the streets'\n",
      " 'I’m married man fuck you hoes' 'Fuck em we Ball' 'Nasty bitch'\n",
      " 'Niggas fuck up somtimes tho https://t.co/xzcYdRTqIF'\n",
      " 'Just cause a nigga wanna fuck other bitches doesn’t mean he don’t love you'\n",
      " 'How the fuck you eat with niggas you can’t even trust🤔'\n",
      " 'That shit gay as hell https://t.co/LDdp7nBFDI'\n",
      " 'He probably ain’t fucking with me cause he know he ain’t fucking with me'\n",
      " 'You fucking a Lame beloved🤦🏾\\u200d♂️' 'Fuck ICE https://t.co/hu0R0Jbjdr'\n",
      " 'She can’t suck my dick if that mouth stank🤢' '@MeekMill drop some shit'\n",
      " 'Tired of seeing this nut ass shit https://t.co/J15DbyZiph'\n",
      " 'I stay doin that dumb shit https://t.co/ZDOi7NDTyr'\n",
      " 'Nigga said fuck the baby 😂😂 https://t.co/HWUOV7GDQP' 'Fuck em'\n",
      " 'Fuck em https://t.co/DLXrj6VyMe'\n",
      " 'Ah nigga can’t take shit from be but a bitch'\n",
      " '@t_timeeeee Let my nigga mayday cut yo shit']\n"
     ]
    },
    {
     "name": "stdout",
     "output_type": "stream",
     "text": [
      "965004506 0.012125079770261647 ['She don’t gotta have ass imma cop her the fake shit'\n",
      " 'Shut your bitch ass up https://t.co/uGhmP4FYlA'\n",
      " 'Fuck it roll another one' 'Fuck you https://t.co/kS72wJQaJG'\n",
      " 'Bitches ain’t shit 🤦🏾\\u200d♂️'\n",
      " 'I say bitches ain’t shit &amp; I’m misogynistic... y’all say niggas ain’t shit &amp; it’s “Periodt Pooh”... I hate it here'\n",
      " 'Bitches is really bums shit wild'\n",
      " 'Man shut the fuck up https://t.co/Yf0SUfC0XB'\n",
      " '@lovemeleniexo Fuck boffum 🤷🏾\\u200d♂️' 'Fuck Christopher Columbus'\n",
      " 'Fuck all that shit... https://t.co/loeNmgr2TY'\n",
      " 'The bitch got 10 years!!!! Probably gonna do 5-7 for KILLING A MAN.... Man fuck this country on God'\n",
      " 'I’ll fuck a fat bitch if she know how to get money'\n",
      " 'Fuck football lmao https://t.co/v0L5LshLvm'\n",
      " 'Boy shut the fuck up 🤣🤣🤣 https://t.co/On5bPP2fg2'\n",
      " 'Fuck around &amp; air a pussy nigga out like linen' 'Kickin shit Ryuken'\n",
      " 'Shut the fuck up https://t.co/0pB4L83gpM'\n",
      " 'Fuck 12 😒 https://t.co/IWVR73j9tP']\n",
      "2427908371 0.01749271137026239 ['Fuck around and rob one of these niggas 💀' '@q_clh Fuck it 🤷🏾\\u200d♂️'\n",
      " '@TaroXTrillz That shit gon go dumb'\n",
      " 'Bitch niggas do bitch nigga shit. That’s why nip ain’t want dude round him. That’s why once you show me you’re a fr… https://t.co/wrqOhvD0Lp'\n",
      " 'Fuck fuck fuck fuck fuck' 'Fuck R. Kelly. Where R. Taxes'\n",
      " '@Zig2115 he ain’t doing shit'\n",
      " 'so fuck her twin huh? https://t.co/qpJfkMhgs5' 'fuck'\n",
      " '@Tanner_P21 Ayyy this shit hard af 😂🔥🔥'\n",
      " 'Once it’s fuck you, it’s fuck you'\n",
      " '@walter_j33 @HotFreestyle Fuck trump']\n",
      "966786051946684416 0.010619469026548672 ['@weeiwuxian This broke my fucking heart'\n",
      " '@lanzhqn NIEEEEEE HOW DARE YOU FUCK LEAVE RIGHT NOW'\n",
      " '@frenchroastplz Yeah, like I read it as extremely queer! But we didn’t even fucking approach the toxic masculinity… https://t.co/HDv07eRgRF'\n",
      " 'I love early Kurapika and Leorio interactions because like all of them are \\n\\nKurapika: fuck you\\nLeorio: COME FUCK M… https://t.co/ZIAGWrBli2'\n",
      " 'Fuck it is upside down' '@waterpilIars Fuck him']\n",
      "1001784073113784321 0.012467191601049869 ['Alonso is fucking shit man. #CHEMUN'\n",
      " '@ThreeUK fucking pattern up your shit network, I’m not even fucking joking anymore'\n",
      " 'Fuck you Pep, you’ve ruined my FPL https://t.co/BRsVK8xeGO'\n",
      " '@Giseldi1 Mums so fucking shit, always on one bar'\n",
      " 'I fucking hate 3, shit fucking network'\n",
      " 'Arsenal are shit loool😂. #ARSTOT' 'Willian is so shit. #CHELEI'\n",
      " 'Zouma is so fucking shaky man! #MUNCHE'\n",
      " 'I don’t need nobody fuck alla that shit, all I need is money'\n",
      " 'Anna chats out of her fucking ass. Shut the fuck up fool. #LoveIsland'\n",
      " 'Shaq is fucking cold mate https://t.co/2YnA0dd8zx'\n",
      " 'Red fucking flag mate https://t.co/YLBkeLidLX'\n",
      " 'Oi @SpotifyUK put the album on the app man, stop fucking around https://t.co/wP18dFN0g2'\n",
      " 'Tommy’s head will fucking turn https://t.co/hYycErJYgZ'\n",
      " 'This is bullshit. What kind of fucking dream are you having? #LoveIsland'\n",
      " 'Sixers are shit lool'\n",
      " 'Oi you’re fucking burst cuz😂 https://t.co/TwIg0R9D1n'\n",
      " 'Got £30 on the line, City better fucking turn up. #MCILIV'\n",
      " '@temisan__ Bake off with your shit team g😂']\n",
      "745580438312353792 0.01927710843373494 ['“Wrong fucking hole. As fucking if.” https://t.co/6ldtJnE9Z8'\n",
      " 'Oh.  Fuck.' 'Oh.  Fuck. https://t.co/xPk108pZ1J'\n",
      " 'Jesus fucking Christ. The state of Britain. https://t.co/ckf4blOUXI'\n",
      " 'I fucking hate Christmas. But I could murder a mince pie.'\n",
      " 'Oh do fuck off. https://t.co/FRxYNWb9IY'\n",
      " '🙄 fucking hell https://t.co/IV5lVNuLCE'\n",
      " 'Ok. The dude is totally fucking mental. I’m done with Twitter.'\n",
      " 'What. The. Fuck. https://t.co/TvLM11s5to'\n",
      " 'Fuck. Just when I’d forgotten all of those cunts. https://t.co/u22qYeOB64'\n",
      " '@trongluatgtp1 666 666 666 666 fuck off'\n",
      " 'Jesus fucking Christ... https://t.co/qNv7g63Owp'\n",
      " 'What. The. Fucking. Fuck. https://t.co/8YJIyXQgT4'\n",
      " '@busby_ruby What. The. Fuck.'\n",
      " 'Fuck! Is that Princess Di? https://t.co/he7Yw9f0nG'\n",
      " 'What. In. The. Actual. Fuck. https://t.co/2hAydPskTZ'\n",
      " 'What. The. Fuck. https://t.co/l7oPOyHFkJ'\n",
      " ':sigh: shit weather today so movie marathon. Addams Family Values (shit); Jaws (fucking ace); Airplane! (Looooool) so far.'\n",
      " 'Fucking sick bastard. https://t.co/SFpObQBvJm'\n",
      " 'Fuck me in the ass, pull my head back and slit my throat 😈'\n",
      " 'Why the fuck am I made to feel guilty about what I do with my own fucking body?'\n",
      " '“Fuck you!” Smash\\n\\nSilence https://t.co/5p3I7WmbwZ'\n",
      " 'Well of course you fucking are.  And yet when I hand out life sized replicas if my cock, the police are called… https://t.co/2HsV0LqEoZ'\n",
      " 'Labour couldn’t run the hundred yard dash let alone the fucking country. https://t.co/aGu1U0gqyb'\n",
      " 'Oh fuck... 24th October.   Fuck.   Fuck fuck fuck.'\n",
      " 'Jesus fucking Christ.\\n\\nThe fucking British parliament.\\n\\nWhat the fuck have they just done???'\n",
      " '@RebelliousTodd Fuck.  What’s the *impolite* term then?'\n",
      " 'Ouch.\\n\\nOh fuck ouch.\\n\\nThat’s fucking sore.\\n\\nFffffffuck.'\n",
      " 'Holy. Fuck. She is *amazing*. https://t.co/ka46KcYsPs'\n",
      " 'Holy shit. Euthanised for poor mental health?  Fuck. https://t.co/GmPGzDsXom'\n",
      " 'I know the fucking feeling https://t.co/K1lEKddSRZ'\n",
      " 'Ugh.  So fucking tired of all of this.'\n",
      " '@busby_ruby She’s fucking gorgeous.  She needs some Veet tho.'\n",
      " 'Oh look what the fucking cat dragged in.  You utter utter cunt.'\n",
      " '@piersmorgan Of course. Cos he pole vaulted onto the fucking jet.'\n",
      " '@busby_ruby Jesus fucking Christ' 'Oh. Fuck. https://t.co/C6C45M9T6Y'\n",
      " 'Now *she* is fucking hot. https://t.co/HpiYDOEsxh'\n",
      " 'Fuck this.  Just fuck this. https://t.co/g1fbZfNIiy'\n",
      " 'Should the state fuck off and mind its own counting business?  Motherfuckers. https://t.co/XoR4n78rz6']\n",
      "718890577 0.021167883211678833 ['Said it once and I’ll say it again, I fucking LOVE Twitter shit makes me laugh so hard'\n",
      " '@obsarah25 Fuck yeah 😤😤'\n",
      " 'BOYS Lemme tell ya WE FIND OUT EVERYTHING BITCH HHAHHAHA fuck you'\n",
      " 'I FUCKING LOVE DANCING SHIT'\n",
      " '70 degree weather is my fucking favorite I am thrivingggg'\n",
      " 'This is soooo fucking toxic holy shit'\n",
      " 'The waters warm the sun is out floating on a lake living my best life don’t fucking @ me'\n",
      " 'Liar liar pants on fucking fireeee'\n",
      " 'Gonna fucking send it into the deep end'\n",
      " 'Fuck you fuck you fuck you ffffuuuuccckkkkk yyyyooooouuuu'\n",
      " 'So fucking rude dudes' 'IM FUCKING DEAAAAD 😂😂😂 https://t.co/jwlkSqD0bR'\n",
      " 'Ouch ouch ouchhhhhhhhhh THAT SHIT FUCKING HUrted'\n",
      " 'Re fucking tweet https://t.co/v7za4qlB6G'\n",
      " 'People vaccinate their dogs but they won’t vaccinate their fucking children #whereamericansprioritieslie'\n",
      " 'Rude ass bitch'\n",
      " 'I do this shit to Gunnar all the fucking time 😂 https://t.co/SfBLQ67uAd'\n",
      " 'This world is NOT your trash can don’t fucking liter you inconsiderate asshole'\n",
      " 'Wait why the fuck is it snowing someone plz exmplain I thought I had more time TO PREPARE FOR THIS SHIT'\n",
      " 'I fucking hate online textbooks'\n",
      " 'WHAT THE FUCK IS THIS SHIT https://t.co/dlexkMw9jR'\n",
      " 'Randomly just sitting here with Inès and she goes \" fuck.. I need guacamole\" I fucking love this girl 😂'\n",
      " \"Don't know why everyone's being a fucking scumbag today\"\n",
      " 'Fuck why is life kicking my ass lately ??'\n",
      " 'Wowww you can take that friendship and shove it right up your ass Bc it was fucking shit anyways.'\n",
      " '@MikaelaWentzell fucking true shit'\n",
      " 'My brother is a fucking asshole wtf'\n",
      " 'Megan Hurd is a fucking goddess holy shit' 'Ugh fuck feelings tho']\n",
      "227486162 0.024041585445094216 ['Sis, YOU fucking HIM. https://t.co/nFHrXibdye'\n",
      " 'Fuck... https://t.co/Cils5Yfkgn' 'Stupid dumb bitch.' 'Fuck everyone.'\n",
      " \"No fucking way I'm gonna hit the bottom like before..\"\n",
      " \"I'm so fucking mad.\" 'Why the fuck am I starving rn?!'\n",
      " 'I hate a hating ass bitch.'\n",
      " '@chantalcerda That sucks. Little girls are fucking mean. The other day Kristalynn was so pissed at a little girl sh… https://t.co/c37jYf6y7X'\n",
      " \"Scares the fuck out of me and I don't get scared with movies easily. https://t.co/Fhay1WlkzG\"\n",
      " 'Fuck. https://t.co/w7967GVK8C'\n",
      " 'I hate these stupid fucks. https://t.co/86N1cLS21W'\n",
      " 'I fucking hate wearing pants.'\n",
      " \"I haven't taken selfies in a long ass time cause my brows are shit 😒\"\n",
      " 'I cannot stop fucking laughing at my tia asking my wela por un \"WEEN\" 😂😂 \"NO HAY UN WEEN?\"'\n",
      " \"These carne asada tacos from D Rick's fucking hit the spot \\U0001f970\"\n",
      " 'Fuck them kids. https://t.co/lau9VcU8CF'\n",
      " 'Literally so fucking pissed wtf' 'Fuck yall https://t.co/esGFVrWpuR'\n",
      " 'My fucking legs rn 😍😭'\n",
      " \"I've been having phantom kicks... it's so fucking weird.\"\n",
      " 'Fuck them peasants. https://t.co/jSJCT0akfc'\n",
      " 'Grulla cops are fucking pendejos!! Driving 100 mph without their fucking lights!!'\n",
      " \"Jon didn't even pet him!! Ghost has been so fucking loyal 😭 https://t.co/cyoRPTO6i5\"\n",
      " 'Jaime is a fucking piece of shit for doing that shit to Brienne..'\n",
      " \"I fucking can't 😂😂 https://t.co/KniBY5H07L\" \"I'm so fucking hungry.\"\n",
      " 'Toddlers are fucking crackheads.' 'Soooo fucking annoyed.'\n",
      " 'Lmaooo okay fucking hoe bag.'\n",
      " \"My sister did some fuck up on an iron on and I'm over here trying to fix her shit 😒\"\n",
      " \"Someone send help to La Joya McDonald's. They're fucking everyone's shit up.\"\n",
      " 'Fuck 😂😂 https://t.co/nbWKawbPPw'\n",
      " 'I was a fucking nice bitch. https://t.co/aIiYUFdtr0'\n",
      " \"Can't fucking stand your bitchass. Damn.\"\n",
      " \"Imma still show up to that bitch. You calling me fat?? Okay, I'm here to eat your fucking food. https://t.co/oW6e5s0EfI\"\n",
      " \"Admire from afar but don't fucking stare.\"]\n"
     ]
    },
    {
     "name": "stdout",
     "output_type": "stream",
     "text": [
      "1480452170 0.027777777777777776 ['Fuck Farm workers'\n",
      " 'Also family is fake as fuck? And all they do is bitch, complain, and make fun of you?? https://t.co/yoyp2QLpnq'\n",
      " 'All this shit about the colored cosplayer; WHO FUCKING CARES!!!!! THEY ARE ********FICTIONAL**********'\n",
      " 'People are SO sensitive jesus fucking Christ'\n",
      " 'You’re a fucking crackhead https://t.co/Zco60uw0ND'\n",
      " 'FUCK YOU NEW YORK STATE AND EVERYONE THAT RUNS IT. \\n\\nWHY THE FUCK DO I HAVE TO PAY FOR THESE PEOPLE WHEN I LITERALL… https://t.co/iTtXFov0Q1'\n",
      " 'Goddamn if you REALLY wanna get fucked up? Get drunk and take a fucking dab'\n",
      " 'Lol shit I’m fucking faded' 'God I can’t wait until I’m fucking dead'\n",
      " 'I’m fucking faded'\n",
      " 'Oh my god the sound of a crying baby makes me wanna go fucking insane'\n",
      " 'I’m fucking hungry' 'What the FUCK' 'fucking idiot'\n",
      " '@UchihaBitch_ Damn spoiler as fuck'\n",
      " '@tonyposnanski Fuck around with a beehive without protective gear'\n",
      " 'Eat my fucking ass you dumb bitch'\n",
      " 'you’re fucking weird for letting your dog chew on and lick your toes \\U0001f92e\\U0001f92e\\U0001f92e\\U0001f92e\\U0001f92e\\U0001f92e\\U0001f92e https://t.co/j1RfQuGGgU'\n",
      " 'Serving customers I hate is really the fucking WORST. FUCK THEM https://t.co/w8IJHveBg9'\n",
      " 'And there’s always a chance the blades could break or spin off and fuck some shit UP boi'\n",
      " '@lilcolty hooo shit fo sho' 'ohhh eat shit']\n"
     ]
    },
    {
     "name": "stderr",
     "output_type": "stream",
     "text": [
      "Exception ignored in: 'zmq.backend.cython.message.Frame.__dealloc__'\n",
      "Traceback (most recent call last):\n",
      "  File \"zmq/backend/cython/checkrc.pxd\", line 12, in zmq.backend.cython.checkrc._check_rc (zmq/backend/cython/message.c:4379)\n",
      "KeyboardInterrupt: \n"
     ]
    },
    {
     "ename": "KeyboardInterrupt",
     "evalue": "",
     "output_type": "error",
     "traceback": [
      "\u001b[0;31m---------------------------------------------------------------------------\u001b[0m",
      "\u001b[0;31mKeyboardInterrupt\u001b[0m                         Traceback (most recent call last)",
      "\u001b[0;32m<ipython-input-54-88f06cc9ba97>\u001b[0m in \u001b[0;36m<module>\u001b[0;34m()\u001b[0m\n\u001b[1;32m      3\u001b[0m     \u001b[0;32mif\u001b[0m \u001b[0mlen\u001b[0m\u001b[0;34m(\u001b[0m\u001b[0mtweets\u001b[0m\u001b[0;34m)\u001b[0m \u001b[0;34m<\u001b[0m \u001b[0;36m500\u001b[0m \u001b[0;32mor\u001b[0m \u001b[0muid\u001b[0m \u001b[0;32min\u001b[0m \u001b[0mcontrol_user_scores\u001b[0m\u001b[0;34m:\u001b[0m\u001b[0;34m\u001b[0m\u001b[0;34m\u001b[0m\u001b[0m\n\u001b[1;32m      4\u001b[0m         \u001b[0;32mcontinue\u001b[0m\u001b[0;34m\u001b[0m\u001b[0;34m\u001b[0m\u001b[0m\n\u001b[0;32m----> 5\u001b[0;31m     \u001b[0mpreds\u001b[0m \u001b[0;34m=\u001b[0m \u001b[0mp\u001b[0m\u001b[0;34m.\u001b[0m\u001b[0mpredict_proba\u001b[0m\u001b[0;34m(\u001b[0m\u001b[0mtweets\u001b[0m\u001b[0;34m)\u001b[0m\u001b[0;34m[\u001b[0m\u001b[0;34m:\u001b[0m\u001b[0;34m,\u001b[0m \u001b[0;36m1\u001b[0m\u001b[0;34m]\u001b[0m\u001b[0;34m\u001b[0m\u001b[0;34m\u001b[0m\u001b[0m\n\u001b[0m\u001b[1;32m      6\u001b[0m \u001b[0;34m\u001b[0m\u001b[0m\n\u001b[1;32m      7\u001b[0m     \u001b[0mfrac\u001b[0m \u001b[0;34m=\u001b[0m \u001b[0;34m(\u001b[0m\u001b[0mpreds\u001b[0m \u001b[0;34m>\u001b[0m \u001b[0;36m0.8\u001b[0m\u001b[0;34m)\u001b[0m\u001b[0;34m.\u001b[0m\u001b[0msum\u001b[0m\u001b[0;34m(\u001b[0m\u001b[0;34m)\u001b[0m \u001b[0;34m/\u001b[0m \u001b[0mlen\u001b[0m\u001b[0;34m(\u001b[0m\u001b[0mpreds\u001b[0m\u001b[0;34m)\u001b[0m\u001b[0;34m\u001b[0m\u001b[0;34m\u001b[0m\u001b[0m\n",
      "\u001b[0;32m/usr/local/lib/python3.6/dist-packages/sklearn/utils/metaestimators.py\u001b[0m in \u001b[0;36m<lambda>\u001b[0;34m(*args, **kwargs)\u001b[0m\n\u001b[1;32m    114\u001b[0m \u001b[0;34m\u001b[0m\u001b[0m\n\u001b[1;32m    115\u001b[0m         \u001b[0;31m# lambda, but not partial, allows help() to work with update_wrapper\u001b[0m\u001b[0;34m\u001b[0m\u001b[0;34m\u001b[0m\u001b[0;34m\u001b[0m\u001b[0m\n\u001b[0;32m--> 116\u001b[0;31m         \u001b[0mout\u001b[0m \u001b[0;34m=\u001b[0m \u001b[0;32mlambda\u001b[0m \u001b[0;34m*\u001b[0m\u001b[0margs\u001b[0m\u001b[0;34m,\u001b[0m \u001b[0;34m**\u001b[0m\u001b[0mkwargs\u001b[0m\u001b[0;34m:\u001b[0m \u001b[0mself\u001b[0m\u001b[0;34m.\u001b[0m\u001b[0mfn\u001b[0m\u001b[0;34m(\u001b[0m\u001b[0mobj\u001b[0m\u001b[0;34m,\u001b[0m \u001b[0;34m*\u001b[0m\u001b[0margs\u001b[0m\u001b[0;34m,\u001b[0m \u001b[0;34m**\u001b[0m\u001b[0mkwargs\u001b[0m\u001b[0;34m)\u001b[0m\u001b[0;34m\u001b[0m\u001b[0;34m\u001b[0m\u001b[0m\n\u001b[0m\u001b[1;32m    117\u001b[0m         \u001b[0;31m# update the docstring of the returned function\u001b[0m\u001b[0;34m\u001b[0m\u001b[0;34m\u001b[0m\u001b[0;34m\u001b[0m\u001b[0m\n\u001b[1;32m    118\u001b[0m         \u001b[0mupdate_wrapper\u001b[0m\u001b[0;34m(\u001b[0m\u001b[0mout\u001b[0m\u001b[0;34m,\u001b[0m \u001b[0mself\u001b[0m\u001b[0;34m.\u001b[0m\u001b[0mfn\u001b[0m\u001b[0;34m)\u001b[0m\u001b[0;34m\u001b[0m\u001b[0;34m\u001b[0m\u001b[0m\n",
      "\u001b[0;32m/usr/local/lib/python3.6/dist-packages/sklearn/pipeline.py\u001b[0m in \u001b[0;36mpredict_proba\u001b[0;34m(self, X)\u001b[0m\n\u001b[1;32m    471\u001b[0m         \u001b[0mXt\u001b[0m \u001b[0;34m=\u001b[0m \u001b[0mX\u001b[0m\u001b[0;34m\u001b[0m\u001b[0;34m\u001b[0m\u001b[0m\n\u001b[1;32m    472\u001b[0m         \u001b[0;32mfor\u001b[0m \u001b[0m_\u001b[0m\u001b[0;34m,\u001b[0m \u001b[0mname\u001b[0m\u001b[0;34m,\u001b[0m \u001b[0mtransform\u001b[0m \u001b[0;32min\u001b[0m \u001b[0mself\u001b[0m\u001b[0;34m.\u001b[0m\u001b[0m_iter\u001b[0m\u001b[0;34m(\u001b[0m\u001b[0mwith_final\u001b[0m\u001b[0;34m=\u001b[0m\u001b[0;32mFalse\u001b[0m\u001b[0;34m)\u001b[0m\u001b[0;34m:\u001b[0m\u001b[0;34m\u001b[0m\u001b[0;34m\u001b[0m\u001b[0m\n\u001b[0;32m--> 473\u001b[0;31m             \u001b[0mXt\u001b[0m \u001b[0;34m=\u001b[0m \u001b[0mtransform\u001b[0m\u001b[0;34m.\u001b[0m\u001b[0mtransform\u001b[0m\u001b[0;34m(\u001b[0m\u001b[0mXt\u001b[0m\u001b[0;34m)\u001b[0m\u001b[0;34m\u001b[0m\u001b[0;34m\u001b[0m\u001b[0m\n\u001b[0m\u001b[1;32m    474\u001b[0m         \u001b[0;32mreturn\u001b[0m \u001b[0mself\u001b[0m\u001b[0;34m.\u001b[0m\u001b[0msteps\u001b[0m\u001b[0;34m[\u001b[0m\u001b[0;34m-\u001b[0m\u001b[0;36m1\u001b[0m\u001b[0;34m]\u001b[0m\u001b[0;34m[\u001b[0m\u001b[0;34m-\u001b[0m\u001b[0;36m1\u001b[0m\u001b[0;34m]\u001b[0m\u001b[0;34m.\u001b[0m\u001b[0mpredict_proba\u001b[0m\u001b[0;34m(\u001b[0m\u001b[0mXt\u001b[0m\u001b[0;34m)\u001b[0m\u001b[0;34m\u001b[0m\u001b[0;34m\u001b[0m\u001b[0m\n\u001b[1;32m    475\u001b[0m \u001b[0;34m\u001b[0m\u001b[0m\n",
      "\u001b[0;32m/usr/local/lib/python3.6/dist-packages/sklearn/pipeline.py\u001b[0m in \u001b[0;36mtransform\u001b[0;34m(self, X)\u001b[0m\n\u001b[1;32m    958\u001b[0m         Xs = Parallel(n_jobs=self.n_jobs)(\n\u001b[1;32m    959\u001b[0m             \u001b[0mdelayed\u001b[0m\u001b[0;34m(\u001b[0m\u001b[0m_transform_one\u001b[0m\u001b[0;34m)\u001b[0m\u001b[0;34m(\u001b[0m\u001b[0mtrans\u001b[0m\u001b[0;34m,\u001b[0m \u001b[0mX\u001b[0m\u001b[0;34m,\u001b[0m \u001b[0;32mNone\u001b[0m\u001b[0;34m,\u001b[0m \u001b[0mweight\u001b[0m\u001b[0;34m)\u001b[0m\u001b[0;34m\u001b[0m\u001b[0;34m\u001b[0m\u001b[0m\n\u001b[0;32m--> 960\u001b[0;31m             for name, trans, weight in self._iter())\n\u001b[0m\u001b[1;32m    961\u001b[0m         \u001b[0;32mif\u001b[0m \u001b[0;32mnot\u001b[0m \u001b[0mXs\u001b[0m\u001b[0;34m:\u001b[0m\u001b[0;34m\u001b[0m\u001b[0;34m\u001b[0m\u001b[0m\n\u001b[1;32m    962\u001b[0m             \u001b[0;31m# All transformers are None\u001b[0m\u001b[0;34m\u001b[0m\u001b[0;34m\u001b[0m\u001b[0;34m\u001b[0m\u001b[0m\n",
      "\u001b[0;32m/usr/local/lib/python3.6/dist-packages/joblib/parallel.py\u001b[0m in \u001b[0;36m__call__\u001b[0;34m(self, iterable)\u001b[0m\n\u001b[1;32m   1004\u001b[0m                 \u001b[0mself\u001b[0m\u001b[0;34m.\u001b[0m\u001b[0m_iterating\u001b[0m \u001b[0;34m=\u001b[0m \u001b[0mself\u001b[0m\u001b[0;34m.\u001b[0m\u001b[0m_original_iterator\u001b[0m \u001b[0;32mis\u001b[0m \u001b[0;32mnot\u001b[0m \u001b[0;32mNone\u001b[0m\u001b[0;34m\u001b[0m\u001b[0;34m\u001b[0m\u001b[0m\n\u001b[1;32m   1005\u001b[0m \u001b[0;34m\u001b[0m\u001b[0m\n\u001b[0;32m-> 1006\u001b[0;31m             \u001b[0;32mwhile\u001b[0m \u001b[0mself\u001b[0m\u001b[0;34m.\u001b[0m\u001b[0mdispatch_one_batch\u001b[0m\u001b[0;34m(\u001b[0m\u001b[0miterator\u001b[0m\u001b[0;34m)\u001b[0m\u001b[0;34m:\u001b[0m\u001b[0;34m\u001b[0m\u001b[0;34m\u001b[0m\u001b[0m\n\u001b[0m\u001b[1;32m   1007\u001b[0m                 \u001b[0;32mpass\u001b[0m\u001b[0;34m\u001b[0m\u001b[0;34m\u001b[0m\u001b[0m\n\u001b[1;32m   1008\u001b[0m \u001b[0;34m\u001b[0m\u001b[0m\n",
      "\u001b[0;32m/usr/local/lib/python3.6/dist-packages/joblib/parallel.py\u001b[0m in \u001b[0;36mdispatch_one_batch\u001b[0;34m(self, iterator)\u001b[0m\n\u001b[1;32m    832\u001b[0m                 \u001b[0;32mreturn\u001b[0m \u001b[0;32mFalse\u001b[0m\u001b[0;34m\u001b[0m\u001b[0;34m\u001b[0m\u001b[0m\n\u001b[1;32m    833\u001b[0m             \u001b[0;32melse\u001b[0m\u001b[0;34m:\u001b[0m\u001b[0;34m\u001b[0m\u001b[0;34m\u001b[0m\u001b[0m\n\u001b[0;32m--> 834\u001b[0;31m                 \u001b[0mself\u001b[0m\u001b[0;34m.\u001b[0m\u001b[0m_dispatch\u001b[0m\u001b[0;34m(\u001b[0m\u001b[0mtasks\u001b[0m\u001b[0;34m)\u001b[0m\u001b[0;34m\u001b[0m\u001b[0;34m\u001b[0m\u001b[0m\n\u001b[0m\u001b[1;32m    835\u001b[0m                 \u001b[0;32mreturn\u001b[0m \u001b[0;32mTrue\u001b[0m\u001b[0;34m\u001b[0m\u001b[0;34m\u001b[0m\u001b[0m\n\u001b[1;32m    836\u001b[0m \u001b[0;34m\u001b[0m\u001b[0m\n",
      "\u001b[0;32m/usr/local/lib/python3.6/dist-packages/joblib/parallel.py\u001b[0m in \u001b[0;36m_dispatch\u001b[0;34m(self, batch)\u001b[0m\n\u001b[1;32m    751\u001b[0m         \u001b[0;32mwith\u001b[0m \u001b[0mself\u001b[0m\u001b[0;34m.\u001b[0m\u001b[0m_lock\u001b[0m\u001b[0;34m:\u001b[0m\u001b[0;34m\u001b[0m\u001b[0;34m\u001b[0m\u001b[0m\n\u001b[1;32m    752\u001b[0m             \u001b[0mjob_idx\u001b[0m \u001b[0;34m=\u001b[0m \u001b[0mlen\u001b[0m\u001b[0;34m(\u001b[0m\u001b[0mself\u001b[0m\u001b[0;34m.\u001b[0m\u001b[0m_jobs\u001b[0m\u001b[0;34m)\u001b[0m\u001b[0;34m\u001b[0m\u001b[0;34m\u001b[0m\u001b[0m\n\u001b[0;32m--> 753\u001b[0;31m             \u001b[0mjob\u001b[0m \u001b[0;34m=\u001b[0m \u001b[0mself\u001b[0m\u001b[0;34m.\u001b[0m\u001b[0m_backend\u001b[0m\u001b[0;34m.\u001b[0m\u001b[0mapply_async\u001b[0m\u001b[0;34m(\u001b[0m\u001b[0mbatch\u001b[0m\u001b[0;34m,\u001b[0m \u001b[0mcallback\u001b[0m\u001b[0;34m=\u001b[0m\u001b[0mcb\u001b[0m\u001b[0;34m)\u001b[0m\u001b[0;34m\u001b[0m\u001b[0;34m\u001b[0m\u001b[0m\n\u001b[0m\u001b[1;32m    754\u001b[0m             \u001b[0;31m# A job can complete so quickly than its callback is\u001b[0m\u001b[0;34m\u001b[0m\u001b[0;34m\u001b[0m\u001b[0;34m\u001b[0m\u001b[0m\n\u001b[1;32m    755\u001b[0m             \u001b[0;31m# called before we get here, causing self._jobs to\u001b[0m\u001b[0;34m\u001b[0m\u001b[0;34m\u001b[0m\u001b[0;34m\u001b[0m\u001b[0m\n",
      "\u001b[0;32m/usr/local/lib/python3.6/dist-packages/joblib/_parallel_backends.py\u001b[0m in \u001b[0;36mapply_async\u001b[0;34m(self, func, callback)\u001b[0m\n\u001b[1;32m    199\u001b[0m     \u001b[0;32mdef\u001b[0m \u001b[0mapply_async\u001b[0m\u001b[0;34m(\u001b[0m\u001b[0mself\u001b[0m\u001b[0;34m,\u001b[0m \u001b[0mfunc\u001b[0m\u001b[0;34m,\u001b[0m \u001b[0mcallback\u001b[0m\u001b[0;34m=\u001b[0m\u001b[0;32mNone\u001b[0m\u001b[0;34m)\u001b[0m\u001b[0;34m:\u001b[0m\u001b[0;34m\u001b[0m\u001b[0;34m\u001b[0m\u001b[0m\n\u001b[1;32m    200\u001b[0m         \u001b[0;34m\"\"\"Schedule a func to be run\"\"\"\u001b[0m\u001b[0;34m\u001b[0m\u001b[0;34m\u001b[0m\u001b[0m\n\u001b[0;32m--> 201\u001b[0;31m         \u001b[0mresult\u001b[0m \u001b[0;34m=\u001b[0m \u001b[0mImmediateResult\u001b[0m\u001b[0;34m(\u001b[0m\u001b[0mfunc\u001b[0m\u001b[0;34m)\u001b[0m\u001b[0;34m\u001b[0m\u001b[0;34m\u001b[0m\u001b[0m\n\u001b[0m\u001b[1;32m    202\u001b[0m         \u001b[0;32mif\u001b[0m \u001b[0mcallback\u001b[0m\u001b[0;34m:\u001b[0m\u001b[0;34m\u001b[0m\u001b[0;34m\u001b[0m\u001b[0m\n\u001b[1;32m    203\u001b[0m             \u001b[0mcallback\u001b[0m\u001b[0;34m(\u001b[0m\u001b[0mresult\u001b[0m\u001b[0;34m)\u001b[0m\u001b[0;34m\u001b[0m\u001b[0;34m\u001b[0m\u001b[0m\n",
      "\u001b[0;32m/usr/local/lib/python3.6/dist-packages/joblib/_parallel_backends.py\u001b[0m in \u001b[0;36m__init__\u001b[0;34m(self, batch)\u001b[0m\n\u001b[1;32m    580\u001b[0m         \u001b[0;31m# Don't delay the application, to avoid keeping the input\u001b[0m\u001b[0;34m\u001b[0m\u001b[0;34m\u001b[0m\u001b[0;34m\u001b[0m\u001b[0m\n\u001b[1;32m    581\u001b[0m         \u001b[0;31m# arguments in memory\u001b[0m\u001b[0;34m\u001b[0m\u001b[0;34m\u001b[0m\u001b[0;34m\u001b[0m\u001b[0m\n\u001b[0;32m--> 582\u001b[0;31m         \u001b[0mself\u001b[0m\u001b[0;34m.\u001b[0m\u001b[0mresults\u001b[0m \u001b[0;34m=\u001b[0m \u001b[0mbatch\u001b[0m\u001b[0;34m(\u001b[0m\u001b[0;34m)\u001b[0m\u001b[0;34m\u001b[0m\u001b[0;34m\u001b[0m\u001b[0m\n\u001b[0m\u001b[1;32m    583\u001b[0m \u001b[0;34m\u001b[0m\u001b[0m\n\u001b[1;32m    584\u001b[0m     \u001b[0;32mdef\u001b[0m \u001b[0mget\u001b[0m\u001b[0;34m(\u001b[0m\u001b[0mself\u001b[0m\u001b[0;34m)\u001b[0m\u001b[0;34m:\u001b[0m\u001b[0;34m\u001b[0m\u001b[0;34m\u001b[0m\u001b[0m\n",
      "\u001b[0;32m/usr/local/lib/python3.6/dist-packages/joblib/parallel.py\u001b[0m in \u001b[0;36m__call__\u001b[0;34m(self)\u001b[0m\n\u001b[1;32m    254\u001b[0m         \u001b[0;32mwith\u001b[0m \u001b[0mparallel_backend\u001b[0m\u001b[0;34m(\u001b[0m\u001b[0mself\u001b[0m\u001b[0;34m.\u001b[0m\u001b[0m_backend\u001b[0m\u001b[0;34m,\u001b[0m \u001b[0mn_jobs\u001b[0m\u001b[0;34m=\u001b[0m\u001b[0mself\u001b[0m\u001b[0;34m.\u001b[0m\u001b[0m_n_jobs\u001b[0m\u001b[0;34m)\u001b[0m\u001b[0;34m:\u001b[0m\u001b[0;34m\u001b[0m\u001b[0;34m\u001b[0m\u001b[0m\n\u001b[1;32m    255\u001b[0m             return [func(*args, **kwargs)\n\u001b[0;32m--> 256\u001b[0;31m                     for func, args, kwargs in self.items]\n\u001b[0m\u001b[1;32m    257\u001b[0m \u001b[0;34m\u001b[0m\u001b[0m\n\u001b[1;32m    258\u001b[0m     \u001b[0;32mdef\u001b[0m \u001b[0m__len__\u001b[0m\u001b[0;34m(\u001b[0m\u001b[0mself\u001b[0m\u001b[0;34m)\u001b[0m\u001b[0;34m:\u001b[0m\u001b[0;34m\u001b[0m\u001b[0;34m\u001b[0m\u001b[0m\n",
      "\u001b[0;32m/usr/local/lib/python3.6/dist-packages/joblib/parallel.py\u001b[0m in \u001b[0;36m<listcomp>\u001b[0;34m(.0)\u001b[0m\n\u001b[1;32m    254\u001b[0m         \u001b[0;32mwith\u001b[0m \u001b[0mparallel_backend\u001b[0m\u001b[0;34m(\u001b[0m\u001b[0mself\u001b[0m\u001b[0;34m.\u001b[0m\u001b[0m_backend\u001b[0m\u001b[0;34m,\u001b[0m \u001b[0mn_jobs\u001b[0m\u001b[0;34m=\u001b[0m\u001b[0mself\u001b[0m\u001b[0;34m.\u001b[0m\u001b[0m_n_jobs\u001b[0m\u001b[0;34m)\u001b[0m\u001b[0;34m:\u001b[0m\u001b[0;34m\u001b[0m\u001b[0;34m\u001b[0m\u001b[0m\n\u001b[1;32m    255\u001b[0m             return [func(*args, **kwargs)\n\u001b[0;32m--> 256\u001b[0;31m                     for func, args, kwargs in self.items]\n\u001b[0m\u001b[1;32m    257\u001b[0m \u001b[0;34m\u001b[0m\u001b[0m\n\u001b[1;32m    258\u001b[0m     \u001b[0;32mdef\u001b[0m \u001b[0m__len__\u001b[0m\u001b[0;34m(\u001b[0m\u001b[0mself\u001b[0m\u001b[0;34m)\u001b[0m\u001b[0;34m:\u001b[0m\u001b[0;34m\u001b[0m\u001b[0;34m\u001b[0m\u001b[0m\n",
      "\u001b[0;32m/usr/local/lib/python3.6/dist-packages/sklearn/pipeline.py\u001b[0m in \u001b[0;36m_transform_one\u001b[0;34m(transformer, X, y, weight, **fit_params)\u001b[0m\n\u001b[1;32m    693\u001b[0m \u001b[0;34m\u001b[0m\u001b[0m\n\u001b[1;32m    694\u001b[0m \u001b[0;32mdef\u001b[0m \u001b[0m_transform_one\u001b[0m\u001b[0;34m(\u001b[0m\u001b[0mtransformer\u001b[0m\u001b[0;34m,\u001b[0m \u001b[0mX\u001b[0m\u001b[0;34m,\u001b[0m \u001b[0my\u001b[0m\u001b[0;34m,\u001b[0m \u001b[0mweight\u001b[0m\u001b[0;34m,\u001b[0m \u001b[0;34m**\u001b[0m\u001b[0mfit_params\u001b[0m\u001b[0;34m)\u001b[0m\u001b[0;34m:\u001b[0m\u001b[0;34m\u001b[0m\u001b[0;34m\u001b[0m\u001b[0m\n\u001b[0;32m--> 695\u001b[0;31m     \u001b[0mres\u001b[0m \u001b[0;34m=\u001b[0m \u001b[0mtransformer\u001b[0m\u001b[0;34m.\u001b[0m\u001b[0mtransform\u001b[0m\u001b[0;34m(\u001b[0m\u001b[0mX\u001b[0m\u001b[0;34m)\u001b[0m\u001b[0;34m\u001b[0m\u001b[0;34m\u001b[0m\u001b[0m\n\u001b[0m\u001b[1;32m    696\u001b[0m     \u001b[0;31m# if we have a weight for this transformer, multiply output\u001b[0m\u001b[0;34m\u001b[0m\u001b[0;34m\u001b[0m\u001b[0;34m\u001b[0m\u001b[0m\n\u001b[1;32m    697\u001b[0m     \u001b[0;32mif\u001b[0m \u001b[0mweight\u001b[0m \u001b[0;32mis\u001b[0m \u001b[0;32mNone\u001b[0m\u001b[0;34m:\u001b[0m\u001b[0;34m\u001b[0m\u001b[0;34m\u001b[0m\u001b[0m\n",
      "\u001b[0;32m/media/disk1/social/twitter_harrassment/src/classifier_utils.py\u001b[0m in \u001b[0;36mtransform\u001b[0;34m(self, recs)\u001b[0m\n\u001b[1;32m     83\u001b[0m \u001b[0;34m\u001b[0m\u001b[0m\n\u001b[1;32m     84\u001b[0m     \u001b[0;32mdef\u001b[0m \u001b[0mtransform\u001b[0m\u001b[0;34m(\u001b[0m\u001b[0mself\u001b[0m\u001b[0;34m,\u001b[0m \u001b[0mrecs\u001b[0m\u001b[0;34m)\u001b[0m\u001b[0;34m:\u001b[0m\u001b[0;34m\u001b[0m\u001b[0;34m\u001b[0m\u001b[0m\n\u001b[0;32m---> 85\u001b[0;31m         \u001b[0;32mreturn\u001b[0m \u001b[0mnp\u001b[0m\u001b[0;34m.\u001b[0m\u001b[0marray\u001b[0m\u001b[0;34m(\u001b[0m\u001b[0;34m[\u001b[0m\u001b[0mself\u001b[0m\u001b[0;34m.\u001b[0m\u001b[0mother_features\u001b[0m\u001b[0;34m(\u001b[0m\u001b[0mt\u001b[0m\u001b[0;34m)\u001b[0m \u001b[0;32mfor\u001b[0m \u001b[0mt\u001b[0m \u001b[0;32min\u001b[0m \u001b[0mrecs\u001b[0m\u001b[0;34m]\u001b[0m\u001b[0;34m)\u001b[0m\u001b[0;34m\u001b[0m\u001b[0;34m\u001b[0m\u001b[0m\n\u001b[0m\u001b[1;32m     86\u001b[0m \u001b[0;34m\u001b[0m\u001b[0m\n\u001b[1;32m     87\u001b[0m \u001b[0;34m\u001b[0m\u001b[0m\n",
      "\u001b[0;32m/media/disk1/social/twitter_harrassment/src/classifier_utils.py\u001b[0m in \u001b[0;36m<listcomp>\u001b[0;34m(.0)\u001b[0m\n\u001b[1;32m     83\u001b[0m \u001b[0;34m\u001b[0m\u001b[0m\n\u001b[1;32m     84\u001b[0m     \u001b[0;32mdef\u001b[0m \u001b[0mtransform\u001b[0m\u001b[0;34m(\u001b[0m\u001b[0mself\u001b[0m\u001b[0;34m,\u001b[0m \u001b[0mrecs\u001b[0m\u001b[0;34m)\u001b[0m\u001b[0;34m:\u001b[0m\u001b[0;34m\u001b[0m\u001b[0;34m\u001b[0m\u001b[0m\n\u001b[0;32m---> 85\u001b[0;31m         \u001b[0;32mreturn\u001b[0m \u001b[0mnp\u001b[0m\u001b[0;34m.\u001b[0m\u001b[0marray\u001b[0m\u001b[0;34m(\u001b[0m\u001b[0;34m[\u001b[0m\u001b[0mself\u001b[0m\u001b[0;34m.\u001b[0m\u001b[0mother_features\u001b[0m\u001b[0;34m(\u001b[0m\u001b[0mt\u001b[0m\u001b[0;34m)\u001b[0m \u001b[0;32mfor\u001b[0m \u001b[0mt\u001b[0m \u001b[0;32min\u001b[0m \u001b[0mrecs\u001b[0m\u001b[0;34m]\u001b[0m\u001b[0;34m)\u001b[0m\u001b[0;34m\u001b[0m\u001b[0;34m\u001b[0m\u001b[0m\n\u001b[0m\u001b[1;32m     86\u001b[0m \u001b[0;34m\u001b[0m\u001b[0m\n\u001b[1;32m     87\u001b[0m \u001b[0;34m\u001b[0m\u001b[0m\n",
      "\u001b[0;32m/media/disk1/social/twitter_harrassment/src/classifier_utils.py\u001b[0m in \u001b[0;36mother_features\u001b[0;34m(self, tweet)\u001b[0m\n\u001b[1;32m     55\u001b[0m         \u001b[0mwords\u001b[0m \u001b[0;34m=\u001b[0m \u001b[0mpreprocess\u001b[0m\u001b[0;34m(\u001b[0m\u001b[0mtweet\u001b[0m\u001b[0;34m)\u001b[0m \u001b[0;31m#Get text only\u001b[0m\u001b[0;34m\u001b[0m\u001b[0;34m\u001b[0m\u001b[0m\n\u001b[1;32m     56\u001b[0m \u001b[0;34m\u001b[0m\u001b[0m\n\u001b[0;32m---> 57\u001b[0;31m         \u001b[0msyllables\u001b[0m \u001b[0;34m=\u001b[0m \u001b[0mtextstat\u001b[0m\u001b[0;34m.\u001b[0m\u001b[0msyllable_count\u001b[0m\u001b[0;34m(\u001b[0m\u001b[0mwords\u001b[0m\u001b[0;34m)\u001b[0m \u001b[0;31m#count syllables in words\u001b[0m\u001b[0;34m\u001b[0m\u001b[0;34m\u001b[0m\u001b[0m\n\u001b[0m\u001b[1;32m     58\u001b[0m         \u001b[0mnum_chars\u001b[0m \u001b[0;34m=\u001b[0m \u001b[0msum\u001b[0m\u001b[0;34m(\u001b[0m\u001b[0mlen\u001b[0m\u001b[0;34m(\u001b[0m\u001b[0mw\u001b[0m\u001b[0;34m)\u001b[0m \u001b[0;32mfor\u001b[0m \u001b[0mw\u001b[0m \u001b[0;32min\u001b[0m \u001b[0mwords\u001b[0m\u001b[0;34m)\u001b[0m \u001b[0;31m#num chars in words\u001b[0m\u001b[0;34m\u001b[0m\u001b[0;34m\u001b[0m\u001b[0m\n\u001b[1;32m     59\u001b[0m         \u001b[0mnum_chars_total\u001b[0m \u001b[0;34m=\u001b[0m \u001b[0mlen\u001b[0m\u001b[0;34m(\u001b[0m\u001b[0mtweet\u001b[0m\u001b[0;34m)\u001b[0m\u001b[0;34m\u001b[0m\u001b[0;34m\u001b[0m\u001b[0m\n",
      "\u001b[0;32m/usr/local/lib/python3.6/dist-packages/repoze/lru/__init__.py\u001b[0m in \u001b[0;36mcached_wrapper\u001b[0;34m(*args, **kwargs)\u001b[0m\n\u001b[1;32m    346\u001b[0m                 \u001b[0mval\u001b[0m \u001b[0;34m=\u001b[0m \u001b[0mcache\u001b[0m\u001b[0;34m.\u001b[0m\u001b[0mget\u001b[0m\u001b[0;34m(\u001b[0m\u001b[0mkey\u001b[0m\u001b[0;34m,\u001b[0m \u001b[0mmarker\u001b[0m\u001b[0;34m)\u001b[0m\u001b[0;34m\u001b[0m\u001b[0;34m\u001b[0m\u001b[0m\n\u001b[1;32m    347\u001b[0m                 \u001b[0;32mif\u001b[0m \u001b[0mval\u001b[0m \u001b[0;32mis\u001b[0m \u001b[0mmarker\u001b[0m\u001b[0;34m:\u001b[0m\u001b[0;34m\u001b[0m\u001b[0;34m\u001b[0m\u001b[0m\n\u001b[0;32m--> 348\u001b[0;31m                     \u001b[0mval\u001b[0m \u001b[0;34m=\u001b[0m \u001b[0mfunc\u001b[0m\u001b[0;34m(\u001b[0m\u001b[0;34m*\u001b[0m\u001b[0margs\u001b[0m\u001b[0;34m,\u001b[0m \u001b[0;34m**\u001b[0m\u001b[0mkwargs\u001b[0m\u001b[0;34m)\u001b[0m\u001b[0;34m\u001b[0m\u001b[0;34m\u001b[0m\u001b[0m\n\u001b[0m\u001b[1;32m    349\u001b[0m                     \u001b[0mcache\u001b[0m\u001b[0;34m.\u001b[0m\u001b[0mput\u001b[0m\u001b[0;34m(\u001b[0m\u001b[0mkey\u001b[0m\u001b[0;34m,\u001b[0m \u001b[0mval\u001b[0m\u001b[0;34m)\u001b[0m\u001b[0;34m\u001b[0m\u001b[0;34m\u001b[0m\u001b[0m\n\u001b[1;32m    350\u001b[0m                 \u001b[0;32mreturn\u001b[0m \u001b[0mval\u001b[0m\u001b[0;34m\u001b[0m\u001b[0;34m\u001b[0m\u001b[0m\n",
      "\u001b[0;32m/usr/local/lib/python3.6/dist-packages/textstat/textstat.py\u001b[0m in \u001b[0;36msyllable_count\u001b[0;34m(self, text, lang)\u001b[0m\n\u001b[1;32m     94\u001b[0m         \u001b[0mcount\u001b[0m \u001b[0;34m=\u001b[0m \u001b[0;36m0\u001b[0m\u001b[0;34m\u001b[0m\u001b[0;34m\u001b[0m\u001b[0m\n\u001b[1;32m     95\u001b[0m         \u001b[0;32mfor\u001b[0m \u001b[0mword\u001b[0m \u001b[0;32min\u001b[0m \u001b[0mtext\u001b[0m\u001b[0;34m.\u001b[0m\u001b[0msplit\u001b[0m\u001b[0;34m(\u001b[0m\u001b[0;34m' '\u001b[0m\u001b[0;34m)\u001b[0m\u001b[0;34m:\u001b[0m\u001b[0;34m\u001b[0m\u001b[0;34m\u001b[0m\u001b[0m\n\u001b[0;32m---> 96\u001b[0;31m             \u001b[0mword_hyphenated\u001b[0m \u001b[0;34m=\u001b[0m \u001b[0mdic\u001b[0m\u001b[0;34m.\u001b[0m\u001b[0minserted\u001b[0m\u001b[0;34m(\u001b[0m\u001b[0mword\u001b[0m\u001b[0;34m)\u001b[0m\u001b[0;34m\u001b[0m\u001b[0;34m\u001b[0m\u001b[0m\n\u001b[0m\u001b[1;32m     97\u001b[0m             \u001b[0mcount\u001b[0m \u001b[0;34m+=\u001b[0m \u001b[0mmax\u001b[0m\u001b[0;34m(\u001b[0m\u001b[0;36m1\u001b[0m\u001b[0;34m,\u001b[0m \u001b[0mword_hyphenated\u001b[0m\u001b[0;34m.\u001b[0m\u001b[0mcount\u001b[0m\u001b[0;34m(\u001b[0m\u001b[0;34m\"-\"\u001b[0m\u001b[0;34m)\u001b[0m \u001b[0;34m+\u001b[0m \u001b[0;36m1\u001b[0m\u001b[0;34m)\u001b[0m\u001b[0;34m\u001b[0m\u001b[0;34m\u001b[0m\u001b[0m\n\u001b[1;32m     98\u001b[0m         \u001b[0;32mreturn\u001b[0m \u001b[0mcount\u001b[0m\u001b[0;34m\u001b[0m\u001b[0;34m\u001b[0m\u001b[0m\n",
      "\u001b[0;32m/usr/local/lib/python3.6/dist-packages/pyphen/__init__.py\u001b[0m in \u001b[0;36minserted\u001b[0;34m(self, word, hyphen)\u001b[0m\n\u001b[1;32m    284\u001b[0m                 \u001b[0;32mreturn\u001b[0m \u001b[0mw1\u001b[0m \u001b[0;34m+\u001b[0m \u001b[0mhyphen\u001b[0m\u001b[0;34m,\u001b[0m \u001b[0mw2\u001b[0m\u001b[0;34m\u001b[0m\u001b[0;34m\u001b[0m\u001b[0m\n\u001b[1;32m    285\u001b[0m \u001b[0;34m\u001b[0m\u001b[0m\n\u001b[0;32m--> 286\u001b[0;31m     \u001b[0;32mdef\u001b[0m \u001b[0minserted\u001b[0m\u001b[0;34m(\u001b[0m\u001b[0mself\u001b[0m\u001b[0;34m,\u001b[0m \u001b[0mword\u001b[0m\u001b[0;34m,\u001b[0m \u001b[0mhyphen\u001b[0m\u001b[0;34m=\u001b[0m\u001b[0;34m'-'\u001b[0m\u001b[0;34m)\u001b[0m\u001b[0;34m:\u001b[0m\u001b[0;34m\u001b[0m\u001b[0;34m\u001b[0m\u001b[0m\n\u001b[0m\u001b[1;32m    287\u001b[0m         \"\"\"Get the word as a string with all the possible hyphens inserted.\n\u001b[1;32m    288\u001b[0m \u001b[0;34m\u001b[0m\u001b[0m\n",
      "\u001b[0;31mKeyboardInterrupt\u001b[0m: "
     ]
    }
   ],
   "source": [
    "control_user_scores = {}\n",
    "for uid, tweets in control_user_tweets.items():\n",
    "    if len(tweets) < 500 or uid in control_user_scores:\n",
    "        continue\n",
    "    preds = p.predict_proba(tweets)[:, 1]\n",
    "    \n",
    "    frac = (preds > 0.8).sum() / len(preds)\n",
    "    if frac > 0.01:\n",
    "        print(uid, frac, np.array(tweets)[preds > 0.8])\n",
    "    control_user_scores[uid] = frac"
   ]
  },
  {
   "cell_type": "code",
   "execution_count": 51,
   "metadata": {},
   "outputs": [
    {
     "name": "stderr",
     "output_type": "stream",
     "text": [
      "/usr/lib/python3.6/re.py:212: FutureWarning:\n",
      "\n",
      "split() requires a non-empty pattern match.\n",
      "\n"
     ]
    },
    {
     "name": "stdout",
     "output_type": "stream",
     "text": [
      "['@SunsetFranklin Fuck off' '@MikeNealIN Oh fuck off you dunce'\n",
      " '@tombrennerphoto @realDonaldTrump What a worthless piece of shit'\n",
      " '@JessicaASmith8 @SenatorBraun @SenatorShaheen @YahooFinance Hard fucking pass'\n",
      " '@indgop @SenatorBraun Hard fucking pass' '@marinehel Fuck off'\n",
      " '@washingtonpost Because she’s a fucking liar' '@RobMKendall Fuck off'\n",
      " '@TheMopLady Fuck that guy forever'\n",
      " '@SenatorBraun @Varneyco @FoxBusiness Fuck you'\n",
      " '@RaheemKassam @FireRokita @SenatorBraun @JasonMillerinDC You are a fucking Nazi.'\n",
      " '@SenatorBraun @JasonMillerinDC @RaheemKassam Garbage loves garbage. You are a fucking disgrace.'\n",
      " '@Citiz4Solutions @SenatorBraun I’ll send him a fucking message https://t.co/E7cxXBek0K'\n",
      " '@VAVetBenefits @SebGorka What the fuck? Seb’s a fucking Nazi you tools.'\n",
      " '@CLH45 Hey- fuck off! Fuck @IvankaTrump too!'\n",
      " '@rmittpanda What the fuck do you think you are saying? You’re an idiot'\n",
      " '@megynkelly Hardest of hard fucking passes. Please go away forever'\n",
      " '@MandalorianAlex @hwkbgr Fuck off' '@MandalorianAlex Fuck off'\n",
      " '@MandalorianAlex Fuck off' '@MandalorianAlex Fuck off'\n",
      " '@MandalorianAlex @Hoosier_Legend Fuck off' '@MandalorianAlex Fuck off'\n",
      " '@BloombergTV @SenatorBraun @DavidWestin This dumb shit knows nothing'\n",
      " '@Hoosier_Legend Fuck off'\n",
      " '@UnpresidentedI @SenToddYoung No fucking way. Todd is a committed bootlicker.'\n",
      " 'Look at this shit. West Lafayette WTF https://t.co/MkI3PEqWjW'\n",
      " '@SteveScalise @realDonaldTrump Asking Greg Pence—he’s sitting on the committee-quit fucking lying you piece of shit… https://t.co/NhKSum4dNx'\n",
      " '@evergreentwete @schadenfraade @mtsw Then fucking quit accepting political ads!'\n",
      " '@SenateGOP @SenToddYoung Fuck off'\n",
      " '@dukedynamite @DWhitINger @GreggDoyelStar @ButlerBlue3 Huh. They have made the correction online. I guess it does work. Go fucking figure.'\n",
      " '@chunkmartin78 Fuck off'\n",
      " '@meghan_daum I realized that you didn’t know what the fuck you were talking about when you claimed that women our a… https://t.co/kA5zMfstL4'\n",
      " '@SarahAMatthews1 @realDonaldTrump Lofuckingl. What a bunch of fucking idiots 😂😂'\n",
      " '@SenatorBraun @realDonaldTrump You are a fucking monster https://t.co/gSUvhzrgpD'\n",
      " '@SenatorBraun @realDonaldTrump You are a real piece of shit @SenatorBraun https://t.co/gZONOoNCqx'\n",
      " '@dawn_kroh @SenatorBraun @GOP He’s a real piece of shit'\n",
      " 'Fucking @SenatorBraun  was part of this. What a piece of shit https://t.co/U80CHPiMaC'\n",
      " '@slolivari @SusanWBrooks @DianneinAustin You fucking idiots'\n",
      " 'What a lying piece of shit https://t.co/7VsmRpz76P'\n",
      " '@lizpeek @ewarren Who has a pension? How fucking old are you? 80?'\n",
      " '@DonaldJTrumpJr Fuck off' '@USCISCuccinelli Fuck off'\n",
      " '@0xCAFEBEEF Fuck off' '@KentAbernathyIN Hard fucking pass'\n",
      " '@JebBush Oh fuck off'\n",
      " '@SenatorBraun @realDonaldTrump Fuck off you idiot.'\n",
      " '@Jimmmyz169 Wrong. Bethany is a real piece of shit.'\n",
      " '@marinehel @suptdrmccormick @EducateIN Make up your fucking mind https://t.co/0J7V9fknme'\n",
      " '@indystar When did @SenatorBraun receive his medical degree? He’s a real piece of shit and a liar.'\n",
      " '@SallyAlbright Fuck off' '@SallyAlbright Fuck off'\n",
      " '@seanspicer @GovMikeHuckabee Fuck off' '@Reince @seanspicer Fuck off'\n",
      " '@_jessicabarth_ @seanspicer Fuck off'\n",
      " '@VicRyc @indystar @VP Sorry to hear that. He fucking sucks'\n",
      " '@brestonparfield @LouisPeitzman But-if you fuck up-apologize. He has not.'\n",
      " '@brestonparfield @LouisPeitzman Wat? Non racist people usually don’t say racist shit.'\n",
      " '@DrSyn *you’re a fucking moron'\n",
      " '@DrSyn Fuck off you moron https://t.co/r1mmEEuKzT'\n",
      " '@Greyhound80 Fuck off 😂😂😂😂' '@DSMRoyal @MailOnline Fuck off'\n",
      " '@robdaemon @Classicalib @joshlogan42 @indystar Oh fuck off 😂😂😂😂 https://t.co/GG32dhnM3I'\n",
      " '@robdaemon @Classicalib @joshlogan42 @indystar You live in fucking Washington. Fuck off'\n",
      " '@K_Authenreith @indystar You live in fucking Tennessee. Fuck off'\n",
      " '@indystar This fucking sucks' '@indystar This fucking sucks'\n",
      " 'This fucking sucks https://t.co/PLRxgLbcx2'\n",
      " '@GmThompson7 @ryanjbrandt Nice language you fucking moron 😂😂😂😂 https://t.co/AWqsCC1IqF'\n",
      " '@GmThompson7 Go fuck your ferret.'\n",
      " '@SusanWBrooks Hardest of hard fucking passes.'\n",
      " '@NPRinskeep @petersagal Aren’t you both so fucking noble! Much brave right here. 🙄'\n",
      " '@SenatorBraun @FoxBusiness Hard fucking pass you disingenuous fool. https://t.co/81x3H9BIKB'\n",
      " '@hollyrob19 Fuck off https://t.co/qAZn6IBUiy'\n",
      " '@indystar Hard fucking pass. She sucks. Please leave.'\n",
      " '@THR @seanspicer Fuck this guy' '@dorner_martina She fucking sucks'\n",
      " '@gjbrewingco She fucking sucks'\n",
      " '@317lindquist @indystar @indycdandvinyl @artscouncilindy @Bluebeardindy1 She fucking sucks and should leave and never return'\n",
      " '@desiburton @JulesMuck Lol she fucking sucks'\n",
      " '@itsme_NOEL She fucking sucks'\n",
      " '@317lindquist @indystar @artscouncilindy She fucking sucks. I hope you encouraged her leave.'\n",
      " '@zanepasley She fucking sucks'\n",
      " '@317lindquist @DanaBenbow She fucking sucks. Can she please leave Indy now?'\n",
      " '@dorner_martina She fucking sucks'\n",
      " '@ClintErbacherTV @JulesMuck @WTHRcom @KarenCampbellTV She fucking sucks. Can she leave now?'\n",
      " '@AmericaFirstPAC @seanspicer @DancingABC Fuck you all'\n",
      " '@AllisonLCarter @indystar Muck fucking sucks. Can she please GO NOW?'\n",
      " '@DanaBenbow @indystar Muck fucking sucks'\n",
      " '@indystar Muck fucking sucks and needs to leave'\n",
      " '@indystar This artist fucking sucks and needs to leave'\n",
      " '@indystar This artist fucking sucks and needs to leave'\n",
      " '@indystar This artist fucking sucks and needs to leave'\n",
      " '@indystar This artist fucking sucks and needs to leave'\n",
      " '@indystar This artist fucking sucks and needs to leave'\n",
      " '@BethAMurphy @WibcS @rosie_branson @indystar She enjoys viewing young people in a jail setting because she fucking sucks'\n",
      " '@indystar She fucking sucks' '@indystar She fucking sucks'\n",
      " '@ArikaHerron @indystar @BetsyDeVosED She enjoyed viewing young people in a jail setting because she fucking sucks'\n",
      " '@ArikaHerron @indystar @BetsyDeVosED @TLM She does enjoy viewing young people in a jail setting because she fucking sucks'\n",
      " '@indystar She enjoys viewing young people in a jail setting. Because she fucking sucks'\n",
      " '@indystar Besty 😂. Also-no matter what you call her-she fucking sucks'\n",
      " '@indystar Besty 😂. Also-no matter what you call her-she fucking sucks'\n",
      " '@indystar Besty 😂. Also-no matter what you call her-she fucking sucks'\n",
      " '@indystar Besty 😂. Also-no matter what you call her-she fucking sucks'\n",
      " '@indystar Besty 😂. Also-no matter what you call her-she fucking sucks'\n",
      " '@Team_Mitch Fuck off https://t.co/WTlw1N0iFB'\n",
      " '@SenatorBraun Oh fuck you and your worthless photo ops. Shameful'\n",
      " '@RockyTopGBO @darkhairme @realDonaldTrump This IS the photo op you fucking idiot'\n",
      " '@93wibc @tonykatz Lick those boots you fucking racist'\n",
      " '@93wibc @chicksonright Who the fuck cares?'\n",
      " '@hobartpd112 @SenatorBraun Fuck you.'\n",
      " '@wheatfieldmike @SenatorBraun Fuck off'\n",
      " '@mbrooksrjc @realDonaldTrump Fuck you'\n",
      " '@SenToddYoung @93wibc You are a fucking disgrace.'\n",
      " '@NikkiHaley Fuck off' '@NikkiHaley Lofuckingl. Shut up and fuck off'\n",
      " '@CatesVc Obstruction you fucking moron'\n",
      " '@SenToddYoung @ToddRokitaIN Fuck you Todds. You both suck.'\n",
      " '@indystar What a worthless piece of shit'\n",
      " '@USCISCuccinelli @realDonaldTrump Fuck you Ken']\n",
      "[\"@realDonaldTrump Oh my God, you are fucking pathetic! I don't think I have ever seen a needier piece of shit in all… https://t.co/2502pYs4Ko\"\n",
      " '@CinDMcD @rene_los @CNN Better than idiots like you openly admitting you support a fucking traitor.'\n",
      " '@SenatorCollins Fuck off, you soulless traitor!'\n",
      " '@EliseStefanik @realDonaldTrump You are fucking trash! #TrashStefanik #TrashyStefenik #TrashyElise'\n",
      " '@IvankaTrump Fuck you, #NepotismBarbie!'\n",
      " '@Jessy_v1g @johnpavlovitz @realDonaldTrump Wherever the fuck you want.'\n",
      " '@realDonaldTrump You are a lying sack of shit!'\n",
      " \"@Makesmewonder15 @JohnDRobinson @PrisGonzalez_ @realDonaldTrump In other words, he's a fucking idiot spouting gibbe… https://t.co/g1zbeFdQOS\"\n",
      " \"@politico No, he's still a piece of shit.\"\n",
      " \"No, he's still a piece of shit. https://t.co/MZBXpWiqZs\"\n",
      " '@RandPaul Nobody fucking cares about the whistleblower. Their testimony is already independently corroborated by ma… https://t.co/sOB0rNqVy1'\n",
      " '@RepMattGaetz Wow... you are really fucking stupid. I mean REALLY REALLY fucking stupid.'\n",
      " '@Franklin_Graham @POTUS @realDonaldTrump The fucking EC gave us Trump, not the People. He lost the popular vote by… https://t.co/sbSptAYKk4'\n",
      " '@TulsiGabbard Fuck off.'\n",
      " 'Republicans are fucking stupid. Period. End of story.'\n",
      " '@realDonaldTrump There was no ceasefire. Turks are killing Kurds again. You are a fucking piece of shit!'\n",
      " 'To HELL with @realDonaldTrump and ALL of his fucking soulless @GOP minions! The murderous bitch who killed Mr. Dunn… https://t.co/NSnNztZIDf'\n",
      " \"@VickyFlanagan10 @billadler @realDonaldTrump @OANN Who fucking cares about the Clintons? They aren't the assholes c… https://t.co/EIYTIuHqJ7\"]\n"
     ]
    }
   ],
   "source": [
    "senete_harrasing_user_scores = {}\n",
    "for uid, tweets in senete_harrasing_user_tweets.items():\n",
    "    if len(tweets) < 500 or uid in senete_harrasing_user_scores:\n",
    "        continue\n",
    "    preds = p.predict_proba(tweets)[:, 1]\n",
    "    \n",
    "    frac = (preds > 0.8).sum() / len(preds)\n",
    "    if frac > 0.01:\n",
    "        print(np.array(tweets)[preds > 0.8])\n",
    "    senete_harrasing_user_scores[uid] = frac"
   ]
  },
  {
   "cell_type": "code",
   "execution_count": 55,
   "metadata": {},
   "outputs": [
    {
     "data": {
      "application/vnd.plotly.v1+json": {
       "config": {
        "linkText": "Export to plot.ly",
        "plotlyServerURL": "https://plot.ly",
        "showLink": false
       },
       "data": [
        {
         "histnorm": "probability",
         "name": "Senete Harassers",
         "type": "histogram",
         "x": [
          0.0057361376673040155,
          0,
          0,
          0.009233610341643583,
          0.000949667616334283,
          0.0013759889920880633,
          0.005917159763313609,
          0.0031413612565445027,
          0.03893178893178893,
          0,
          0.020293122886133032,
          0.007422680412371134
         ]
        },
        {
         "histnorm": "probability",
         "name": "Control",
         "type": "histogram",
         "x": [
          0.0011574074074074073,
          0.003883495145631068,
          0,
          0,
          0.006873977086743044,
          0.0031116297160637884,
          0.013811123553564763,
          0,
          0.00130605137135394,
          0.014512785072563926,
          0,
          0.002259036144578313,
          0,
          0,
          0.031746031746031744,
          0.0014587892049598833,
          0,
          0.0017699115044247787,
          0.0018365472910927456,
          0,
          0.018820577164366373,
          0,
          0.004799040191961607,
          0.003769317753486619,
          0.0009894459102902375,
          0.007633587786259542,
          0,
          0.01405152224824356,
          0.022963367960634227,
          0.007451564828614009,
          0,
          0.001085383502170767,
          0.005414410662224073,
          0.018948365703458078,
          0.006896551724137931,
          0,
          0.003932363350373574,
          0.013784461152882205,
          0.009485771342985522,
          0.0019398642095053346,
          0,
          0.0011409013120365088,
          0,
          0.0017035775127768314,
          0.0011242270938729624,
          0.0033613445378151263,
          0.0010576414595452142,
          0,
          0.0028653295128939827,
          0.018591772151898733,
          0,
          0.005820721769499418,
          0.0053226879574184965,
          0.00035919540229885057,
          0.007712082262210797,
          0.003400075557234605,
          0.0011248593925759281,
          0.00659444182760245,
          0.021634615384615384,
          0.0025026814444047193,
          0.003560528992878942,
          0,
          0.000693000693000693,
          0,
          0,
          0,
          0.012671059300557527,
          0,
          0,
          0,
          0.0031628887717448603,
          0.01365328920148945,
          0.019251336898395723,
          0.02586713697824809,
          0.012411347517730497,
          0.002826633165829146,
          0.0006472491909385113,
          0.0004088307440719542,
          0,
          0,
          0,
          0,
          0,
          0.02462330025725836,
          0.002631578947368421,
          0.0041841004184100415,
          0,
          0.005286069651741294,
          0.006019261637239166,
          0,
          0.007544322897019992,
          0.008025682182985553,
          0.004276114844227245,
          0.018223234624145785,
          0.0009372071227741331,
          0,
          0.013555787278415016,
          0,
          0,
          0.0024656569214512153,
          0,
          0.033182503770739065,
          0.011017838405036727,
          0.006711409395973154,
          0,
          0.009179575444635685,
          0,
          0.002722940776038121,
          0.002271866717152594,
          0,
          0.00032092426187419767,
          0,
          0.005742725880551302,
          0.011508951406649617,
          0.0015475085112968121,
          0,
          0.0036870135190495697,
          0.0115990057995029,
          0,
          0.003123048094940662,
          0.0003673769287288758,
          0.008968609865470852,
          0.0009267840593141798,
          0,
          0,
          0.0016778523489932886,
          0.026802218114602587,
          0.0022189349112426036,
          0.011514933429291111,
          0,
          0.00885478158205431,
          0,
          0.01559792027729636,
          0.009453781512605041,
          0.009828009828009828,
          0,
          0,
          0.004554326610279766,
          0.00046860356138706655,
          0.001827485380116959,
          0.0008635578583765112,
          0.010622154779969651,
          0.0017777777777777779,
          0.006160164271047228,
          0.003816793893129771,
          0.001519756838905775,
          0,
          0.013412816691505217,
          0.007486209613869189,
          0.0018656716417910447,
          0,
          0,
          0,
          0,
          0,
          0.003215434083601286,
          0.0027816411682892906,
          0,
          0,
          0.004860267314702308,
          0.003740648379052369,
          0,
          0.011320754716981131,
          0,
          0,
          0,
          0.0058309037900874635,
          0.004589261128958238,
          0.0019940179461615153,
          0.0014727540500736377,
          0.00032690421706440013,
          0.004734848484848485,
          0.0008673026886383347,
          0,
          0,
          0.023076923076923078,
          0,
          0.007345739471106758,
          0,
          0.0023932987634623054,
          0,
          0.003911342894393742,
          0,
          0.002770083102493075,
          0.006778309409888357,
          0.008760951188986232,
          0.017941952506596307,
          0.015037593984962405,
          0.0007062146892655367,
          0,
          0.010884831460674158,
          0,
          0.006938421509106678,
          0.024917724494593323,
          0.0018987341772151898,
          0.0005640157924421884,
          0,
          0.00319693094629156,
          0.0005022601707684581,
          0.003698722259583053,
          0,
          0.0014508523757707653,
          0.0021398002853067048,
          0,
          0,
          0.0059200789343857915,
          0.01131687242798354,
          0.030120481927710843,
          0.007322654462242563,
          0.009309967141292442,
          0.0028284098051539913,
          0.012125079770261647,
          0.01749271137026239,
          0.0034965034965034965,
          0,
          0.0006842285323297981,
          0,
          0.0023378141437755697,
          0,
          0.004050073637702504,
          0.010619469026548672,
          0.0038412291933418692,
          0,
          0.0075,
          0.0008802816901408451,
          0,
          0.012467191601049869,
          0.0006720430107526882,
          0.004796163069544364,
          0,
          0,
          0.00043308791684711995,
          0.0005599104143337066,
          0,
          0.01927710843373494,
          0,
          0.0041025641025641026,
          0.0035810205908683975,
          0.021167883211678833,
          0,
          0.001863932898415657,
          0.0028855402372555306,
          0,
          0.024041585445094216,
          0,
          0.027777777777777776,
          0.002888781896966779,
          0.006691449814126394,
          0,
          0,
          0.0006695681285570807,
          0,
          0.007230430682175416,
          0.0008771929824561404,
          0,
          0.0017248814144027599,
          0
         ]
        }
       ],
       "layout": {
        "template": {
         "data": {
          "bar": [
           {
            "error_x": {
             "color": "#2a3f5f"
            },
            "error_y": {
             "color": "#2a3f5f"
            },
            "marker": {
             "line": {
              "color": "#E5ECF6",
              "width": 0.5
             }
            },
            "type": "bar"
           }
          ],
          "barpolar": [
           {
            "marker": {
             "line": {
              "color": "#E5ECF6",
              "width": 0.5
             }
            },
            "type": "barpolar"
           }
          ],
          "carpet": [
           {
            "aaxis": {
             "endlinecolor": "#2a3f5f",
             "gridcolor": "white",
             "linecolor": "white",
             "minorgridcolor": "white",
             "startlinecolor": "#2a3f5f"
            },
            "baxis": {
             "endlinecolor": "#2a3f5f",
             "gridcolor": "white",
             "linecolor": "white",
             "minorgridcolor": "white",
             "startlinecolor": "#2a3f5f"
            },
            "type": "carpet"
           }
          ],
          "choropleth": [
           {
            "colorbar": {
             "outlinewidth": 0,
             "ticks": ""
            },
            "type": "choropleth"
           }
          ],
          "contour": [
           {
            "colorbar": {
             "outlinewidth": 0,
             "ticks": ""
            },
            "colorscale": [
             [
              0,
              "#0d0887"
             ],
             [
              0.1111111111111111,
              "#46039f"
             ],
             [
              0.2222222222222222,
              "#7201a8"
             ],
             [
              0.3333333333333333,
              "#9c179e"
             ],
             [
              0.4444444444444444,
              "#bd3786"
             ],
             [
              0.5555555555555556,
              "#d8576b"
             ],
             [
              0.6666666666666666,
              "#ed7953"
             ],
             [
              0.7777777777777778,
              "#fb9f3a"
             ],
             [
              0.8888888888888888,
              "#fdca26"
             ],
             [
              1,
              "#f0f921"
             ]
            ],
            "type": "contour"
           }
          ],
          "contourcarpet": [
           {
            "colorbar": {
             "outlinewidth": 0,
             "ticks": ""
            },
            "type": "contourcarpet"
           }
          ],
          "heatmap": [
           {
            "colorbar": {
             "outlinewidth": 0,
             "ticks": ""
            },
            "colorscale": [
             [
              0,
              "#0d0887"
             ],
             [
              0.1111111111111111,
              "#46039f"
             ],
             [
              0.2222222222222222,
              "#7201a8"
             ],
             [
              0.3333333333333333,
              "#9c179e"
             ],
             [
              0.4444444444444444,
              "#bd3786"
             ],
             [
              0.5555555555555556,
              "#d8576b"
             ],
             [
              0.6666666666666666,
              "#ed7953"
             ],
             [
              0.7777777777777778,
              "#fb9f3a"
             ],
             [
              0.8888888888888888,
              "#fdca26"
             ],
             [
              1,
              "#f0f921"
             ]
            ],
            "type": "heatmap"
           }
          ],
          "heatmapgl": [
           {
            "colorbar": {
             "outlinewidth": 0,
             "ticks": ""
            },
            "colorscale": [
             [
              0,
              "#0d0887"
             ],
             [
              0.1111111111111111,
              "#46039f"
             ],
             [
              0.2222222222222222,
              "#7201a8"
             ],
             [
              0.3333333333333333,
              "#9c179e"
             ],
             [
              0.4444444444444444,
              "#bd3786"
             ],
             [
              0.5555555555555556,
              "#d8576b"
             ],
             [
              0.6666666666666666,
              "#ed7953"
             ],
             [
              0.7777777777777778,
              "#fb9f3a"
             ],
             [
              0.8888888888888888,
              "#fdca26"
             ],
             [
              1,
              "#f0f921"
             ]
            ],
            "type": "heatmapgl"
           }
          ],
          "histogram": [
           {
            "marker": {
             "colorbar": {
              "outlinewidth": 0,
              "ticks": ""
             }
            },
            "type": "histogram"
           }
          ],
          "histogram2d": [
           {
            "colorbar": {
             "outlinewidth": 0,
             "ticks": ""
            },
            "colorscale": [
             [
              0,
              "#0d0887"
             ],
             [
              0.1111111111111111,
              "#46039f"
             ],
             [
              0.2222222222222222,
              "#7201a8"
             ],
             [
              0.3333333333333333,
              "#9c179e"
             ],
             [
              0.4444444444444444,
              "#bd3786"
             ],
             [
              0.5555555555555556,
              "#d8576b"
             ],
             [
              0.6666666666666666,
              "#ed7953"
             ],
             [
              0.7777777777777778,
              "#fb9f3a"
             ],
             [
              0.8888888888888888,
              "#fdca26"
             ],
             [
              1,
              "#f0f921"
             ]
            ],
            "type": "histogram2d"
           }
          ],
          "histogram2dcontour": [
           {
            "colorbar": {
             "outlinewidth": 0,
             "ticks": ""
            },
            "colorscale": [
             [
              0,
              "#0d0887"
             ],
             [
              0.1111111111111111,
              "#46039f"
             ],
             [
              0.2222222222222222,
              "#7201a8"
             ],
             [
              0.3333333333333333,
              "#9c179e"
             ],
             [
              0.4444444444444444,
              "#bd3786"
             ],
             [
              0.5555555555555556,
              "#d8576b"
             ],
             [
              0.6666666666666666,
              "#ed7953"
             ],
             [
              0.7777777777777778,
              "#fb9f3a"
             ],
             [
              0.8888888888888888,
              "#fdca26"
             ],
             [
              1,
              "#f0f921"
             ]
            ],
            "type": "histogram2dcontour"
           }
          ],
          "mesh3d": [
           {
            "colorbar": {
             "outlinewidth": 0,
             "ticks": ""
            },
            "type": "mesh3d"
           }
          ],
          "parcoords": [
           {
            "line": {
             "colorbar": {
              "outlinewidth": 0,
              "ticks": ""
             }
            },
            "type": "parcoords"
           }
          ],
          "scatter": [
           {
            "marker": {
             "colorbar": {
              "outlinewidth": 0,
              "ticks": ""
             }
            },
            "type": "scatter"
           }
          ],
          "scatter3d": [
           {
            "line": {
             "colorbar": {
              "outlinewidth": 0,
              "ticks": ""
             }
            },
            "marker": {
             "colorbar": {
              "outlinewidth": 0,
              "ticks": ""
             }
            },
            "type": "scatter3d"
           }
          ],
          "scattercarpet": [
           {
            "marker": {
             "colorbar": {
              "outlinewidth": 0,
              "ticks": ""
             }
            },
            "type": "scattercarpet"
           }
          ],
          "scattergeo": [
           {
            "marker": {
             "colorbar": {
              "outlinewidth": 0,
              "ticks": ""
             }
            },
            "type": "scattergeo"
           }
          ],
          "scattergl": [
           {
            "marker": {
             "colorbar": {
              "outlinewidth": 0,
              "ticks": ""
             }
            },
            "type": "scattergl"
           }
          ],
          "scattermapbox": [
           {
            "marker": {
             "colorbar": {
              "outlinewidth": 0,
              "ticks": ""
             }
            },
            "type": "scattermapbox"
           }
          ],
          "scatterpolar": [
           {
            "marker": {
             "colorbar": {
              "outlinewidth": 0,
              "ticks": ""
             }
            },
            "type": "scatterpolar"
           }
          ],
          "scatterpolargl": [
           {
            "marker": {
             "colorbar": {
              "outlinewidth": 0,
              "ticks": ""
             }
            },
            "type": "scatterpolargl"
           }
          ],
          "scatterternary": [
           {
            "marker": {
             "colorbar": {
              "outlinewidth": 0,
              "ticks": ""
             }
            },
            "type": "scatterternary"
           }
          ],
          "surface": [
           {
            "colorbar": {
             "outlinewidth": 0,
             "ticks": ""
            },
            "colorscale": [
             [
              0,
              "#0d0887"
             ],
             [
              0.1111111111111111,
              "#46039f"
             ],
             [
              0.2222222222222222,
              "#7201a8"
             ],
             [
              0.3333333333333333,
              "#9c179e"
             ],
             [
              0.4444444444444444,
              "#bd3786"
             ],
             [
              0.5555555555555556,
              "#d8576b"
             ],
             [
              0.6666666666666666,
              "#ed7953"
             ],
             [
              0.7777777777777778,
              "#fb9f3a"
             ],
             [
              0.8888888888888888,
              "#fdca26"
             ],
             [
              1,
              "#f0f921"
             ]
            ],
            "type": "surface"
           }
          ],
          "table": [
           {
            "cells": {
             "fill": {
              "color": "#EBF0F8"
             },
             "line": {
              "color": "white"
             }
            },
            "header": {
             "fill": {
              "color": "#C8D4E3"
             },
             "line": {
              "color": "white"
             }
            },
            "type": "table"
           }
          ]
         },
         "layout": {
          "annotationdefaults": {
           "arrowcolor": "#2a3f5f",
           "arrowhead": 0,
           "arrowwidth": 1
          },
          "colorscale": {
           "diverging": [
            [
             0,
             "#8e0152"
            ],
            [
             0.1,
             "#c51b7d"
            ],
            [
             0.2,
             "#de77ae"
            ],
            [
             0.3,
             "#f1b6da"
            ],
            [
             0.4,
             "#fde0ef"
            ],
            [
             0.5,
             "#f7f7f7"
            ],
            [
             0.6,
             "#e6f5d0"
            ],
            [
             0.7,
             "#b8e186"
            ],
            [
             0.8,
             "#7fbc41"
            ],
            [
             0.9,
             "#4d9221"
            ],
            [
             1,
             "#276419"
            ]
           ],
           "sequential": [
            [
             0,
             "#0d0887"
            ],
            [
             0.1111111111111111,
             "#46039f"
            ],
            [
             0.2222222222222222,
             "#7201a8"
            ],
            [
             0.3333333333333333,
             "#9c179e"
            ],
            [
             0.4444444444444444,
             "#bd3786"
            ],
            [
             0.5555555555555556,
             "#d8576b"
            ],
            [
             0.6666666666666666,
             "#ed7953"
            ],
            [
             0.7777777777777778,
             "#fb9f3a"
            ],
            [
             0.8888888888888888,
             "#fdca26"
            ],
            [
             1,
             "#f0f921"
            ]
           ],
           "sequentialminus": [
            [
             0,
             "#0d0887"
            ],
            [
             0.1111111111111111,
             "#46039f"
            ],
            [
             0.2222222222222222,
             "#7201a8"
            ],
            [
             0.3333333333333333,
             "#9c179e"
            ],
            [
             0.4444444444444444,
             "#bd3786"
            ],
            [
             0.5555555555555556,
             "#d8576b"
            ],
            [
             0.6666666666666666,
             "#ed7953"
            ],
            [
             0.7777777777777778,
             "#fb9f3a"
            ],
            [
             0.8888888888888888,
             "#fdca26"
            ],
            [
             1,
             "#f0f921"
            ]
           ]
          },
          "colorway": [
           "#636efa",
           "#EF553B",
           "#00cc96",
           "#ab63fa",
           "#FFA15A",
           "#19d3f3",
           "#FF6692",
           "#B6E880",
           "#FF97FF",
           "#FECB52"
          ],
          "font": {
           "color": "#2a3f5f"
          },
          "geo": {
           "bgcolor": "white",
           "lakecolor": "white",
           "landcolor": "#E5ECF6",
           "showlakes": true,
           "showland": true,
           "subunitcolor": "white"
          },
          "hoverlabel": {
           "align": "left"
          },
          "hovermode": "closest",
          "mapbox": {
           "style": "light"
          },
          "paper_bgcolor": "white",
          "plot_bgcolor": "#E5ECF6",
          "polar": {
           "angularaxis": {
            "gridcolor": "white",
            "linecolor": "white",
            "ticks": ""
           },
           "bgcolor": "#E5ECF6",
           "radialaxis": {
            "gridcolor": "white",
            "linecolor": "white",
            "ticks": ""
           }
          },
          "scene": {
           "xaxis": {
            "backgroundcolor": "#E5ECF6",
            "gridcolor": "white",
            "gridwidth": 2,
            "linecolor": "white",
            "showbackground": true,
            "ticks": "",
            "zerolinecolor": "white"
           },
           "yaxis": {
            "backgroundcolor": "#E5ECF6",
            "gridcolor": "white",
            "gridwidth": 2,
            "linecolor": "white",
            "showbackground": true,
            "ticks": "",
            "zerolinecolor": "white"
           },
           "zaxis": {
            "backgroundcolor": "#E5ECF6",
            "gridcolor": "white",
            "gridwidth": 2,
            "linecolor": "white",
            "showbackground": true,
            "ticks": "",
            "zerolinecolor": "white"
           }
          },
          "shapedefaults": {
           "line": {
            "color": "#2a3f5f"
           }
          },
          "ternary": {
           "aaxis": {
            "gridcolor": "white",
            "linecolor": "white",
            "ticks": ""
           },
           "baxis": {
            "gridcolor": "white",
            "linecolor": "white",
            "ticks": ""
           },
           "bgcolor": "#E5ECF6",
           "caxis": {
            "gridcolor": "white",
            "linecolor": "white",
            "ticks": ""
           }
          },
          "title": {
           "x": 0.05
          },
          "xaxis": {
           "automargin": true,
           "gridcolor": "white",
           "linecolor": "white",
           "ticks": "",
           "zerolinecolor": "white",
           "zerolinewidth": 2
          },
          "yaxis": {
           "automargin": true,
           "gridcolor": "white",
           "linecolor": "white",
           "ticks": "",
           "zerolinecolor": "white",
           "zerolinewidth": 2
          }
         }
        }
       }
      },
      "text/html": [
       "<div>\n",
       "        \n",
       "        \n",
       "            <div id=\"0f9470e6-586c-41a5-8417-7f6c34f31a1b\" class=\"plotly-graph-div\" style=\"height:525px; width:100%;\"></div>\n",
       "            <script type=\"text/javascript\">\n",
       "                require([\"plotly\"], function(Plotly) {\n",
       "                    window.PLOTLYENV=window.PLOTLYENV || {};\n",
       "                    \n",
       "                if (document.getElementById(\"0f9470e6-586c-41a5-8417-7f6c34f31a1b\")) {\n",
       "                    Plotly.newPlot(\n",
       "                        '0f9470e6-586c-41a5-8417-7f6c34f31a1b',\n",
       "                        [{\"histnorm\": \"probability\", \"name\": \"Senete Harassers\", \"type\": \"histogram\", \"x\": [0.0057361376673040155, 0.0, 0.0, 0.009233610341643583, 0.000949667616334283, 0.0013759889920880633, 0.005917159763313609, 0.0031413612565445027, 0.03893178893178893, 0.0, 0.020293122886133032, 0.007422680412371134]}, {\"histnorm\": \"probability\", \"name\": \"Control\", \"type\": \"histogram\", \"x\": [0.0011574074074074073, 0.003883495145631068, 0.0, 0.0, 0.006873977086743044, 0.0031116297160637884, 0.013811123553564763, 0.0, 0.00130605137135394, 0.014512785072563926, 0.0, 0.002259036144578313, 0.0, 0.0, 0.031746031746031744, 0.0014587892049598833, 0.0, 0.0017699115044247787, 0.0018365472910927456, 0.0, 0.018820577164366373, 0.0, 0.004799040191961607, 0.003769317753486619, 0.0009894459102902375, 0.007633587786259542, 0.0, 0.01405152224824356, 0.022963367960634227, 0.007451564828614009, 0.0, 0.001085383502170767, 0.005414410662224073, 0.018948365703458078, 0.006896551724137931, 0.0, 0.003932363350373574, 0.013784461152882205, 0.009485771342985522, 0.0019398642095053346, 0.0, 0.0011409013120365088, 0.0, 0.0017035775127768314, 0.0011242270938729624, 0.0033613445378151263, 0.0010576414595452142, 0.0, 0.0028653295128939827, 0.018591772151898733, 0.0, 0.005820721769499418, 0.0053226879574184965, 0.00035919540229885057, 0.007712082262210797, 0.003400075557234605, 0.0011248593925759281, 0.00659444182760245, 0.021634615384615384, 0.0025026814444047193, 0.003560528992878942, 0.0, 0.000693000693000693, 0.0, 0.0, 0.0, 0.012671059300557527, 0.0, 0.0, 0.0, 0.0031628887717448603, 0.01365328920148945, 0.019251336898395723, 0.02586713697824809, 0.012411347517730497, 0.002826633165829146, 0.0006472491909385113, 0.0004088307440719542, 0.0, 0.0, 0.0, 0.0, 0.0, 0.02462330025725836, 0.002631578947368421, 0.0041841004184100415, 0.0, 0.005286069651741294, 0.006019261637239166, 0.0, 0.007544322897019992, 0.008025682182985553, 0.004276114844227245, 0.018223234624145785, 0.0009372071227741331, 0.0, 0.013555787278415016, 0.0, 0.0, 0.0024656569214512153, 0.0, 0.033182503770739065, 0.011017838405036727, 0.006711409395973154, 0.0, 0.009179575444635685, 0.0, 0.002722940776038121, 0.002271866717152594, 0.0, 0.00032092426187419767, 0.0, 0.005742725880551302, 0.011508951406649617, 0.0015475085112968121, 0.0, 0.0036870135190495697, 0.0115990057995029, 0.0, 0.003123048094940662, 0.0003673769287288758, 0.008968609865470852, 0.0009267840593141798, 0.0, 0.0, 0.0016778523489932886, 0.026802218114602587, 0.0022189349112426036, 0.011514933429291111, 0.0, 0.00885478158205431, 0.0, 0.01559792027729636, 0.009453781512605041, 0.009828009828009828, 0.0, 0.0, 0.004554326610279766, 0.00046860356138706655, 0.001827485380116959, 0.0008635578583765112, 0.010622154779969651, 0.0017777777777777779, 0.006160164271047228, 0.003816793893129771, 0.001519756838905775, 0.0, 0.013412816691505217, 0.007486209613869189, 0.0018656716417910447, 0.0, 0.0, 0.0, 0.0, 0.0, 0.003215434083601286, 0.0027816411682892906, 0.0, 0.0, 0.004860267314702308, 0.003740648379052369, 0.0, 0.011320754716981131, 0.0, 0.0, 0.0, 0.0058309037900874635, 0.004589261128958238, 0.0019940179461615153, 0.0014727540500736377, 0.00032690421706440013, 0.004734848484848485, 0.0008673026886383347, 0.0, 0.0, 0.023076923076923078, 0.0, 0.007345739471106758, 0.0, 0.0023932987634623054, 0.0, 0.003911342894393742, 0.0, 0.002770083102493075, 0.006778309409888357, 0.008760951188986232, 0.017941952506596307, 0.015037593984962405, 0.0007062146892655367, 0.0, 0.010884831460674158, 0.0, 0.006938421509106678, 0.024917724494593323, 0.0018987341772151898, 0.0005640157924421884, 0.0, 0.00319693094629156, 0.0005022601707684581, 0.003698722259583053, 0.0, 0.0014508523757707653, 0.0021398002853067048, 0.0, 0.0, 0.0059200789343857915, 0.01131687242798354, 0.030120481927710843, 0.007322654462242563, 0.009309967141292442, 0.0028284098051539913, 0.012125079770261647, 0.01749271137026239, 0.0034965034965034965, 0.0, 0.0006842285323297981, 0.0, 0.0023378141437755697, 0.0, 0.004050073637702504, 0.010619469026548672, 0.0038412291933418692, 0.0, 0.0075, 0.0008802816901408451, 0.0, 0.012467191601049869, 0.0006720430107526882, 0.004796163069544364, 0.0, 0.0, 0.00043308791684711995, 0.0005599104143337066, 0.0, 0.01927710843373494, 0.0, 0.0041025641025641026, 0.0035810205908683975, 0.021167883211678833, 0.0, 0.001863932898415657, 0.0028855402372555306, 0.0, 0.024041585445094216, 0.0, 0.027777777777777776, 0.002888781896966779, 0.006691449814126394, 0.0, 0.0, 0.0006695681285570807, 0.0, 0.007230430682175416, 0.0008771929824561404, 0.0, 0.0017248814144027599, 0.0]}],\n",
       "                        {\"template\": {\"data\": {\"bar\": [{\"error_x\": {\"color\": \"#2a3f5f\"}, \"error_y\": {\"color\": \"#2a3f5f\"}, \"marker\": {\"line\": {\"color\": \"#E5ECF6\", \"width\": 0.5}}, \"type\": \"bar\"}], \"barpolar\": [{\"marker\": {\"line\": {\"color\": \"#E5ECF6\", \"width\": 0.5}}, \"type\": \"barpolar\"}], \"carpet\": [{\"aaxis\": {\"endlinecolor\": \"#2a3f5f\", \"gridcolor\": \"white\", \"linecolor\": \"white\", \"minorgridcolor\": \"white\", \"startlinecolor\": \"#2a3f5f\"}, \"baxis\": {\"endlinecolor\": \"#2a3f5f\", \"gridcolor\": \"white\", \"linecolor\": \"white\", \"minorgridcolor\": \"white\", \"startlinecolor\": \"#2a3f5f\"}, \"type\": \"carpet\"}], \"choropleth\": [{\"colorbar\": {\"outlinewidth\": 0, \"ticks\": \"\"}, \"type\": \"choropleth\"}], \"contour\": [{\"colorbar\": {\"outlinewidth\": 0, \"ticks\": \"\"}, \"colorscale\": [[0.0, \"#0d0887\"], [0.1111111111111111, \"#46039f\"], [0.2222222222222222, \"#7201a8\"], [0.3333333333333333, \"#9c179e\"], [0.4444444444444444, \"#bd3786\"], [0.5555555555555556, \"#d8576b\"], [0.6666666666666666, \"#ed7953\"], [0.7777777777777778, \"#fb9f3a\"], [0.8888888888888888, \"#fdca26\"], [1.0, \"#f0f921\"]], \"type\": \"contour\"}], \"contourcarpet\": [{\"colorbar\": {\"outlinewidth\": 0, \"ticks\": \"\"}, \"type\": \"contourcarpet\"}], \"heatmap\": [{\"colorbar\": {\"outlinewidth\": 0, \"ticks\": \"\"}, \"colorscale\": [[0.0, \"#0d0887\"], [0.1111111111111111, \"#46039f\"], [0.2222222222222222, \"#7201a8\"], [0.3333333333333333, \"#9c179e\"], [0.4444444444444444, \"#bd3786\"], [0.5555555555555556, \"#d8576b\"], [0.6666666666666666, \"#ed7953\"], [0.7777777777777778, \"#fb9f3a\"], [0.8888888888888888, \"#fdca26\"], [1.0, \"#f0f921\"]], \"type\": \"heatmap\"}], \"heatmapgl\": [{\"colorbar\": {\"outlinewidth\": 0, \"ticks\": \"\"}, \"colorscale\": [[0.0, \"#0d0887\"], [0.1111111111111111, \"#46039f\"], [0.2222222222222222, \"#7201a8\"], [0.3333333333333333, \"#9c179e\"], [0.4444444444444444, \"#bd3786\"], [0.5555555555555556, \"#d8576b\"], [0.6666666666666666, \"#ed7953\"], [0.7777777777777778, \"#fb9f3a\"], [0.8888888888888888, \"#fdca26\"], [1.0, \"#f0f921\"]], \"type\": \"heatmapgl\"}], \"histogram\": [{\"marker\": {\"colorbar\": {\"outlinewidth\": 0, \"ticks\": \"\"}}, \"type\": \"histogram\"}], \"histogram2d\": [{\"colorbar\": {\"outlinewidth\": 0, \"ticks\": \"\"}, \"colorscale\": [[0.0, \"#0d0887\"], [0.1111111111111111, \"#46039f\"], [0.2222222222222222, \"#7201a8\"], [0.3333333333333333, \"#9c179e\"], [0.4444444444444444, \"#bd3786\"], [0.5555555555555556, \"#d8576b\"], [0.6666666666666666, \"#ed7953\"], [0.7777777777777778, \"#fb9f3a\"], [0.8888888888888888, \"#fdca26\"], [1.0, \"#f0f921\"]], \"type\": \"histogram2d\"}], \"histogram2dcontour\": [{\"colorbar\": {\"outlinewidth\": 0, \"ticks\": \"\"}, \"colorscale\": [[0.0, \"#0d0887\"], [0.1111111111111111, \"#46039f\"], [0.2222222222222222, \"#7201a8\"], [0.3333333333333333, \"#9c179e\"], [0.4444444444444444, \"#bd3786\"], [0.5555555555555556, \"#d8576b\"], [0.6666666666666666, \"#ed7953\"], [0.7777777777777778, \"#fb9f3a\"], [0.8888888888888888, \"#fdca26\"], [1.0, \"#f0f921\"]], \"type\": \"histogram2dcontour\"}], \"mesh3d\": [{\"colorbar\": {\"outlinewidth\": 0, \"ticks\": \"\"}, \"type\": \"mesh3d\"}], \"parcoords\": [{\"line\": {\"colorbar\": {\"outlinewidth\": 0, \"ticks\": \"\"}}, \"type\": \"parcoords\"}], \"scatter\": [{\"marker\": {\"colorbar\": {\"outlinewidth\": 0, \"ticks\": \"\"}}, \"type\": \"scatter\"}], \"scatter3d\": [{\"line\": {\"colorbar\": {\"outlinewidth\": 0, \"ticks\": \"\"}}, \"marker\": {\"colorbar\": {\"outlinewidth\": 0, \"ticks\": \"\"}}, \"type\": \"scatter3d\"}], \"scattercarpet\": [{\"marker\": {\"colorbar\": {\"outlinewidth\": 0, \"ticks\": \"\"}}, \"type\": \"scattercarpet\"}], \"scattergeo\": [{\"marker\": {\"colorbar\": {\"outlinewidth\": 0, \"ticks\": \"\"}}, \"type\": \"scattergeo\"}], \"scattergl\": [{\"marker\": {\"colorbar\": {\"outlinewidth\": 0, \"ticks\": \"\"}}, \"type\": \"scattergl\"}], \"scattermapbox\": [{\"marker\": {\"colorbar\": {\"outlinewidth\": 0, \"ticks\": \"\"}}, \"type\": \"scattermapbox\"}], \"scatterpolar\": [{\"marker\": {\"colorbar\": {\"outlinewidth\": 0, \"ticks\": \"\"}}, \"type\": \"scatterpolar\"}], \"scatterpolargl\": [{\"marker\": {\"colorbar\": {\"outlinewidth\": 0, \"ticks\": \"\"}}, \"type\": \"scatterpolargl\"}], \"scatterternary\": [{\"marker\": {\"colorbar\": {\"outlinewidth\": 0, \"ticks\": \"\"}}, \"type\": \"scatterternary\"}], \"surface\": [{\"colorbar\": {\"outlinewidth\": 0, \"ticks\": \"\"}, \"colorscale\": [[0.0, \"#0d0887\"], [0.1111111111111111, \"#46039f\"], [0.2222222222222222, \"#7201a8\"], [0.3333333333333333, \"#9c179e\"], [0.4444444444444444, \"#bd3786\"], [0.5555555555555556, \"#d8576b\"], [0.6666666666666666, \"#ed7953\"], [0.7777777777777778, \"#fb9f3a\"], [0.8888888888888888, \"#fdca26\"], [1.0, \"#f0f921\"]], \"type\": \"surface\"}], \"table\": [{\"cells\": {\"fill\": {\"color\": \"#EBF0F8\"}, \"line\": {\"color\": \"white\"}}, \"header\": {\"fill\": {\"color\": \"#C8D4E3\"}, \"line\": {\"color\": \"white\"}}, \"type\": \"table\"}]}, \"layout\": {\"annotationdefaults\": {\"arrowcolor\": \"#2a3f5f\", \"arrowhead\": 0, \"arrowwidth\": 1}, \"colorscale\": {\"diverging\": [[0, \"#8e0152\"], [0.1, \"#c51b7d\"], [0.2, \"#de77ae\"], [0.3, \"#f1b6da\"], [0.4, \"#fde0ef\"], [0.5, \"#f7f7f7\"], [0.6, \"#e6f5d0\"], [0.7, \"#b8e186\"], [0.8, \"#7fbc41\"], [0.9, \"#4d9221\"], [1, \"#276419\"]], \"sequential\": [[0.0, \"#0d0887\"], [0.1111111111111111, \"#46039f\"], [0.2222222222222222, \"#7201a8\"], [0.3333333333333333, \"#9c179e\"], [0.4444444444444444, \"#bd3786\"], [0.5555555555555556, \"#d8576b\"], [0.6666666666666666, \"#ed7953\"], [0.7777777777777778, \"#fb9f3a\"], [0.8888888888888888, \"#fdca26\"], [1.0, \"#f0f921\"]], \"sequentialminus\": [[0.0, \"#0d0887\"], [0.1111111111111111, \"#46039f\"], [0.2222222222222222, \"#7201a8\"], [0.3333333333333333, \"#9c179e\"], [0.4444444444444444, \"#bd3786\"], [0.5555555555555556, \"#d8576b\"], [0.6666666666666666, \"#ed7953\"], [0.7777777777777778, \"#fb9f3a\"], [0.8888888888888888, \"#fdca26\"], [1.0, \"#f0f921\"]]}, \"colorway\": [\"#636efa\", \"#EF553B\", \"#00cc96\", \"#ab63fa\", \"#FFA15A\", \"#19d3f3\", \"#FF6692\", \"#B6E880\", \"#FF97FF\", \"#FECB52\"], \"font\": {\"color\": \"#2a3f5f\"}, \"geo\": {\"bgcolor\": \"white\", \"lakecolor\": \"white\", \"landcolor\": \"#E5ECF6\", \"showlakes\": true, \"showland\": true, \"subunitcolor\": \"white\"}, \"hoverlabel\": {\"align\": \"left\"}, \"hovermode\": \"closest\", \"mapbox\": {\"style\": \"light\"}, \"paper_bgcolor\": \"white\", \"plot_bgcolor\": \"#E5ECF6\", \"polar\": {\"angularaxis\": {\"gridcolor\": \"white\", \"linecolor\": \"white\", \"ticks\": \"\"}, \"bgcolor\": \"#E5ECF6\", \"radialaxis\": {\"gridcolor\": \"white\", \"linecolor\": \"white\", \"ticks\": \"\"}}, \"scene\": {\"xaxis\": {\"backgroundcolor\": \"#E5ECF6\", \"gridcolor\": \"white\", \"gridwidth\": 2, \"linecolor\": \"white\", \"showbackground\": true, \"ticks\": \"\", \"zerolinecolor\": \"white\"}, \"yaxis\": {\"backgroundcolor\": \"#E5ECF6\", \"gridcolor\": \"white\", \"gridwidth\": 2, \"linecolor\": \"white\", \"showbackground\": true, \"ticks\": \"\", \"zerolinecolor\": \"white\"}, \"zaxis\": {\"backgroundcolor\": \"#E5ECF6\", \"gridcolor\": \"white\", \"gridwidth\": 2, \"linecolor\": \"white\", \"showbackground\": true, \"ticks\": \"\", \"zerolinecolor\": \"white\"}}, \"shapedefaults\": {\"line\": {\"color\": \"#2a3f5f\"}}, \"ternary\": {\"aaxis\": {\"gridcolor\": \"white\", \"linecolor\": \"white\", \"ticks\": \"\"}, \"baxis\": {\"gridcolor\": \"white\", \"linecolor\": \"white\", \"ticks\": \"\"}, \"bgcolor\": \"#E5ECF6\", \"caxis\": {\"gridcolor\": \"white\", \"linecolor\": \"white\", \"ticks\": \"\"}}, \"title\": {\"x\": 0.05}, \"xaxis\": {\"automargin\": true, \"gridcolor\": \"white\", \"linecolor\": \"white\", \"ticks\": \"\", \"zerolinecolor\": \"white\", \"zerolinewidth\": 2}, \"yaxis\": {\"automargin\": true, \"gridcolor\": \"white\", \"linecolor\": \"white\", \"ticks\": \"\", \"zerolinecolor\": \"white\", \"zerolinewidth\": 2}}}},\n",
       "                        {\"responsive\": true}\n",
       "                    ).then(function(){\n",
       "                            \n",
       "var gd = document.getElementById('0f9470e6-586c-41a5-8417-7f6c34f31a1b');\n",
       "var x = new MutationObserver(function (mutations, observer) {{\n",
       "        var display = window.getComputedStyle(gd).display;\n",
       "        if (!display || display === 'none') {{\n",
       "            console.log([gd, 'removed!']);\n",
       "            Plotly.purge(gd);\n",
       "            observer.disconnect();\n",
       "        }}\n",
       "}});\n",
       "\n",
       "// Listen for the removal of the full notebook cells\n",
       "var notebookContainer = gd.closest('#notebook-container');\n",
       "if (notebookContainer) {{\n",
       "    x.observe(notebookContainer, {childList: true});\n",
       "}}\n",
       "\n",
       "// Listen for the clearing of the current output cell\n",
       "var outputEl = gd.closest('.output');\n",
       "if (outputEl) {{\n",
       "    x.observe(outputEl, {childList: true});\n",
       "}}\n",
       "\n",
       "                        })\n",
       "                };\n",
       "                });\n",
       "            </script>\n",
       "        </div>"
      ]
     },
     "metadata": {},
     "output_type": "display_data"
    }
   ],
   "source": [
    "py.iplot([\n",
    "#     go.Histogram(x=[u for u in user_scores.values()], name='BlockBot L1', histnorm='probability'),\n",
    "#     go.Histogram(x=[u for u in naziblkr_user_scores.values()], name='Nazi Blocker', histnorm='probability'),\n",
    "    go.Histogram(x=[u for u in senete_harrasing_user_scores.values()], name='Senete Harassers', histnorm='probability'),\n",
    "    go.Histogram(x=[u for u in control_user_scores.values()], name='Control', histnorm='probability'),\n",
    "])"
   ]
  },
  {
   "cell_type": "code",
   "execution_count": null,
   "metadata": {
    "collapsed": true
   },
   "outputs": [],
   "source": [
    "py.iplot([\n",
    "    go.Histogram(x=[len(u) for u in user_tweets.values()], name='BlockBot L1', histnorm='probability'),\n",
    "    go.Histogram(x=[len(u) for u in control_user_tweets.values()], name='Control', histnorm='probability'),\n",
    "])"
   ]
  },
  {
   "cell_type": "code",
   "execution_count": 7,
   "metadata": {
    "collapsed": true
   },
   "outputs": [],
   "source": [
    "senate_target_users = [\n",
    "    'SenHydeSmith',\n",
    "    'SenTinaSmith',\n",
    "    'gillibrandny',\n",
    "    'SenJackyRosen',\n",
    "    'SenCortezMasto',\n",
    "    'SenKamalaHarris',\n",
    "    'SenMcSallyAZ',\n",
    "    'SenJoniErnst',\n",
    "    'SenatorSinema',\n",
    "    'SenatorBaldwin',\n",
    "    'SenatorFischer',\n",
    "    'SenDuckworth',\n",
    "    'SenWarren',\n",
    "    'SenatorHassan',\n",
    "    'SenFeinstein',\n",
    "    'PattyMurray',\n",
    "    'MarshaBlackburn',\n",
    "    'SenCapito',\n",
    "    'SenatorCantwell',\n",
    "    'SenatorShaheen',\n",
    "    'maziehirono',\n",
    "    'SenStabenow',\n",
    "    'SenAmyKlobuchar',\n",
    "    'SenatorCollins',\n",
    "    'lisamurkowski'\n",
    "]"
   ]
  },
  {
   "cell_type": "code",
   "execution_count": 11,
   "metadata": {
    "scrolled": true
   },
   "outputs": [
    {
     "name": "stdout",
     "output_type": "stream",
     "text": [
      "SenHydeSmith\n"
     ]
    },
    {
     "name": "stderr",
     "output_type": "stream",
     "text": [
      "/usr/lib/python3.6/re.py:212: FutureWarning:\n",
      "\n",
      "split() requires a non-empty pattern match.\n",
      "\n"
     ]
    },
    {
     "name": "stdout",
     "output_type": "stream",
     "text": [
      "['@SenHydeSmith is another piece of shit GOP bought off by the NRA. She blocked a gun bill WHILE this shooting occurr… https://t.co/rK8I1ECBIY']\n",
      "SenTinaSmith\n",
      "[]\n",
      "gillibrandny\n",
      "[]\n",
      "SenJackyRosen\n",
      "['@SenJackyRosen Look at this, no fear spouting Harry Reids shit']\n",
      "SenCortezMasto\n",
      "[]\n",
      "SenKamalaHarris\n",
      "[\"RT @PieMan9669: @SenKamalaHarris Are you saying Native men murder at 10x the national average? That's some racist shit.\"\n",
      " \"@SenKamalaHarris Are you saying Native men murder at 10x the national average? That's some racist shit.\"]\n",
      "SenMcSallyAZ\n",
      "[]\n",
      "SenJoniErnst\n",
      "['@IWF @SenJoniErnst And it/you ignore Male victims.\\nVAWA is feminist bull shit.'\n",
      " '@ColMorrisDavis @realDonaldTrump Actually, he’s just BAT SHIT CRAZY.💩\\n@realDonaldTrump @WhiteHouse @whca @FLOTUS… https://t.co/VtO9hefM53']\n",
      "SenatorSinema\n",
      "[]\n",
      "SenatorBaldwin\n",
      "[]\n",
      "SenatorFischer\n",
      "[]\n",
      "SenDuckworth\n",
      "['@llilly @SenDuckworth @EsperDoD @realDonaldTrump @DeptofDefense THEN WATCH HIS SHIT AGAIN. WHILE YOU CODDLE OUR ENE… https://t.co/j9XJMToeID']\n",
      "SenWarren\n",
      "['@SenWarren fuck you']\n",
      "SenatorHassan\n",
      "['@ablenh1 @SenatorHassan Which one is the fuck-you intern and who’s the doxxer? And Hassan is proud of them? #nhpolitics']\n",
      "SenFeinstein\n",
      "[]\n",
      "PattyMurray\n",
      "[]\n",
      "MarshaBlackburn\n",
      "['@conniec35098984 @MarshaBlackburn @VoteMarsha doesn’t give a flying fuck about Hong Kong'\n",
      " '@MarshaBlackburn @RepAdamSchiff I think they’re asking how the fuck did you ever get elected a Senator.']\n",
      "SenCapito\n",
      "[]\n",
      "SenatorCantwell\n",
      "[]\n",
      "SenatorShaheen\n",
      "['@JessicaASmith8 @SenatorBraun @SenatorShaheen @YahooFinance Hard fucking pass']\n",
      "maziehirono\n",
      "[]\n",
      "SenStabenow\n",
      "[]\n",
      "SenAmyKlobuchar\n",
      "['@SenAmyKlobuchar I am with You Senator Klobuchar Kick ass !!!']\n",
      "SenatorCollins\n",
      "['@SenatorCollins is a fucking cowardly traitor to this nation! https://t.co/zjguODvrmW']\n",
      "lisamurkowski\n",
      "[\"@Cvetin @lisamurkowski Bruh..don't fuck with my savings\"]\n"
     ]
    }
   ],
   "source": [
    "harrassing_users = {}\n",
    "for u in senate_target_users:\n",
    "    with open('../data/target_users/' + u + '.p', 'rb') as f:\n",
    "        print(u)\n",
    "        targetted_user_tweets = pickle.load(f)\n",
    "        tweets = [t.text for t in targetted_user_tweets]\n",
    "        users = [t.user.screen_name for t in targetted_user_tweets]\n",
    "        preds = p.predict_proba(tweets)[:, 1]\n",
    "        print(np.array(tweets)[preds > 0.7])\n",
    "        \n",
    "        h_users = np.unique(np.array(users)[(preds > 0.7)])\n",
    "        if len(h_users) > 0:\n",
    "            harrassing_users[u] = h_users\n",
    "        "
   ]
  },
  {
   "cell_type": "code",
   "execution_count": 15,
   "metadata": {
    "collapsed": true
   },
   "outputs": [],
   "source": [
    "harrassing_users_list = []\n",
    "for users in harrassing_users.values():\n",
    "    harrassing_users_list += list(users)"
   ]
  },
  {
   "cell_type": "code",
   "execution_count": 17,
   "metadata": {},
   "outputs": [
    {
     "name": "stderr",
     "output_type": "stream",
     "text": [
      "/usr/local/lib/python3.6/dist-packages/ipykernel_launcher.py:1: ResourceWarning:\n",
      "\n",
      "unclosed file <_io.BufferedWriter name='../data/senete_harrassing_users.p'>\n",
      "\n"
     ]
    }
   ],
   "source": [
    "pickle.dump((harrassing_users, harrassing_users_list), open('../data/senete_harrassing_users.p', 'wb'))"
   ]
  },
  {
   "cell_type": "code",
   "execution_count": 76,
   "metadata": {
    "scrolled": true
   },
   "outputs": [
    {
     "name": "stderr",
     "output_type": "stream",
     "text": [
      "/usr/local/lib/python3.6/dist-packages/ipykernel_launcher.py:1: ResourceWarning:\n",
      "\n",
      "unclosed file <_io.BufferedReader name='../data/female_dailymail.p'>\n",
      "\n"
     ]
    }
   ],
   "source": [
    "nyt_users = pickle.load(open('../data/female_dailymail.p', 'rb'))\n",
    "nyt_users = [u.screen_name for u in nyt_users]\n",
    "\n",
    "harrassing_users = {}\n",
    "for u in nyt_users:\n",
    "    path = '../data/target_users/' + u + '.p'\n",
    "    if not os.path.isfile(path):\n",
    "        continue\n",
    "    with open(path, 'rb') as f:\n",
    "        print(u)\n",
    "        targetted_user_tweets = pickle.load(f)\n",
    "        if len(targetted_user_tweets) == 0:\n",
    "            continue\n",
    "        tweets = [t.text for t in targetted_user_tweets]\n",
    "        users = [t.user.screen_name for t in targetted_user_tweets]\n",
    "        preds = p.predict_proba(tweets)[:, 1]\n",
    "        print(np.array(tweets)[preds > 0.7])\n",
    "        \n",
    "        h_users = np.unique(np.array(users)[(preds > 0.7)])\n",
    "        if len(h_users) > 0:\n",
    "            harrassing_users[u] = h_users\n",
    "        "
   ]
  },
  {
   "cell_type": "code",
   "execution_count": 77,
   "metadata": {},
   "outputs": [
    {
     "data": {
      "text/plain": [
       "['health_kate',\n",
       " 'health_justine',\n",
       " 'IsabelOakeshott',\n",
       " 'RealLizJones',\n",
       " 'katienicholl',\n",
       " 'lizmavor',\n",
       " 'EMD1990',\n",
       " 'MelanieLatest',\n",
       " 'TamaraAbraham',\n",
       " 'Emine_Sinmaz',\n",
       " 'AlexisParrDiary',\n",
       " 'larisamlbrown',\n",
       " 'J_Reilly',\n",
       " 'L_M_Davis',\n",
       " 'LindsArchibald',\n",
       " 'RE_DailyMail',\n",
       " 'byRebeccaEvans',\n",
       " 'louise_eccles',\n",
       " 'lmwilliamson7',\n",
       " 'the_topspin',\n",
       " 'Jenny_Stanton',\n",
       " 'Lucy_Osborne',\n",
       " 'bianca_london',\n",
       " 'IonaKirby',\n",
       " 'kerushton',\n",
       " 'RuthLythe',\n",
       " 'anneshooter',\n",
       " 'VBischoff',\n",
       " 'KatherinThomson',\n",
       " 'marthakelner',\n",
       " 'MyraButterworth',\n",
       " 'suzanne_moore',\n",
       " 'deborahross',\n",
       " 'laraking',\n",
       " 'k_faulkner',\n",
       " 'jolienovak']"
      ]
     },
     "execution_count": 77,
     "metadata": {},
     "output_type": "execute_result"
    }
   ],
   "source": [
    "nyt_users"
   ]
  },
  {
   "cell_type": "code",
   "execution_count": 63,
   "metadata": {
    "collapsed": true
   },
   "outputs": [],
   "source": [
    "harrassing_users_list = []\n",
    "for users in harrassing_users.values():\n",
    "    harrassing_users_list += list(users)"
   ]
  },
  {
   "cell_type": "code",
   "execution_count": 65,
   "metadata": {},
   "outputs": [
    {
     "name": "stderr",
     "output_type": "stream",
     "text": [
      "/usr/local/lib/python3.6/dist-packages/ipykernel_launcher.py:1: ResourceWarning:\n",
      "\n",
      "unclosed file <_io.BufferedWriter name='../data/nyt_harrassing_users.p'>\n",
      "\n"
     ]
    }
   ],
   "source": [
    "pickle.dump((harrassing_users, harrassing_users_list), open('../data/nyt_harrassing_users.p', 'wb'))"
   ]
  },
  {
   "cell_type": "code",
   "execution_count": null,
   "metadata": {
    "collapsed": true
   },
   "outputs": [],
   "source": [
    "tweets = [t.text for t in targetted_user_tweets]\n",
    "users = [t.user.screen_name for t in targetted_user_tweets]\n",
    "preds = p.predict_proba(tweets)[:, 1]"
   ]
  },
  {
   "cell_type": "code",
   "execution_count": null,
   "metadata": {
    "collapsed": true
   },
   "outputs": [],
   "source": [
    "np.array(preds)[(preds > 0.5)]"
   ]
  },
  {
   "cell_type": "code",
   "execution_count": null,
   "metadata": {
    "collapsed": true
   },
   "outputs": [],
   "source": [
    "np.array(users)[(preds > 0.5)]"
   ]
  },
  {
   "cell_type": "code",
   "execution_count": null,
   "metadata": {
    "collapsed": true
   },
   "outputs": [],
   "source": [
    "np.array(tweets)[(preds > 0.5)]\n"
   ]
  },
  {
   "cell_type": "code",
   "execution_count": 66,
   "metadata": {
    "collapsed": true
   },
   "outputs": [],
   "source": [
    "auth = tweepy.OAuthHandler('QLbvBAuKCD9GOSMzM4ly3Jueb', '9qX5Suoeuoyccict1tkbCheJC42djHrIu71pL0GYnxw1DEhSSp')\n",
    "auth.set_access_token('430684463-hPPEVIKcDIiLGqxw37XuYRgvXNxIBXHO9NZeYz3o', 'GZ8K5u3SLjdWvXPHSrgfWfyvpAkfKLr8csFo80UBECZ5h')\n",
    "api = tweepy.API(auth)\n",
    "\n",
    "def limit_handled(cursor):\n",
    "    while True:\n",
    "        try:\n",
    "            yield cursor.next()\n",
    "        except tweepy.RateLimitError:\n",
    "            time.sleep(15 * 60)\n",
    "        except tweepy.TweepError as e:\n",
    "            print(e)\n",
    "            time.sleep(15 * 60)\n",
    "\n",
    "def get_all_tweets(screen_name):\n",
    "    alltweets = []\n",
    "    new_tweets = api.user_timeline(screen_name=screen_name,count=200)\n",
    "\n",
    "    #save most recent tweets\n",
    "    alltweets.extend(new_tweets)\n",
    "    if len(alltweets) == 0:\n",
    "        return alltweets\n",
    "    \n",
    "    #save the id of the oldest tweet less one\n",
    "    oldest = alltweets[-1].id - 1\n",
    "\n",
    "    #keep grabbing tweets until there are no tweets left to grab\n",
    "    while len(new_tweets) > 0:\n",
    "        print(\"getting tweets before %s\" % (oldest))\n",
    "\n",
    "        #all subsiquent requests use the max_id param to prevent duplicates\n",
    "        new_tweets = api.user_timeline(screen_name = screen_name,count=200,max_id=oldest)\n",
    "\n",
    "        #save most recent tweets\n",
    "        alltweets.extend(new_tweets)\n",
    "\n",
    "        #update the id of the oldest tweet less one\n",
    "        oldest = alltweets[-1].id - 1\n",
    "\n",
    "        print(\"...%s tweets downloaded so far\" % (len(alltweets)))\n",
    "    return alltweets\n",
    "            \n",
    "def get_mention_tweets(username, limit=4000):\n",
    "    statuses = []\n",
    "    with tqdm(total=limit) as pbar:\n",
    "        for status in limit_handled(tweepy.Cursor(api.search, q='@' + username).items()):\n",
    "            if(len(statuses)) > limit:\n",
    "                break\n",
    "            statuses.append(status)\n",
    "            pbar.update(1)\n",
    "            \n",
    "    return statuses"
   ]
  },
  {
   "cell_type": "code",
   "execution_count": 71,
   "metadata": {
    "collapsed": true
   },
   "outputs": [],
   "source": [
    "scanned_users = [f.replace('../data/harassers_from_targetted/', '').replace('.p', '') for f in glob.glob(\"../data/harassers_from_targetted/*.p\")]"
   ]
  },
  {
   "cell_type": "code",
   "execution_count": 68,
   "metadata": {
    "collapsed": true
   },
   "outputs": [],
   "source": [
    "failed = []"
   ]
  },
  {
   "cell_type": "code",
   "execution_count": 72,
   "metadata": {},
   "outputs": [
    {
     "name": "stdout",
     "output_type": "stream",
     "text": [
      "getting tweets before 1193196869809295359\n",
      "...398 tweets downloaded so far\n",
      "getting tweets before 1182054392607977471\n",
      "...597 tweets downloaded so far\n",
      "getting tweets before 1167622015991390208\n",
      "...795 tweets downloaded so far\n",
      "getting tweets before 1151935132934320128\n",
      "...993 tweets downloaded so far\n",
      "getting tweets before 1133034573011587072\n",
      "...1193 tweets downloaded so far\n",
      "getting tweets before 1125218107952443392\n",
      "...1387 tweets downloaded so far\n",
      "getting tweets before 1116841812919050239\n",
      "...1584 tweets downloaded so far\n",
      "getting tweets before 1107689427550244869\n",
      "...1776 tweets downloaded so far\n",
      "getting tweets before 1096870879592673286\n",
      "...1976 tweets downloaded so far\n",
      "getting tweets before 1076029254477987839\n",
      "...2173 tweets downloaded so far\n",
      "getting tweets before 1024418515082772480\n",
      "...2371 tweets downloaded so far\n",
      "getting tweets before 1000481856268197887\n",
      "...2570 tweets downloaded so far\n",
      "getting tweets before 968937763612524544\n",
      "...2763 tweets downloaded so far\n",
      "getting tweets before 959106129904140289\n",
      "...2955 tweets downloaded so far\n",
      "getting tweets before 953449944471490559\n",
      "...3148 tweets downloaded so far\n",
      "getting tweets before 949874215926337545\n",
      "...3165 tweets downloaded so far\n",
      "getting tweets before 949680700600537087\n",
      "...3165 tweets downloaded so far\n"
     ]
    },
    {
     "name": "stderr",
     "output_type": "stream",
     "text": [
      "/usr/local/lib/python3.6/dist-packages/tweepy/models.py:44: ResourceWarning:\n",
      "\n",
      "unclosed <ssl.SSLSocket fd=61, family=AddressFamily.AF_INET, type=2049, proto=6, laddr=('128.238.147.119', 34506), raddr=('104.244.42.130', 443)>\n",
      "\n",
      "/usr/local/lib/python3.6/dist-packages/ipykernel_launcher.py:8: ResourceWarning:\n",
      "\n",
      "unclosed file <_io.BufferedWriter name='../data/harassers_from_targetted/Derek_IB105.p'>\n",
      "\n",
      "/usr/local/lib/python3.6/dist-packages/tweepy/binder.py:222: ResourceWarning:\n",
      "\n",
      "unclosed <ssl.SSLSocket fd=62, family=AddressFamily.AF_INET, type=2049, proto=6, laddr=('128.238.147.119', 34508), raddr=('104.244.42.130', 443)>\n",
      "\n"
     ]
    },
    {
     "name": "stdout",
     "output_type": "stream",
     "text": [
      "getting tweets before 1201205903879487489\n",
      "...400 tweets downloaded so far\n",
      "getting tweets before 1200536374404943878\n"
     ]
    },
    {
     "name": "stderr",
     "output_type": "stream",
     "text": [
      "/usr/lib/python3/dist-packages/simplejson/decoder.py:400: ResourceWarning:\n",
      "\n",
      "unclosed <ssl.SSLSocket fd=62, family=AddressFamily.AF_INET, type=2049, proto=6, laddr=('128.238.147.119', 34512), raddr=('104.244.42.130', 443)>\n",
      "\n"
     ]
    },
    {
     "name": "stdout",
     "output_type": "stream",
     "text": [
      "...599 tweets downloaded so far\n",
      "getting tweets before 1199912460125425666\n",
      "...799 tweets downloaded so far\n",
      "getting tweets before 1199544519328456703\n",
      "...999 tweets downloaded so far\n",
      "getting tweets before 1199184111732248575\n",
      "...1199 tweets downloaded so far\n",
      "getting tweets before 1199045258346221568\n",
      "...1399 tweets downloaded so far\n",
      "getting tweets before 1198650571894534143\n",
      "...1599 tweets downloaded so far\n",
      "getting tweets before 1198098690394742784\n",
      "...1799 tweets downloaded so far\n",
      "getting tweets before 1197657755588403200\n",
      "...1999 tweets downloaded so far\n",
      "getting tweets before 1197320962015997952\n"
     ]
    },
    {
     "name": "stderr",
     "output_type": "stream",
     "text": [
      "/usr/lib/python3/dist-packages/simplejson/decoder.py:400: ResourceWarning:\n",
      "\n",
      "unclosed <ssl.SSLSocket fd=69, family=AddressFamily.AF_INET, type=2049, proto=6, laddr=('128.238.147.119', 34528), raddr=('104.244.42.130', 443)>\n",
      "\n"
     ]
    },
    {
     "name": "stdout",
     "output_type": "stream",
     "text": [
      "...2199 tweets downloaded so far\n",
      "getting tweets before 1197003377995071489\n",
      "...2399 tweets downloaded so far\n",
      "getting tweets before 1196871931963887616\n"
     ]
    },
    {
     "name": "stderr",
     "output_type": "stream",
     "text": [
      "/usr/lib/python3/dist-packages/simplejson/decoder.py:400: ResourceWarning:\n",
      "\n",
      "unclosed <ssl.SSLSocket fd=74, family=AddressFamily.AF_INET, type=2049, proto=6, laddr=('128.238.147.119', 34464), raddr=('104.244.42.130', 443)>\n",
      "\n",
      "/usr/lib/python3/dist-packages/simplejson/decoder.py:400: ResourceWarning:\n",
      "\n",
      "unclosed <ssl.SSLSocket fd=41, family=AddressFamily.AF_INET, type=2049, proto=6, laddr=('128.238.147.119', 34468), raddr=('104.244.42.130', 443)>\n",
      "\n",
      "/usr/lib/python3/dist-packages/simplejson/decoder.py:400: ResourceWarning:\n",
      "\n",
      "unclosed <ssl.SSLSocket fd=39, family=AddressFamily.AF_INET, type=2049, proto=6, laddr=('128.238.147.119', 34470), raddr=('104.244.42.130', 443)>\n",
      "\n",
      "/usr/lib/python3/dist-packages/simplejson/decoder.py:400: ResourceWarning:\n",
      "\n",
      "unclosed <ssl.SSLSocket fd=45, family=AddressFamily.AF_INET, type=2049, proto=6, laddr=('128.238.147.119', 34474), raddr=('104.244.42.130', 443)>\n",
      "\n",
      "/usr/lib/python3/dist-packages/simplejson/decoder.py:400: ResourceWarning:\n",
      "\n",
      "unclosed <ssl.SSLSocket fd=46, family=AddressFamily.AF_INET, type=2049, proto=6, laddr=('128.238.147.119', 34476), raddr=('104.244.42.130', 443)>\n",
      "\n",
      "/usr/lib/python3/dist-packages/simplejson/decoder.py:400: ResourceWarning:\n",
      "\n",
      "unclosed <ssl.SSLSocket fd=47, family=AddressFamily.AF_INET, type=2049, proto=6, laddr=('128.238.147.119', 34478), raddr=('104.244.42.130', 443)>\n",
      "\n",
      "/usr/lib/python3/dist-packages/simplejson/decoder.py:400: ResourceWarning:\n",
      "\n",
      "unclosed <ssl.SSLSocket fd=48, family=AddressFamily.AF_INET, type=2049, proto=6, laddr=('128.238.147.119', 34480), raddr=('104.244.42.130', 443)>\n",
      "\n",
      "/usr/lib/python3/dist-packages/simplejson/decoder.py:400: ResourceWarning:\n",
      "\n",
      "unclosed <ssl.SSLSocket fd=49, family=AddressFamily.AF_INET, type=2049, proto=6, laddr=('128.238.147.119', 34482), raddr=('104.244.42.130', 443)>\n",
      "\n",
      "/usr/lib/python3/dist-packages/simplejson/decoder.py:400: ResourceWarning:\n",
      "\n",
      "unclosed <ssl.SSLSocket fd=50, family=AddressFamily.AF_INET, type=2049, proto=6, laddr=('128.238.147.119', 34484), raddr=('104.244.42.130', 443)>\n",
      "\n",
      "/usr/lib/python3/dist-packages/simplejson/decoder.py:400: ResourceWarning:\n",
      "\n",
      "unclosed <ssl.SSLSocket fd=51, family=AddressFamily.AF_INET, type=2049, proto=6, laddr=('128.238.147.119', 34486), raddr=('104.244.42.130', 443)>\n",
      "\n",
      "/usr/lib/python3/dist-packages/simplejson/decoder.py:400: ResourceWarning:\n",
      "\n",
      "unclosed <ssl.SSLSocket fd=52, family=AddressFamily.AF_INET, type=2049, proto=6, laddr=('128.238.147.119', 34488), raddr=('104.244.42.130', 443)>\n",
      "\n",
      "/usr/lib/python3/dist-packages/simplejson/decoder.py:400: ResourceWarning:\n",
      "\n",
      "unclosed <ssl.SSLSocket fd=53, family=AddressFamily.AF_INET, type=2049, proto=6, laddr=('128.238.147.119', 34490), raddr=('104.244.42.130', 443)>\n",
      "\n",
      "/usr/lib/python3/dist-packages/simplejson/decoder.py:400: ResourceWarning:\n",
      "\n",
      "unclosed <ssl.SSLSocket fd=54, family=AddressFamily.AF_INET, type=2049, proto=6, laddr=('128.238.147.119', 34492), raddr=('104.244.42.130', 443)>\n",
      "\n",
      "/usr/lib/python3/dist-packages/simplejson/decoder.py:400: ResourceWarning:\n",
      "\n",
      "unclosed <ssl.SSLSocket fd=55, family=AddressFamily.AF_INET, type=2049, proto=6, laddr=('128.238.147.119', 34494), raddr=('104.244.42.130', 443)>\n",
      "\n",
      "/usr/lib/python3/dist-packages/simplejson/decoder.py:400: ResourceWarning:\n",
      "\n",
      "unclosed <ssl.SSLSocket fd=56, family=AddressFamily.AF_INET, type=2049, proto=6, laddr=('128.238.147.119', 34496), raddr=('104.244.42.130', 443)>\n",
      "\n",
      "/usr/lib/python3/dist-packages/simplejson/decoder.py:400: ResourceWarning:\n",
      "\n",
      "unclosed <ssl.SSLSocket fd=57, family=AddressFamily.AF_INET, type=2049, proto=6, laddr=('128.238.147.119', 34498), raddr=('104.244.42.130', 443)>\n",
      "\n",
      "/usr/lib/python3/dist-packages/simplejson/decoder.py:400: ResourceWarning:\n",
      "\n",
      "unclosed <ssl.SSLSocket fd=58, family=AddressFamily.AF_INET, type=2049, proto=6, laddr=('128.238.147.119', 34500), raddr=('104.244.42.130', 443)>\n",
      "\n",
      "/usr/lib/python3/dist-packages/simplejson/decoder.py:400: ResourceWarning:\n",
      "\n",
      "unclosed <ssl.SSLSocket fd=59, family=AddressFamily.AF_INET, type=2049, proto=6, laddr=('128.238.147.119', 34502), raddr=('104.244.42.130', 443)>\n",
      "\n",
      "/usr/lib/python3/dist-packages/simplejson/decoder.py:400: ResourceWarning:\n",
      "\n",
      "unclosed <ssl.SSLSocket fd=60, family=AddressFamily.AF_INET, type=2049, proto=6, laddr=('128.238.147.119', 34504), raddr=('104.244.42.130', 443)>\n",
      "\n",
      "/usr/lib/python3/dist-packages/simplejson/decoder.py:400: ResourceWarning:\n",
      "\n",
      "unclosed <ssl.SSLSocket fd=61, family=AddressFamily.AF_INET, type=2049, proto=6, laddr=('128.238.147.119', 34510), raddr=('104.244.42.130', 443)>\n",
      "\n",
      "/usr/lib/python3/dist-packages/simplejson/decoder.py:400: ResourceWarning:\n",
      "\n",
      "unclosed <ssl.SSLSocket fd=63, family=AddressFamily.AF_INET, type=2049, proto=6, laddr=('128.238.147.119', 34514), raddr=('104.244.42.130', 443)>\n",
      "\n",
      "/usr/lib/python3/dist-packages/simplejson/decoder.py:400: ResourceWarning:\n",
      "\n",
      "unclosed <ssl.SSLSocket fd=62, family=AddressFamily.AF_INET, type=2049, proto=6, laddr=('128.238.147.119', 34516), raddr=('104.244.42.130', 443)>\n",
      "\n",
      "/usr/lib/python3/dist-packages/simplejson/decoder.py:400: ResourceWarning:\n",
      "\n",
      "unclosed <ssl.SSLSocket fd=64, family=AddressFamily.AF_INET, type=2049, proto=6, laddr=('128.238.147.119', 34518), raddr=('104.244.42.130', 443)>\n",
      "\n",
      "/usr/lib/python3/dist-packages/simplejson/decoder.py:400: ResourceWarning:\n",
      "\n",
      "unclosed <ssl.SSLSocket fd=65, family=AddressFamily.AF_INET, type=2049, proto=6, laddr=('128.238.147.119', 34520), raddr=('104.244.42.130', 443)>\n",
      "\n",
      "/usr/lib/python3/dist-packages/simplejson/decoder.py:400: ResourceWarning:\n",
      "\n",
      "unclosed <ssl.SSLSocket fd=66, family=AddressFamily.AF_INET, type=2049, proto=6, laddr=('128.238.147.119', 34522), raddr=('104.244.42.130', 443)>\n",
      "\n",
      "/usr/lib/python3/dist-packages/simplejson/decoder.py:400: ResourceWarning:\n",
      "\n",
      "unclosed <ssl.SSLSocket fd=67, family=AddressFamily.AF_INET, type=2049, proto=6, laddr=('128.238.147.119', 34524), raddr=('104.244.42.130', 443)>\n",
      "\n",
      "/usr/lib/python3/dist-packages/simplejson/decoder.py:400: ResourceWarning:\n",
      "\n",
      "unclosed <ssl.SSLSocket fd=68, family=AddressFamily.AF_INET, type=2049, proto=6, laddr=('128.238.147.119', 34526), raddr=('104.244.42.130', 443)>\n",
      "\n",
      "/usr/lib/python3/dist-packages/simplejson/decoder.py:400: ResourceWarning:\n",
      "\n",
      "unclosed <ssl.SSLSocket fd=70, family=AddressFamily.AF_INET, type=2049, proto=6, laddr=('128.238.147.119', 34530), raddr=('104.244.42.130', 443)>\n",
      "\n",
      "/usr/lib/python3/dist-packages/simplejson/decoder.py:400: ResourceWarning:\n",
      "\n",
      "unclosed <ssl.SSLSocket fd=69, family=AddressFamily.AF_INET, type=2049, proto=6, laddr=('128.238.147.119', 34532), raddr=('104.244.42.130', 443)>\n",
      "\n"
     ]
    },
    {
     "name": "stdout",
     "output_type": "stream",
     "text": [
      "...2598 tweets downloaded so far\n",
      "getting tweets before 1196269982944047104\n",
      "...2797 tweets downloaded so far\n",
      "getting tweets before 1195844918859771904\n",
      "...2997 tweets downloaded so far\n",
      "getting tweets before 1195462178469556224\n",
      "...3196 tweets downloaded so far\n",
      "getting tweets before 1195076995043987455\n",
      "...3225 tweets downloaded so far\n",
      "getting tweets before 1194988389210238977\n",
      "...3225 tweets downloaded so far\n"
     ]
    },
    {
     "name": "stderr",
     "output_type": "stream",
     "text": [
      "/usr/lib/python3.6/urllib/parse.py:825: ResourceWarning:\n",
      "\n",
      "unclosed <ssl.SSLSocket fd=45, family=AddressFamily.AF_INET, type=2049, proto=6, laddr=('128.238.147.119', 34540), raddr=('104.244.42.130', 443)>\n",
      "\n",
      "/usr/local/lib/python3.6/dist-packages/tweepy/binder.py:222: ResourceWarning:\n",
      "\n",
      "unclosed <ssl.SSLSocket fd=46, family=AddressFamily.AF_INET, type=2049, proto=6, laddr=('128.238.147.119', 34542), raddr=('104.244.42.130', 443)>\n",
      "\n",
      "/usr/local/lib/python3.6/dist-packages/ipykernel_launcher.py:8: ResourceWarning:\n",
      "\n",
      "unclosed file <_io.BufferedWriter name='../data/harassers_from_targetted/SueEdelman.p'>\n",
      "\n"
     ]
    },
    {
     "name": "stdout",
     "output_type": "stream",
     "text": [
      "getting tweets before 1200902633239662591\n",
      "...400 tweets downloaded so far\n",
      "getting tweets before 1200306786479177727\n",
      "...600 tweets downloaded so far\n",
      "getting tweets before 1199762263223062527\n",
      "...800 tweets downloaded so far\n",
      "getting tweets before 1199078113218482176\n",
      "...1000 tweets downloaded so far\n",
      "getting tweets before 1198633087552253953\n",
      "...1199 tweets downloaded so far\n",
      "getting tweets before 1198318364721942527\n",
      "...1399 tweets downloaded so far\n",
      "getting tweets before 1197895958966652927\n",
      "...1599 tweets downloaded so far\n",
      "getting tweets before 1197231816253394943\n",
      "...1799 tweets downloaded so far\n",
      "getting tweets before 1196422617810386944\n",
      "...1999 tweets downloaded so far\n",
      "getting tweets before 1195790303560470527\n",
      "...2199 tweets downloaded so far\n",
      "getting tweets before 1194842135473688575\n",
      "...2399 tweets downloaded so far\n",
      "getting tweets before 1193948178199896064\n",
      "...2597 tweets downloaded so far\n",
      "getting tweets before 1192618210593402879\n",
      "...2797 tweets downloaded so far\n",
      "getting tweets before 1191743259590057983\n",
      "...2997 tweets downloaded so far\n",
      "getting tweets before 1191310665425674239\n",
      "...3196 tweets downloaded so far\n",
      "getting tweets before 1190388062494351360\n",
      "...3224 tweets downloaded so far\n",
      "getting tweets before 1190345232405024767\n",
      "...3224 tweets downloaded so far\n"
     ]
    },
    {
     "name": "stderr",
     "output_type": "stream",
     "text": [
      "/usr/local/lib/python3.6/dist-packages/tweepy/models.py:44: ResourceWarning:\n",
      "\n",
      "unclosed <ssl.SSLSocket fd=62, family=AddressFamily.AF_INET, type=2049, proto=6, laddr=('128.238.147.119', 34578), raddr=('104.244.42.130', 443)>\n",
      "\n",
      "/usr/local/lib/python3.6/dist-packages/ipykernel_launcher.py:8: ResourceWarning:\n",
      "\n",
      "unclosed file <_io.BufferedWriter name='../data/harassers_from_targetted/TheJewbyrd7777.p'>\n",
      "\n"
     ]
    }
   ],
   "source": [
    "for user in harrassing_users_list:\n",
    "    if user in scanned_users:\n",
    "        continue\n",
    "    if user in scanned_users or user in failed:\n",
    "        continue\n",
    "    try:\n",
    "        tweets = get_all_tweets(user)\n",
    "        pickle.dump(tweets, open('../data/harassers_from_targetted/' + user + '.p', 'wb'))\n",
    "    except tweepy.RateLimitError:\n",
    "        time.sleep(15 * 60)\n",
    "    except Exception as e:\n",
    "        print(e)\n",
    "        failed.append(user)"
   ]
  },
  {
   "cell_type": "code",
   "execution_count": null,
   "metadata": {
    "collapsed": true,
    "scrolled": true
   },
   "outputs": [],
   "source": [
    "for t in tweets:\n",
    "    print(t.text)"
   ]
  }
 ],
 "metadata": {
  "kernelspec": {
   "display_name": "Python 3",
   "language": "python",
   "name": "python3"
  },
  "language_info": {
   "codemirror_mode": {
    "name": "ipython",
    "version": 3
   },
   "file_extension": ".py",
   "mimetype": "text/x-python",
   "name": "python",
   "nbconvert_exporter": "python",
   "pygments_lexer": "ipython3",
   "version": "3.6.8"
  }
 },
 "nbformat": 4,
 "nbformat_minor": 2
}
