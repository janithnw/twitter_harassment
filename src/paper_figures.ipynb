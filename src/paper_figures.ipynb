{
 "cells": [
  {
   "cell_type": "code",
   "execution_count": 1,
   "metadata": {},
   "outputs": [
    {
     "data": {
      "text/html": [
       "        <script type=\"text/javascript\">\n",
       "        window.PlotlyConfig = {MathJaxConfig: 'local'};\n",
       "        if (window.MathJax) {MathJax.Hub.Config({SVG: {font: \"STIX-Web\"}});}\n",
       "        if (typeof require !== 'undefined') {\n",
       "        require.undef(\"plotly\");\n",
       "        requirejs.config({\n",
       "            paths: {\n",
       "                'plotly': ['https://cdn.plot.ly/plotly-latest.min']\n",
       "            }\n",
       "        });\n",
       "        require(['plotly'], function(Plotly) {\n",
       "            window._Plotly = Plotly;\n",
       "        });\n",
       "        }\n",
       "        </script>\n",
       "        "
      ]
     },
     "metadata": {},
     "output_type": "display_data"
    }
   ],
   "source": [
    "import pandas as pd\n",
    "import numpy as np\n",
    "import pickle\n",
    "import re\n",
    "from tqdm import tqdm\n",
    "\n",
    "\n",
    "import shap\n",
    "from plotly.offline import init_notebook_mode\n",
    "import plotly.offline as py\n",
    "import plotly.graph_objs as go\n",
    "init_notebook_mode(connected=True)\n",
    "\n",
    "import matplotlib.pyplot as plt"
   ]
  },
  {
   "cell_type": "code",
   "execution_count": 14,
   "metadata": {},
   "outputs": [
    {
     "name": "stdout",
     "output_type": "stream",
     "text": [
      "Size:  159571\n",
      "toxic            9.584448\n",
      "severe_toxic     0.999555\n",
      "obscene          5.294822\n",
      "threat           0.299553\n",
      "insult           4.936361\n",
      "identity_hate    0.880486\n",
      "dtype: float64\n"
     ]
    }
   ],
   "source": [
    "df = pd.read_csv(\"../data/datasets/toxic_comment/train.csv\")\n",
    "classes = ['toxic', 'severe_toxic', 'obscene', 'threat', 'insult', 'identity_hate']\n",
    "print('Size: ', len(df))\n",
    "print(df[classes].sum() / len(df) * 100)"
   ]
  },
  {
   "cell_type": "code",
   "execution_count": 15,
   "metadata": {},
   "outputs": [
    {
     "name": "stdout",
     "output_type": "stream",
     "text": [
      "Size:  99996\n",
      "label\n",
      "abusive    27.151086\n",
      "hateful     4.965199\n",
      "normal     53.853154\n",
      "spam       14.030561\n",
      "Name: label, dtype: float64\n"
     ]
    }
   ],
   "source": [
    "df = pd.read_csv(\"../data/datasets/hate_abuse_speech/hatespeech_text_label_vote.csv\", sep='\\t', header=None, names=['text', 'label', 'votes'])\n",
    "print('Size: ', len(df))\n",
    "print(df.groupby('label')['label'].count() / len(df) * 100)"
   ]
  },
  {
   "cell_type": "code",
   "execution_count": 16,
   "metadata": {},
   "outputs": [
    {
     "name": "stdout",
     "output_type": "stream",
     "text": [
      "Size:  24783\n",
      "class\n",
      "0     5.770084\n",
      "1    77.432111\n",
      "2    16.797805\n",
      "Name: class, dtype: float64\n"
     ]
    }
   ],
   "source": [
    "df = pd.read_csv(\"../data/datasets/hatespeech_offensive/labeled_data.csv\")\n",
    "print('Size: ', len(df))\n",
    "print(df.groupby('class')['class'].count() / len(df) * 100)"
   ]
  },
  {
   "cell_type": "code",
   "execution_count": 21,
   "metadata": {},
   "outputs": [
    {
     "name": "stdout",
     "output_type": "stream",
     "text": [
      "Size:  20360\n",
      "Label\n",
      "0    74.04224\n",
      "1    25.95776\n",
      "Name: Label, dtype: float64\n"
     ]
    }
   ],
   "source": [
    "df = pd.read_csv(\"../data/datasets/online_harassment_dataset/onlineHarassmentDataset.tdf\", sep='\\t', encoding='latin-1', memory_map=True)\n",
    "df['Label'] = df['Code'].apply(lambda x: 1 if x == 'H' else 0)\n",
    "df = df[['ID', 'Label', 'Tweet']]\n",
    "print('Size: ', len(df))\n",
    "print(df.groupby('Label')['Label'].count() / len(df) * 100)"
   ]
  },
  {
   "cell_type": "code",
   "execution_count": 20,
   "metadata": {},
   "outputs": [
    {
     "data": {
      "text/html": [
       "<div>\n",
       "<style scoped>\n",
       "    .dataframe tbody tr th:only-of-type {\n",
       "        vertical-align: middle;\n",
       "    }\n",
       "\n",
       "    .dataframe tbody tr th {\n",
       "        vertical-align: top;\n",
       "    }\n",
       "\n",
       "    .dataframe thead th {\n",
       "        text-align: right;\n",
       "    }\n",
       "</style>\n",
       "<table border=\"1\" class=\"dataframe\">\n",
       "  <thead>\n",
       "    <tr style=\"text-align: right;\">\n",
       "      <th></th>\n",
       "      <th>ID</th>\n",
       "      <th>Label</th>\n",
       "      <th>Tweet</th>\n",
       "    </tr>\n",
       "  </thead>\n",
       "  <tbody>\n",
       "    <tr>\n",
       "      <th>0</th>\n",
       "      <td>1</td>\n",
       "      <td>1</td>\n",
       "      <td>@Grumpy_P_Sloth @deanesmay feminists argue for...</td>\n",
       "    </tr>\n",
       "    <tr>\n",
       "      <th>1</th>\n",
       "      <td>2</td>\n",
       "      <td>1</td>\n",
       "      <td>1948Army of England helped the Jews to occupy ...</td>\n",
       "    </tr>\n",
       "    <tr>\n",
       "      <th>2</th>\n",
       "      <td>3</td>\n",
       "      <td>1</td>\n",
       "      <td>Dutch Leader Says Europe to collapse In 6 Week...</td>\n",
       "    </tr>\n",
       "    <tr>\n",
       "      <th>3</th>\n",
       "      <td>4</td>\n",
       "      <td>1</td>\n",
       "      <td>RT @__DeLay: The next day the Romans and the J...</td>\n",
       "    </tr>\n",
       "    <tr>\n",
       "      <th>4</th>\n",
       "      <td>5</td>\n",
       "      <td>1</td>\n",
       "      <td>RT @Bakersman_Joe: When Hitler Invited The Jew...</td>\n",
       "    </tr>\n",
       "    <tr>\n",
       "      <th>...</th>\n",
       "      <td>...</td>\n",
       "      <td>...</td>\n",
       "      <td>...</td>\n",
       "    </tr>\n",
       "    <tr>\n",
       "      <th>20355</th>\n",
       "      <td>20356</td>\n",
       "      <td>1</td>\n",
       "      <td>Would you have intervened to arm the Jews to o...</td>\n",
       "    </tr>\n",
       "    <tr>\n",
       "      <th>20356</th>\n",
       "      <td>20357</td>\n",
       "      <td>1</td>\n",
       "      <td>Would you like me to release to you this King ...</td>\n",
       "    </tr>\n",
       "    <tr>\n",
       "      <th>20357</th>\n",
       "      <td>20358</td>\n",
       "      <td>1</td>\n",
       "      <td>You Fucking Nigger You Did It To Yourself You ...</td>\n",
       "    </tr>\n",
       "    <tr>\n",
       "      <th>20358</th>\n",
       "      <td>20359</td>\n",
       "      <td>1</td>\n",
       "      <td>Young white woman gunned down by black beast i...</td>\n",
       "    </tr>\n",
       "    <tr>\n",
       "      <th>20359</th>\n",
       "      <td>20360</td>\n",
       "      <td>1</td>\n",
       "      <td>Your descendants, the Jews, will be doomed to ...</td>\n",
       "    </tr>\n",
       "  </tbody>\n",
       "</table>\n",
       "<p>20360 rows × 3 columns</p>\n",
       "</div>"
      ],
      "text/plain": [
       "          ID  Label                                              Tweet\n",
       "0          1      1  @Grumpy_P_Sloth @deanesmay feminists argue for...\n",
       "1          2      1  1948Army of England helped the Jews to occupy ...\n",
       "2          3      1  Dutch Leader Says Europe to collapse In 6 Week...\n",
       "3          4      1  RT @__DeLay: The next day the Romans and the J...\n",
       "4          5      1  RT @Bakersman_Joe: When Hitler Invited The Jew...\n",
       "...      ...    ...                                                ...\n",
       "20355  20356      1  Would you have intervened to arm the Jews to o...\n",
       "20356  20357      1  Would you like me to release to you this King ...\n",
       "20357  20358      1  You Fucking Nigger You Did It To Yourself You ...\n",
       "20358  20359      1  Young white woman gunned down by black beast i...\n",
       "20359  20360      1  Your descendants, the Jews, will be doomed to ...\n",
       "\n",
       "[20360 rows x 3 columns]"
      ]
     },
     "execution_count": 20,
     "metadata": {},
     "output_type": "execute_result"
    }
   ],
   "source": [
    "df"
   ]
  },
  {
   "cell_type": "code",
   "execution_count": null,
   "metadata": {
    "collapsed": true
   },
   "outputs": [],
   "source": [
    "def get_toxic_comments_dataset():\n",
    "    # From PerspectiveAI Kaggle competition\n",
    "    df = pd.read_csv(\"../data/datasets/toxic_comment/train.csv\")\n",
    "    classes = ['toxic', 'severe_toxic', 'obscene', 'threat', 'insult', 'identity_hate']\n",
    "    Y = df[classes].astype(int).values\n",
    "    X = df['comment_text']\n",
    "    return X, Y, classes, df\n",
    "\n",
    "# def get_hate_abuse_dataset():\n",
    "#     # From: Large Scale Crowdsourcing and Characterization of Twitter Abusive Behavior\n",
    "#     df = pd.read_csv(\"../data/datasets/hate_abuse_speech/hatespeech_text_label_vote.csv\", sep='\\t', header=None, names=['text', 'label', 'votes'])\n",
    "#     X = df['text']\n",
    "#     Y = df['label']\n",
    "#     classes = np.unique(Y)\n",
    "#     return X, Y.values, classes, df\n",
    "\n",
    "\n",
    "def get_hate_offensive_speech_dataset():\n",
    "    # Automated Hate Speech Detection and the Problem of Offensive Language∗\n",
    "    df = pd.read_csv(\"../data/datasets/hatespeech_offensive/labeled_data.csv\")\n",
    "    X = df['tweet']\n",
    "    Y = df['class']\n",
    "    classes = ['hate', 'offensive', 'neither']\n",
    "    return X, Y, classes, df\n",
    "\n",
    "\n",
    "def get_harassment_umd_dataset():\n",
    "    df = pd.read_csv(\"../data/datasets/online_harassment_dataset/onlineHarassmentDataset.tdf\", sep='\\t', encoding='latin-1', memory_map=True)\n",
    "    df['Label'] = df['Code'].apply(lambda x: 1 if x == 'H' else 0)\n",
    "    df = df[['ID', 'Label', 'Tweet']]\n",
    "    X = df['Tweet']\n",
    "    Y = df['Label'].astype(int)\n",
    "    classes = ['Harassment', 'Normal']\n",
    "    return X, Y, classes, df"
   ]
  }
 ],
 "metadata": {
  "kernelspec": {
   "display_name": "Python 3",
   "language": "python",
   "name": "python3"
  },
  "language_info": {
   "codemirror_mode": {
    "name": "ipython",
    "version": 3
   },
   "file_extension": ".py",
   "mimetype": "text/x-python",
   "name": "python",
   "nbconvert_exporter": "python",
   "pygments_lexer": "ipython3",
   "version": "3.6.8"
  }
 },
 "nbformat": 4,
 "nbformat_minor": 2
}
